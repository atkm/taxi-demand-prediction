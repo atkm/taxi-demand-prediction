{
 "cells": [
  {
   "cell_type": "code",
   "execution_count": 1,
   "metadata": {},
   "outputs": [],
   "source": [
    "import numpy as np\n",
    "import pandas as pd"
   ]
  },
  {
   "cell_type": "code",
   "execution_count": 4,
   "metadata": {},
   "outputs": [
    {
     "data": {
      "text/html": [
       "<div>\n",
       "<style scoped>\n",
       "    .dataframe tbody tr th:only-of-type {\n",
       "        vertical-align: middle;\n",
       "    }\n",
       "\n",
       "    .dataframe tbody tr th {\n",
       "        vertical-align: top;\n",
       "    }\n",
       "\n",
       "    .dataframe thead th {\n",
       "        text-align: right;\n",
       "    }\n",
       "</style>\n",
       "<table border=\"1\" class=\"dataframe\">\n",
       "  <thead>\n",
       "    <tr style=\"text-align: right;\">\n",
       "      <th></th>\n",
       "      <th>vendor_id</th>\n",
       "      <th>pickup_datetime</th>\n",
       "      <th>dropoff_datetime</th>\n",
       "      <th>passenger_count</th>\n",
       "      <th>trip_distance</th>\n",
       "      <th>pickup_longitude</th>\n",
       "      <th>pickup_latitude</th>\n",
       "      <th>rate_code</th>\n",
       "      <th>store_and_fwd_flag</th>\n",
       "      <th>dropoff_longitude</th>\n",
       "      <th>dropoff_latitude</th>\n",
       "      <th>payment_type</th>\n",
       "      <th>fare_amount</th>\n",
       "      <th>surcharge</th>\n",
       "      <th>mta_tax</th>\n",
       "      <th>tip_amount</th>\n",
       "      <th>tolls_amount</th>\n",
       "      <th>total_amount</th>\n",
       "    </tr>\n",
       "  </thead>\n",
       "  <tbody>\n",
       "    <tr>\n",
       "      <th>0</th>\n",
       "      <td>CMT</td>\n",
       "      <td>2014-05-07 09:33:52</td>\n",
       "      <td>2014-05-07 09:52:36</td>\n",
       "      <td>1</td>\n",
       "      <td>1.80</td>\n",
       "      <td>-73.977133</td>\n",
       "      <td>40.747167</td>\n",
       "      <td>1</td>\n",
       "      <td>N</td>\n",
       "      <td>-73.981178</td>\n",
       "      <td>40.765351</td>\n",
       "      <td>CRD</td>\n",
       "      <td>12.5</td>\n",
       "      <td>0.0</td>\n",
       "      <td>0.5</td>\n",
       "      <td>2.60</td>\n",
       "      <td>0.0</td>\n",
       "      <td>15.60</td>\n",
       "    </tr>\n",
       "    <tr>\n",
       "      <th>1</th>\n",
       "      <td>VTS</td>\n",
       "      <td>2014-05-17 22:59:00</td>\n",
       "      <td>2014-05-17 23:09:00</td>\n",
       "      <td>1</td>\n",
       "      <td>2.79</td>\n",
       "      <td>-73.972897</td>\n",
       "      <td>40.743702</td>\n",
       "      <td>1</td>\n",
       "      <td>NaN</td>\n",
       "      <td>-73.987187</td>\n",
       "      <td>40.722415</td>\n",
       "      <td>CRD</td>\n",
       "      <td>11.0</td>\n",
       "      <td>0.5</td>\n",
       "      <td>0.5</td>\n",
       "      <td>0.00</td>\n",
       "      <td>0.0</td>\n",
       "      <td>12.00</td>\n",
       "    </tr>\n",
       "    <tr>\n",
       "      <th>2</th>\n",
       "      <td>VTS</td>\n",
       "      <td>2014-05-10 01:14:00</td>\n",
       "      <td>2014-05-10 01:23:00</td>\n",
       "      <td>2</td>\n",
       "      <td>2.60</td>\n",
       "      <td>-73.947613</td>\n",
       "      <td>40.775355</td>\n",
       "      <td>1</td>\n",
       "      <td>NaN</td>\n",
       "      <td>-73.975252</td>\n",
       "      <td>40.751955</td>\n",
       "      <td>CRD</td>\n",
       "      <td>10.0</td>\n",
       "      <td>0.5</td>\n",
       "      <td>0.5</td>\n",
       "      <td>2.62</td>\n",
       "      <td>0.0</td>\n",
       "      <td>13.62</td>\n",
       "    </tr>\n",
       "    <tr>\n",
       "      <th>3</th>\n",
       "      <td>CMT</td>\n",
       "      <td>2014-05-19 19:33:02</td>\n",
       "      <td>2014-05-19 19:36:39</td>\n",
       "      <td>1</td>\n",
       "      <td>0.80</td>\n",
       "      <td>-73.992872</td>\n",
       "      <td>40.743114</td>\n",
       "      <td>1</td>\n",
       "      <td>N</td>\n",
       "      <td>-73.993951</td>\n",
       "      <td>40.749203</td>\n",
       "      <td>CRD</td>\n",
       "      <td>5.0</td>\n",
       "      <td>1.0</td>\n",
       "      <td>0.5</td>\n",
       "      <td>1.62</td>\n",
       "      <td>0.0</td>\n",
       "      <td>8.12</td>\n",
       "    </tr>\n",
       "    <tr>\n",
       "      <th>4</th>\n",
       "      <td>CMT</td>\n",
       "      <td>2014-05-10 16:43:45</td>\n",
       "      <td>2014-05-10 16:53:36</td>\n",
       "      <td>3</td>\n",
       "      <td>1.80</td>\n",
       "      <td>-73.951445</td>\n",
       "      <td>40.793820</td>\n",
       "      <td>1</td>\n",
       "      <td>N</td>\n",
       "      <td>-73.958757</td>\n",
       "      <td>40.809735</td>\n",
       "      <td>CSH</td>\n",
       "      <td>9.0</td>\n",
       "      <td>0.0</td>\n",
       "      <td>0.5</td>\n",
       "      <td>0.00</td>\n",
       "      <td>0.0</td>\n",
       "      <td>9.50</td>\n",
       "    </tr>\n",
       "  </tbody>\n",
       "</table>\n",
       "</div>"
      ],
      "text/plain": [
       "  vendor_id      pickup_datetime     dropoff_datetime   passenger_count  \\\n",
       "0       CMT  2014-05-07 09:33:52  2014-05-07 09:52:36                 1   \n",
       "1       VTS  2014-05-17 22:59:00  2014-05-17 23:09:00                 1   \n",
       "2       VTS  2014-05-10 01:14:00  2014-05-10 01:23:00                 2   \n",
       "3       CMT  2014-05-19 19:33:02  2014-05-19 19:36:39                 1   \n",
       "4       CMT  2014-05-10 16:43:45  2014-05-10 16:53:36                 3   \n",
       "\n",
       "    trip_distance   pickup_longitude   pickup_latitude   rate_code  \\\n",
       "0            1.80         -73.977133         40.747167           1   \n",
       "1            2.79         -73.972897         40.743702           1   \n",
       "2            2.60         -73.947613         40.775355           1   \n",
       "3            0.80         -73.992872         40.743114           1   \n",
       "4            1.80         -73.951445         40.793820           1   \n",
       "\n",
       "   store_and_fwd_flag   dropoff_longitude   dropoff_latitude  payment_type  \\\n",
       "0                   N          -73.981178          40.765351           CRD   \n",
       "1                 NaN          -73.987187          40.722415           CRD   \n",
       "2                 NaN          -73.975252          40.751955           CRD   \n",
       "3                   N          -73.993951          40.749203           CRD   \n",
       "4                   N          -73.958757          40.809735           CSH   \n",
       "\n",
       "    fare_amount   surcharge   mta_tax   tip_amount   tolls_amount  \\\n",
       "0          12.5         0.0       0.5         2.60            0.0   \n",
       "1          11.0         0.5       0.5         0.00            0.0   \n",
       "2          10.0         0.5       0.5         2.62            0.0   \n",
       "3           5.0         1.0       0.5         1.62            0.0   \n",
       "4           9.0         0.0       0.5         0.00            0.0   \n",
       "\n",
       "    total_amount  \n",
       "0          15.60  \n",
       "1          12.00  \n",
       "2          13.62  \n",
       "3           8.12  \n",
       "4           9.50  "
      ]
     },
     "execution_count": 4,
     "metadata": {},
     "output_type": "execute_result"
    }
   ],
   "source": [
    "yellow_raw = pd.read_csv(\"yellow_tripdata_2014-05-small.csv\")\n",
    "yellow_raw.head()"
   ]
  },
  {
   "cell_type": "code",
   "execution_count": 6,
   "metadata": {},
   "outputs": [
    {
     "data": {
      "text/plain": [
       "Index(['vendor_id', ' pickup_datetime', ' dropoff_datetime',\n",
       "       ' passenger_count', ' trip_distance', ' pickup_longitude',\n",
       "       ' pickup_latitude', ' rate_code', ' store_and_fwd_flag',\n",
       "       ' dropoff_longitude', ' dropoff_latitude', ' payment_type',\n",
       "       ' fare_amount', ' surcharge', ' mta_tax', ' tip_amount',\n",
       "       ' tolls_amount', ' total_amount'],\n",
       "      dtype='object')"
      ]
     },
     "execution_count": 6,
     "metadata": {},
     "output_type": "execute_result"
    }
   ],
   "source": [
    "yellow_raw.columns"
   ]
  },
  {
   "cell_type": "code",
   "execution_count": 3,
   "metadata": {},
   "outputs": [],
   "source": [
    "from uszipcode import ZipcodeSearchEngine\n",
    "search = ZipcodeSearchEngine()"
   ]
  },
  {
   "cell_type": "code",
   "execution_count": 13,
   "metadata": {
    "scrolled": true
   },
   "outputs": [
    {
     "data": {
      "text/plain": [
       "(10000, 19)"
      ]
     },
     "execution_count": 13,
     "metadata": {},
     "output_type": "execute_result"
    }
   ],
   "source": [
    "query_result = yellow_raw.apply(lambda row: search.by_coordinate( \\\n",
    "                    row[' pickup_latitude'], row[' pickup_longitude'], radius=1,returns=1) , axis=1)\n",
    "zips = query_result.apply(lambda z: z[0]['Zipcode'] if len(z) > 0 else 'missing')\n",
    "zips.name = 'zipcode'\n",
    "yellow_with_zip = yellow_raw.join(zips)\n",
    "yellow_with_zip.head(10)\n",
    "yellow_with_zip.shape"
   ]
  },
  {
   "cell_type": "code",
   "execution_count": 14,
   "metadata": {},
   "outputs": [
    {
     "data": {
      "text/plain": [
       "(9723, 19)"
      ]
     },
     "execution_count": 14,
     "metadata": {},
     "output_type": "execute_result"
    }
   ],
   "source": [
    "sum(zips == 'missing') # => 277\n",
    "yellow_with_zip = yellow_with_zip.loc[yellow_with_zip['zipcode'] != 'missing',:]\n",
    "yellow_with_zip.shape"
   ]
  },
  {
   "cell_type": "code",
   "execution_count": 15,
   "metadata": {},
   "outputs": [],
   "source": [
    "yellow_with_zip.to_csv(\"yellow_tripdata_2014-05-small_with-zip.csv\", encoding='utf-8', index=False)"
   ]
  }
 ],
 "metadata": {
  "kernelspec": {
   "display_name": "Python 3",
   "language": "python",
   "name": "python3"
  },
  "language_info": {
   "codemirror_mode": {
    "name": "ipython",
    "version": 3
   },
   "file_extension": ".py",
   "mimetype": "text/x-python",
   "name": "python",
   "nbconvert_exporter": "python",
   "pygments_lexer": "ipython3",
   "version": "3.6.6"
  }
 },
 "nbformat": 4,
 "nbformat_minor": 2
}
