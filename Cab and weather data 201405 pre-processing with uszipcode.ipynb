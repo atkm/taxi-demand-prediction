{
 "cells": [
  {
   "cell_type": "markdown",
   "metadata": {},
   "source": [
    "`yellow_tripdata_2017-05.csv` contains approx 10 million lines. 850MB.\n",
    "`head -n 1 ../data/yellow_tripdata_2017-05.csv > yellow_tripdata_2017-05-small.csv;\n",
    "tail -n +3 ../data/yellow_tripdata_2017-05.csv | shuf -n 10000 >> yellow_tripdata_2017-05-small.csv` to get 10000 random lines.\n",
    "\n",
    "Cols = zip (categorical), hour (0 <= * <= 23), day (0 <= * <= 6), temperature in F, hourly precipitation in inch\n",
    "\n",
    "The script creates `yellow_counts_201405.csv` and `weather_201405.csv`. TODO: these should be joined?\n",
    "Zip codes in `yellow_counts_201405.csv` were obtained from the `uszipcode` package. Its integrity is questionable. See 'Debug missing zips' section. Should rerun zip code generation with Nominatim."
   ]
  },
  {
   "cell_type": "code",
   "execution_count": 102,
   "metadata": {},
   "outputs": [],
   "source": [
    "import numpy as np\n",
    "import pandas as pd\n",
    "import matplotlib.pyplot as plt\n",
    "import matplotlib\n",
    "from datetime import datetime"
   ]
  },
  {
   "cell_type": "markdown",
   "metadata": {},
   "source": [
    "## Taxi data\n",
    "Convert (lat, lon) to zip code.\n",
    "\n",
    "Questions. \n",
    "1. Taxi datetime in EST or UTC? -> probably EST.\n",
    "2. Daylight saving time?"
   ]
  },
  {
   "cell_type": "code",
   "execution_count": 141,
   "metadata": {
    "scrolled": true
   },
   "outputs": [
    {
     "data": {
      "text/html": [
       "<div>\n",
       "<style scoped>\n",
       "    .dataframe tbody tr th:only-of-type {\n",
       "        vertical-align: middle;\n",
       "    }\n",
       "\n",
       "    .dataframe tbody tr th {\n",
       "        vertical-align: top;\n",
       "    }\n",
       "\n",
       "    .dataframe thead th {\n",
       "        text-align: right;\n",
       "    }\n",
       "</style>\n",
       "<table border=\"1\" class=\"dataframe\">\n",
       "  <thead>\n",
       "    <tr style=\"text-align: right;\">\n",
       "      <th></th>\n",
       "      <th>vendor_id</th>\n",
       "      <th>pickup_datetime</th>\n",
       "      <th>dropoff_datetime</th>\n",
       "      <th>passenger_count</th>\n",
       "      <th>trip_distance</th>\n",
       "      <th>pickup_longitude</th>\n",
       "      <th>pickup_latitude</th>\n",
       "      <th>rate_code</th>\n",
       "      <th>store_and_fwd_flag</th>\n",
       "      <th>dropoff_longitude</th>\n",
       "      <th>dropoff_latitude</th>\n",
       "      <th>payment_type</th>\n",
       "      <th>fare_amount</th>\n",
       "      <th>surcharge</th>\n",
       "      <th>mta_tax</th>\n",
       "      <th>tip_amount</th>\n",
       "      <th>tolls_amount</th>\n",
       "      <th>total_amount</th>\n",
       "    </tr>\n",
       "  </thead>\n",
       "  <tbody>\n",
       "    <tr>\n",
       "      <th>0</th>\n",
       "      <td>CMT</td>\n",
       "      <td>2014-05-07 09:33:52</td>\n",
       "      <td>2014-05-07 09:52:36</td>\n",
       "      <td>1</td>\n",
       "      <td>1.80</td>\n",
       "      <td>-73.977133</td>\n",
       "      <td>40.747167</td>\n",
       "      <td>1</td>\n",
       "      <td>N</td>\n",
       "      <td>-73.981178</td>\n",
       "      <td>40.765351</td>\n",
       "      <td>CRD</td>\n",
       "      <td>12.5</td>\n",
       "      <td>0.0</td>\n",
       "      <td>0.5</td>\n",
       "      <td>2.60</td>\n",
       "      <td>0.0</td>\n",
       "      <td>15.60</td>\n",
       "    </tr>\n",
       "    <tr>\n",
       "      <th>1</th>\n",
       "      <td>VTS</td>\n",
       "      <td>2014-05-17 22:59:00</td>\n",
       "      <td>2014-05-17 23:09:00</td>\n",
       "      <td>1</td>\n",
       "      <td>2.79</td>\n",
       "      <td>-73.972897</td>\n",
       "      <td>40.743702</td>\n",
       "      <td>1</td>\n",
       "      <td>NaN</td>\n",
       "      <td>-73.987187</td>\n",
       "      <td>40.722415</td>\n",
       "      <td>CRD</td>\n",
       "      <td>11.0</td>\n",
       "      <td>0.5</td>\n",
       "      <td>0.5</td>\n",
       "      <td>0.00</td>\n",
       "      <td>0.0</td>\n",
       "      <td>12.00</td>\n",
       "    </tr>\n",
       "    <tr>\n",
       "      <th>2</th>\n",
       "      <td>VTS</td>\n",
       "      <td>2014-05-10 01:14:00</td>\n",
       "      <td>2014-05-10 01:23:00</td>\n",
       "      <td>2</td>\n",
       "      <td>2.60</td>\n",
       "      <td>-73.947613</td>\n",
       "      <td>40.775355</td>\n",
       "      <td>1</td>\n",
       "      <td>NaN</td>\n",
       "      <td>-73.975252</td>\n",
       "      <td>40.751955</td>\n",
       "      <td>CRD</td>\n",
       "      <td>10.0</td>\n",
       "      <td>0.5</td>\n",
       "      <td>0.5</td>\n",
       "      <td>2.62</td>\n",
       "      <td>0.0</td>\n",
       "      <td>13.62</td>\n",
       "    </tr>\n",
       "    <tr>\n",
       "      <th>3</th>\n",
       "      <td>CMT</td>\n",
       "      <td>2014-05-19 19:33:02</td>\n",
       "      <td>2014-05-19 19:36:39</td>\n",
       "      <td>1</td>\n",
       "      <td>0.80</td>\n",
       "      <td>-73.992872</td>\n",
       "      <td>40.743114</td>\n",
       "      <td>1</td>\n",
       "      <td>N</td>\n",
       "      <td>-73.993951</td>\n",
       "      <td>40.749203</td>\n",
       "      <td>CRD</td>\n",
       "      <td>5.0</td>\n",
       "      <td>1.0</td>\n",
       "      <td>0.5</td>\n",
       "      <td>1.62</td>\n",
       "      <td>0.0</td>\n",
       "      <td>8.12</td>\n",
       "    </tr>\n",
       "    <tr>\n",
       "      <th>4</th>\n",
       "      <td>CMT</td>\n",
       "      <td>2014-05-10 16:43:45</td>\n",
       "      <td>2014-05-10 16:53:36</td>\n",
       "      <td>3</td>\n",
       "      <td>1.80</td>\n",
       "      <td>-73.951445</td>\n",
       "      <td>40.793820</td>\n",
       "      <td>1</td>\n",
       "      <td>N</td>\n",
       "      <td>-73.958757</td>\n",
       "      <td>40.809735</td>\n",
       "      <td>CSH</td>\n",
       "      <td>9.0</td>\n",
       "      <td>0.0</td>\n",
       "      <td>0.5</td>\n",
       "      <td>0.00</td>\n",
       "      <td>0.0</td>\n",
       "      <td>9.50</td>\n",
       "    </tr>\n",
       "  </tbody>\n",
       "</table>\n",
       "</div>"
      ],
      "text/plain": [
       "  vendor_id      pickup_datetime     dropoff_datetime  passenger_count  \\\n",
       "0       CMT  2014-05-07 09:33:52  2014-05-07 09:52:36                1   \n",
       "1       VTS  2014-05-17 22:59:00  2014-05-17 23:09:00                1   \n",
       "2       VTS  2014-05-10 01:14:00  2014-05-10 01:23:00                2   \n",
       "3       CMT  2014-05-19 19:33:02  2014-05-19 19:36:39                1   \n",
       "4       CMT  2014-05-10 16:43:45  2014-05-10 16:53:36                3   \n",
       "\n",
       "   trip_distance  pickup_longitude  pickup_latitude  rate_code  \\\n",
       "0           1.80        -73.977133        40.747167          1   \n",
       "1           2.79        -73.972897        40.743702          1   \n",
       "2           2.60        -73.947613        40.775355          1   \n",
       "3           0.80        -73.992872        40.743114          1   \n",
       "4           1.80        -73.951445        40.793820          1   \n",
       "\n",
       "  store_and_fwd_flag  dropoff_longitude  dropoff_latitude payment_type  \\\n",
       "0                  N         -73.981178         40.765351          CRD   \n",
       "1                NaN         -73.987187         40.722415          CRD   \n",
       "2                NaN         -73.975252         40.751955          CRD   \n",
       "3                  N         -73.993951         40.749203          CRD   \n",
       "4                  N         -73.958757         40.809735          CSH   \n",
       "\n",
       "   fare_amount  surcharge  mta_tax  tip_amount  tolls_amount  total_amount  \n",
       "0         12.5        0.0      0.5        2.60           0.0         15.60  \n",
       "1         11.0        0.5      0.5        0.00           0.0         12.00  \n",
       "2         10.0        0.5      0.5        2.62           0.0         13.62  \n",
       "3          5.0        1.0      0.5        1.62           0.0          8.12  \n",
       "4          9.0        0.0      0.5        0.00           0.0          9.50  "
      ]
     },
     "execution_count": 141,
     "metadata": {},
     "output_type": "execute_result"
    }
   ],
   "source": [
    "# Note: column names have changed.\n",
    "# TODO: Taxi datetime in EST or UTC?\n",
    "#   'PULocationID' instead of 'pickup_datetime' and 'pickup_latitude' for newer data.\n",
    "yellow_raw = pd.read_csv(\"yellow_tripdata_2014-05-small.csv\")\n",
    "yellow_raw.columns = [c.replace(\" \", \"\") for c in yellow_raw.columns] # remove space in column name\n",
    "yellow_raw.head()"
   ]
  },
  {
   "cell_type": "code",
   "execution_count": 142,
   "metadata": {},
   "outputs": [],
   "source": [
    "# converts the date format in the rides raw data to Year-Month-Day-Hour.\n",
    "def format_rides_date(d):\n",
    "    dt = datetime.strptime(d, '%Y-%m-%d %H:%M:%S')\n",
    "    return datetime.strftime(dt, '%Y-%m-%d-%H')"
   ]
  },
  {
   "cell_type": "code",
   "execution_count": 143,
   "metadata": {},
   "outputs": [
    {
     "data": {
      "text/html": [
       "<div>\n",
       "<style scoped>\n",
       "    .dataframe tbody tr th:only-of-type {\n",
       "        vertical-align: middle;\n",
       "    }\n",
       "\n",
       "    .dataframe tbody tr th {\n",
       "        vertical-align: top;\n",
       "    }\n",
       "\n",
       "    .dataframe thead th {\n",
       "        text-align: right;\n",
       "    }\n",
       "</style>\n",
       "<table border=\"1\" class=\"dataframe\">\n",
       "  <thead>\n",
       "    <tr style=\"text-align: right;\">\n",
       "      <th></th>\n",
       "      <th>date</th>\n",
       "      <th>lat</th>\n",
       "      <th>lon</th>\n",
       "      <th>type</th>\n",
       "    </tr>\n",
       "  </thead>\n",
       "  <tbody>\n",
       "    <tr>\n",
       "      <th>0</th>\n",
       "      <td>2014-05-07 09:33:52</td>\n",
       "      <td>40.747167</td>\n",
       "      <td>-73.977133</td>\n",
       "      <td>yellow</td>\n",
       "    </tr>\n",
       "    <tr>\n",
       "      <th>1</th>\n",
       "      <td>2014-05-17 22:59:00</td>\n",
       "      <td>40.743702</td>\n",
       "      <td>-73.972897</td>\n",
       "      <td>yellow</td>\n",
       "    </tr>\n",
       "    <tr>\n",
       "      <th>2</th>\n",
       "      <td>2014-05-10 01:14:00</td>\n",
       "      <td>40.775355</td>\n",
       "      <td>-73.947613</td>\n",
       "      <td>yellow</td>\n",
       "    </tr>\n",
       "    <tr>\n",
       "      <th>3</th>\n",
       "      <td>2014-05-19 19:33:02</td>\n",
       "      <td>40.743114</td>\n",
       "      <td>-73.992872</td>\n",
       "      <td>yellow</td>\n",
       "    </tr>\n",
       "    <tr>\n",
       "      <th>4</th>\n",
       "      <td>2014-05-10 16:43:45</td>\n",
       "      <td>40.793820</td>\n",
       "      <td>-73.951445</td>\n",
       "      <td>yellow</td>\n",
       "    </tr>\n",
       "  </tbody>\n",
       "</table>\n",
       "</div>"
      ],
      "text/plain": [
       "                 date        lat        lon    type\n",
       "0 2014-05-07 09:33:52  40.747167 -73.977133  yellow\n",
       "1 2014-05-17 22:59:00  40.743702 -73.972897  yellow\n",
       "2 2014-05-10 01:14:00  40.775355 -73.947613  yellow\n",
       "3 2014-05-19 19:33:02  40.743114 -73.992872  yellow\n",
       "4 2014-05-10 16:43:45  40.793820 -73.951445  yellow"
      ]
     },
     "execution_count": 143,
     "metadata": {},
     "output_type": "execute_result"
    }
   ],
   "source": [
    "yellow = yellow_raw.loc[:,['pickup_datetime', 'pickup_latitude', 'pickup_longitude']]\n",
    "yellow.columns = ['date', 'lat', 'lon']\n",
    "yellow['type'] = \"yellow\"\n",
    "# keep the date and hour.\n",
    "yellow.loc[:,'date'] = pd.to_datetime(yellow['date'], \\\n",
    "        format='%Y-%m-%d %H:%M:%S')\n",
    "yellow.head()"
   ]
  },
  {
   "cell_type": "markdown",
   "metadata": {},
   "source": [
    "## Bucket coordinates into geographical units\n",
    "Census Tract (CT) is the most granular. Neighborhood Tabulation Areas (NTA) more coarse. CTs are proper subsets of NTA. Is NTA the same as Zip Code Tabulation Area?\n",
    "Neither ZIP nor NTA is a subset of the other. The two are similar.\n",
    "CT might be too fine; there might not be enough data points in each bucket; might be too computationally expensive.\n",
    "\n",
    "Nominatim Docker approach.\n",
    "Get PBF from here https://download.geofabrik.de/north-america/us/new-york.html . Takes 9 hours.\n",
    "Import TIGER data to use census tract http://nominatim.org/release-docs/latest/admin/Import-and-Update/#installing-tiger-housenumber-data-for-the-us\n",
    "\n",
    "PostGIS approach for census tract. Feel like too much low-level work.\n",
    "Geo data: https://www.census.gov/geo/maps-data/\n",
    "-> get TIGER geodatabases 2017 New York state level\n",
    "In postgres user: `createdb tigergdb`, then `ogr2ogr -f \"PostgreSQL\" PG:\"dbname=tigergdb user=postgres\" tlgdb_2017_a_36_ny.gdb` from a usual user.\n",
    "See https://gis.stackexchange.com/a/21544 , "
   ]
  },
  {
   "cell_type": "code",
   "execution_count": 106,
   "metadata": {},
   "outputs": [],
   "source": [
    "from uszipcode import ZipcodeSearchEngine\n",
    "search = ZipcodeSearchEngine()"
   ]
  },
  {
   "cell_type": "code",
   "execution_count": 144,
   "metadata": {
    "scrolled": false
   },
   "outputs": [
    {
     "data": {
      "text/html": [
       "<div>\n",
       "<style scoped>\n",
       "    .dataframe tbody tr th:only-of-type {\n",
       "        vertical-align: middle;\n",
       "    }\n",
       "\n",
       "    .dataframe tbody tr th {\n",
       "        vertical-align: top;\n",
       "    }\n",
       "\n",
       "    .dataframe thead th {\n",
       "        text-align: right;\n",
       "    }\n",
       "</style>\n",
       "<table border=\"1\" class=\"dataframe\">\n",
       "  <thead>\n",
       "    <tr style=\"text-align: right;\">\n",
       "      <th></th>\n",
       "      <th>date</th>\n",
       "      <th>type</th>\n",
       "      <th>zip</th>\n",
       "    </tr>\n",
       "  </thead>\n",
       "  <tbody>\n",
       "    <tr>\n",
       "      <th>0</th>\n",
       "      <td>2014-05-07 09:33:52</td>\n",
       "      <td>yellow</td>\n",
       "      <td>10016</td>\n",
       "    </tr>\n",
       "    <tr>\n",
       "      <th>1</th>\n",
       "      <td>2014-05-17 22:59:00</td>\n",
       "      <td>yellow</td>\n",
       "      <td>10016</td>\n",
       "    </tr>\n",
       "    <tr>\n",
       "      <th>2</th>\n",
       "      <td>2014-05-10 01:14:00</td>\n",
       "      <td>yellow</td>\n",
       "      <td>10028</td>\n",
       "    </tr>\n",
       "    <tr>\n",
       "      <th>3</th>\n",
       "      <td>2014-05-19 19:33:02</td>\n",
       "      <td>yellow</td>\n",
       "      <td>10119</td>\n",
       "    </tr>\n",
       "    <tr>\n",
       "      <th>4</th>\n",
       "      <td>2014-05-10 16:43:45</td>\n",
       "      <td>yellow</td>\n",
       "      <td>10029</td>\n",
       "    </tr>\n",
       "    <tr>\n",
       "      <th>5</th>\n",
       "      <td>2014-05-22 22:37:00</td>\n",
       "      <td>yellow</td>\n",
       "      <td>10173</td>\n",
       "    </tr>\n",
       "    <tr>\n",
       "      <th>6</th>\n",
       "      <td>2014-05-12 23:04:50</td>\n",
       "      <td>yellow</td>\n",
       "      <td>11371</td>\n",
       "    </tr>\n",
       "    <tr>\n",
       "      <th>7</th>\n",
       "      <td>2014-05-13 20:56:21</td>\n",
       "      <td>yellow</td>\n",
       "      <td>10010</td>\n",
       "    </tr>\n",
       "    <tr>\n",
       "      <th>8</th>\n",
       "      <td>2014-05-13 09:30:00</td>\n",
       "      <td>yellow</td>\n",
       "      <td>10023</td>\n",
       "    </tr>\n",
       "    <tr>\n",
       "      <th>9</th>\n",
       "      <td>2014-05-06 10:08:46</td>\n",
       "      <td>yellow</td>\n",
       "      <td>10119</td>\n",
       "    </tr>\n",
       "  </tbody>\n",
       "</table>\n",
       "</div>"
      ],
      "text/plain": [
       "                 date    type    zip\n",
       "0 2014-05-07 09:33:52  yellow  10016\n",
       "1 2014-05-17 22:59:00  yellow  10016\n",
       "2 2014-05-10 01:14:00  yellow  10028\n",
       "3 2014-05-19 19:33:02  yellow  10119\n",
       "4 2014-05-10 16:43:45  yellow  10029\n",
       "5 2014-05-22 22:37:00  yellow  10173\n",
       "6 2014-05-12 23:04:50  yellow  11371\n",
       "7 2014-05-13 20:56:21  yellow  10010\n",
       "8 2014-05-13 09:30:00  yellow  10023\n",
       "9 2014-05-06 10:08:46  yellow  10119"
      ]
     },
     "execution_count": 144,
     "metadata": {},
     "output_type": "execute_result"
    }
   ],
   "source": [
    "query_result = yellow.loc[:,('lat','lon')].apply(lambda row: \\\n",
    "    search.by_coordinate(row['lat'], row['lon'], radius=1,returns=1) , axis=1)\n",
    "zips = query_result.apply(lambda z: z[0]['Zipcode'] if len(z) > 0 else 'missing')\n",
    "zips.name = 'zip'\n",
    "yellow_with_zip = yellow.loc[:,('date','type')].join(zips)\n",
    "yellow_with_zip.head(10)"
   ]
  },
  {
   "cell_type": "markdown",
   "metadata": {},
   "source": [
    "### Debug missing zips\n",
    "`uszipcode` integrity fishy.\n",
    "`sum(zips == 'missing')` -> 277 for radius=1; 268 for radius=2, most of which are accounted for by lat == 0.00; more than 1000 for radius=0.5."
   ]
  },
  {
   "cell_type": "code",
   "execution_count": 108,
   "metadata": {},
   "outputs": [
    {
     "data": {
      "text/plain": [
       "277"
      ]
     },
     "execution_count": 108,
     "metadata": {},
     "output_type": "execute_result"
    }
   ],
   "source": [
    "sum(zips == 'missing')"
   ]
  },
  {
   "cell_type": "code",
   "execution_count": 109,
   "metadata": {
    "scrolled": true
   },
   "outputs": [],
   "source": [
    "yellow_debug = yellow.join(zips)"
   ]
  },
  {
   "cell_type": "code",
   "execution_count": 110,
   "metadata": {
    "scrolled": true
   },
   "outputs": [
    {
     "data": {
      "text/html": [
       "<div>\n",
       "<style scoped>\n",
       "    .dataframe tbody tr th:only-of-type {\n",
       "        vertical-align: middle;\n",
       "    }\n",
       "\n",
       "    .dataframe tbody tr th {\n",
       "        vertical-align: top;\n",
       "    }\n",
       "\n",
       "    .dataframe thead th {\n",
       "        text-align: right;\n",
       "    }\n",
       "</style>\n",
       "<table border=\"1\" class=\"dataframe\">\n",
       "  <thead>\n",
       "    <tr style=\"text-align: right;\">\n",
       "      <th></th>\n",
       "      <th>date</th>\n",
       "      <th>lat</th>\n",
       "      <th>lon</th>\n",
       "      <th>type</th>\n",
       "      <th>zip</th>\n",
       "    </tr>\n",
       "  </thead>\n",
       "  <tbody>\n",
       "    <tr>\n",
       "      <th>909</th>\n",
       "      <td>2014-05-15-20</td>\n",
       "      <td>40.685568</td>\n",
       "      <td>-73.994543</td>\n",
       "      <td>yellow</td>\n",
       "      <td>missing</td>\n",
       "    </tr>\n",
       "    <tr>\n",
       "      <th>1812</th>\n",
       "      <td>2014-05-15-23</td>\n",
       "      <td>39.518332</td>\n",
       "      <td>-73.526515</td>\n",
       "      <td>yellow</td>\n",
       "      <td>missing</td>\n",
       "    </tr>\n",
       "    <tr>\n",
       "      <th>2140</th>\n",
       "      <td>2014-05-19-16</td>\n",
       "      <td>40.655015</td>\n",
       "      <td>-73.807480</td>\n",
       "      <td>yellow</td>\n",
       "      <td>missing</td>\n",
       "    </tr>\n",
       "    <tr>\n",
       "      <th>2365</th>\n",
       "      <td>2014-05-11-14</td>\n",
       "      <td>41.209370</td>\n",
       "      <td>-74.215965</td>\n",
       "      <td>yellow</td>\n",
       "      <td>missing</td>\n",
       "    </tr>\n",
       "    <tr>\n",
       "      <th>3199</th>\n",
       "      <td>2014-05-03-00</td>\n",
       "      <td>40.724664</td>\n",
       "      <td>-73.935573</td>\n",
       "      <td>yellow</td>\n",
       "      <td>missing</td>\n",
       "    </tr>\n",
       "    <tr>\n",
       "      <th>4068</th>\n",
       "      <td>2014-05-06-16</td>\n",
       "      <td>40.764680</td>\n",
       "      <td>-74.047600</td>\n",
       "      <td>yellow</td>\n",
       "      <td>missing</td>\n",
       "    </tr>\n",
       "    <tr>\n",
       "      <th>5129</th>\n",
       "      <td>2014-05-07-13</td>\n",
       "      <td>40.652873</td>\n",
       "      <td>-73.806602</td>\n",
       "      <td>yellow</td>\n",
       "      <td>missing</td>\n",
       "    </tr>\n",
       "    <tr>\n",
       "      <th>7362</th>\n",
       "      <td>2014-05-25-22</td>\n",
       "      <td>40.681903</td>\n",
       "      <td>-73.993789</td>\n",
       "      <td>yellow</td>\n",
       "      <td>missing</td>\n",
       "    </tr>\n",
       "    <tr>\n",
       "      <th>7693</th>\n",
       "      <td>2014-05-17-01</td>\n",
       "      <td>40.724128</td>\n",
       "      <td>-73.587668</td>\n",
       "      <td>yellow</td>\n",
       "      <td>missing</td>\n",
       "    </tr>\n",
       "    <tr>\n",
       "      <th>8442</th>\n",
       "      <td>2014-05-17-12</td>\n",
       "      <td>40.636147</td>\n",
       "      <td>-73.967763</td>\n",
       "      <td>yellow</td>\n",
       "      <td>missing</td>\n",
       "    </tr>\n",
       "  </tbody>\n",
       "</table>\n",
       "</div>"
      ],
      "text/plain": [
       "               date        lat        lon    type      zip\n",
       "909   2014-05-15-20  40.685568 -73.994543  yellow  missing\n",
       "1812  2014-05-15-23  39.518332 -73.526515  yellow  missing\n",
       "2140  2014-05-19-16  40.655015 -73.807480  yellow  missing\n",
       "2365  2014-05-11-14  41.209370 -74.215965  yellow  missing\n",
       "3199  2014-05-03-00  40.724664 -73.935573  yellow  missing\n",
       "4068  2014-05-06-16  40.764680 -74.047600  yellow  missing\n",
       "5129  2014-05-07-13  40.652873 -73.806602  yellow  missing\n",
       "7362  2014-05-25-22  40.681903 -73.993789  yellow  missing\n",
       "7693  2014-05-17-01  40.724128 -73.587668  yellow  missing\n",
       "8442  2014-05-17-12  40.636147 -73.967763  yellow  missing"
      ]
     },
     "execution_count": 110,
     "metadata": {},
     "output_type": "execute_result"
    }
   ],
   "source": [
    "yellow_debug[(yellow_debug['zip'] == 'missing') & (yellow_debug['lat'] != 0.00)]"
   ]
  },
  {
   "cell_type": "code",
   "execution_count": 111,
   "metadata": {},
   "outputs": [
    {
     "data": {
      "text/plain": [
       "'11217'"
      ]
     },
     "execution_count": 111,
     "metadata": {},
     "output_type": "execute_result"
    }
   ],
   "source": [
    "# Result wrong.\n",
    "search.by_coordinate(40.685568,-73.994543, radius=2)[0]['Zipcode']"
   ]
  },
  {
   "cell_type": "code",
   "execution_count": 112,
   "metadata": {},
   "outputs": [],
   "source": [
    "#sum(yellow_with_zip['zip'] == 'missing') # -> 277"
   ]
  },
  {
   "cell_type": "markdown",
   "metadata": {},
   "source": [
    "## Weather data\n",
    "Station ID = GHCND:USW00094728\n",
    "There are other stations nearby (\n",
    "\n",
    "Data source (i): NEWA http://newa.cornell.edu/index.php?page=hourly-weather ; Data not in a nice format. The data shown on their interface has time difference from data retrieved via their REST API.\n",
    "Use `curl -XPOST \"http://data.nrcc.rcc-acis.org/StnData\" -H \"Content-Type: application/json\" -d'\n",
    "{\"params\":{\"sid\":\"knyc icao\",\"sdate\":\"2014-05-01\",\"edate\":\"2014-05-31\",\"elems\":[{\"vX\":23,\"prec\":1},{\"vX\":22},{\"vX\":5},{\"vX\":24},{\"vX\":28,\"prec\":1},{\"vX\":27}],\"meta\":\"tzo\"}} ' > nyc-centralpark-hourly-precip-2014-05.json`\n",
    "to get data from 2014-05-01 to 2014-05-31\n",
    "\n",
    "Data source (ii): NCDC NOAA. Hourly precipitation data limited to before 2014.\n",
    "\n",
    "Data source (iii): Iowa Environmental Mesonet (hourly precipitation only) https://mesonet.agron.iastate.edu/request/asos/hourlyprecip.phtml?network=NY_ASOS ; stations NYC, LGA. (Some historical data not available from JRB - wall street)\n",
    "\n",
    "Data source (iv): IEM METAR data https://mesonet.agron.iastate.edu/request/download.phtml?network=NY_ASOS ; use LGA. Contains both temperature (F) and precip (inch). Observation not made at round hours -> group by hour and take average. Precipitation data (p01i) recorded at the 51st minute of every hour; values are roughly equal with those obtained from Mesonet (data source iii)."
   ]
  },
  {
   "cell_type": "markdown",
   "metadata": {},
   "source": [
    "### Mesonet precipitation data\n",
    "The dataframe not used. Code kept for record."
   ]
  },
  {
   "cell_type": "code",
   "execution_count": 113,
   "metadata": {},
   "outputs": [],
   "source": [
    "precip_mesonet_raw = pd.read_csv(\"nyc-2014-05-precip-hourly.csv\")\n",
    "precip_mesonet = precip_mesonet_raw.loc[:, ('valid', 'precip_in')]\n",
    "precip_mesonet.columns = ['date', 'precip_in']\n",
    "precip_mesonet['date'] = precip_mesonet['date'].str[0:13].replace(\"\\s+\", \"-\", regex=True)\n",
    "precip_mesonet = precip_mesonet.set_index('date')"
   ]
  },
  {
   "cell_type": "code",
   "execution_count": 114,
   "metadata": {
    "scrolled": true
   },
   "outputs": [
    {
     "name": "stdout",
     "output_type": "stream",
     "text": [
      "        precip_in\n",
      "count  766.000000\n",
      "mean     0.012311\n",
      "std      0.062363\n",
      "min      0.000000\n",
      "25%      0.000000\n",
      "50%      0.000000\n",
      "75%      0.000000\n",
      "max      1.000000\n"
     ]
    },
    {
     "data": {
      "text/html": [
       "<div>\n",
       "<style scoped>\n",
       "    .dataframe tbody tr th:only-of-type {\n",
       "        vertical-align: middle;\n",
       "    }\n",
       "\n",
       "    .dataframe tbody tr th {\n",
       "        vertical-align: top;\n",
       "    }\n",
       "\n",
       "    .dataframe thead th {\n",
       "        text-align: right;\n",
       "    }\n",
       "</style>\n",
       "<table border=\"1\" class=\"dataframe\">\n",
       "  <thead>\n",
       "    <tr style=\"text-align: right;\">\n",
       "      <th></th>\n",
       "      <th>precip_in</th>\n",
       "    </tr>\n",
       "    <tr>\n",
       "      <th>date</th>\n",
       "      <th></th>\n",
       "    </tr>\n",
       "  </thead>\n",
       "  <tbody>\n",
       "    <tr>\n",
       "      <th>2014-04-30-01</th>\n",
       "      <td>0.03</td>\n",
       "    </tr>\n",
       "    <tr>\n",
       "      <th>2014-04-30-02</th>\n",
       "      <td>0.13</td>\n",
       "    </tr>\n",
       "    <tr>\n",
       "      <th>2014-04-30-03</th>\n",
       "      <td>0.11</td>\n",
       "    </tr>\n",
       "    <tr>\n",
       "      <th>2014-04-30-04</th>\n",
       "      <td>0.11</td>\n",
       "    </tr>\n",
       "    <tr>\n",
       "      <th>2014-04-30-05</th>\n",
       "      <td>0.03</td>\n",
       "    </tr>\n",
       "  </tbody>\n",
       "</table>\n",
       "</div>"
      ],
      "text/plain": [
       "               precip_in\n",
       "date                    \n",
       "2014-04-30-01       0.03\n",
       "2014-04-30-02       0.13\n",
       "2014-04-30-03       0.11\n",
       "2014-04-30-04       0.11\n",
       "2014-04-30-05       0.03"
      ]
     },
     "execution_count": 114,
     "metadata": {},
     "output_type": "execute_result"
    }
   ],
   "source": [
    "print(precip_mesonet.describe())\n",
    "precip_mesonet.head()"
   ]
  },
  {
   "cell_type": "code",
   "execution_count": 115,
   "metadata": {},
   "outputs": [
    {
     "data": {
      "text/plain": [
       "array([[<matplotlib.axes._subplots.AxesSubplot object at 0x7f9bab28c240>]],\n",
       "      dtype=object)"
      ]
     },
     "execution_count": 115,
     "metadata": {},
     "output_type": "execute_result"
    },
    {
     "data": {
      "image/png": "[encoded data removed]",
      "text/plain": [
       "<Figure size 432x288 with 1 Axes>"
      ]
     },
     "metadata": {},
     "output_type": "display_data"
    }
   ],
   "source": [
    "precip_mesonet[precip_mesonet[\"precip_in\"] < 1].hist()"
   ]
  },
  {
   "cell_type": "markdown",
   "metadata": {},
   "source": [
    "### Metar data"
   ]
  },
  {
   "cell_type": "code",
   "execution_count": 116,
   "metadata": {
    "scrolled": true
   },
   "outputs": [
    {
     "data": {
      "text/html": [
       "<div>\n",
       "<style scoped>\n",
       "    .dataframe tbody tr th:only-of-type {\n",
       "        vertical-align: middle;\n",
       "    }\n",
       "\n",
       "    .dataframe tbody tr th {\n",
       "        vertical-align: top;\n",
       "    }\n",
       "\n",
       "    .dataframe thead th {\n",
       "        text-align: right;\n",
       "    }\n",
       "</style>\n",
       "<table border=\"1\" class=\"dataframe\">\n",
       "  <thead>\n",
       "    <tr style=\"text-align: right;\">\n",
       "      <th></th>\n",
       "      <th>station</th>\n",
       "      <th>valid</th>\n",
       "      <th>tmpf</th>\n",
       "      <th>sped</th>\n",
       "      <th>p01i</th>\n",
       "    </tr>\n",
       "  </thead>\n",
       "  <tbody>\n",
       "    <tr>\n",
       "      <th>0</th>\n",
       "      <td>LGA</td>\n",
       "      <td>2014-05-01 00:24</td>\n",
       "      <td>48.20</td>\n",
       "      <td>12.7</td>\n",
       "      <td>0.00</td>\n",
       "    </tr>\n",
       "    <tr>\n",
       "      <th>1</th>\n",
       "      <td>LGA</td>\n",
       "      <td>2014-05-01 00:51</td>\n",
       "      <td>48.92</td>\n",
       "      <td>12.7</td>\n",
       "      <td>0.30</td>\n",
       "    </tr>\n",
       "    <tr>\n",
       "      <th>2</th>\n",
       "      <td>LGA</td>\n",
       "      <td>2014-05-01 01:31</td>\n",
       "      <td>53.60</td>\n",
       "      <td>4.6</td>\n",
       "      <td>0.03</td>\n",
       "    </tr>\n",
       "    <tr>\n",
       "      <th>3</th>\n",
       "      <td>LGA</td>\n",
       "      <td>2014-05-01 01:42</td>\n",
       "      <td>53.60</td>\n",
       "      <td>6.9</td>\n",
       "      <td>0.00</td>\n",
       "    </tr>\n",
       "    <tr>\n",
       "      <th>4</th>\n",
       "      <td>LGA</td>\n",
       "      <td>2014-05-01 01:51</td>\n",
       "      <td>53.96</td>\n",
       "      <td>5.8</td>\n",
       "      <td>0.08</td>\n",
       "    </tr>\n",
       "  </tbody>\n",
       "</table>\n",
       "</div>"
      ],
      "text/plain": [
       "  station             valid   tmpf  sped  p01i\n",
       "0     LGA  2014-05-01 00:24  48.20  12.7  0.00\n",
       "1     LGA  2014-05-01 00:51  48.92  12.7  0.30\n",
       "2     LGA  2014-05-01 01:31  53.60   4.6  0.03\n",
       "3     LGA  2014-05-01 01:42  53.60   6.9  0.00\n",
       "4     LGA  2014-05-01 01:51  53.96   5.8  0.08"
      ]
     },
     "execution_count": 116,
     "metadata": {},
     "output_type": "execute_result"
    }
   ],
   "source": [
    "metar_raw = pd.read_csv(\"lga-2014-05-metar.csv\")\n",
    "metar_raw.columns = [name.strip() for name in metar_raw.columns]\n",
    "metar_raw.head()"
   ]
  },
  {
   "cell_type": "code",
   "execution_count": 117,
   "metadata": {},
   "outputs": [],
   "source": [
    "# converts the date format in the metar raw data to Year-Month-Day-Hour.\n",
    "def format_metar_date(d):\n",
    "    dt = datetime.strptime(d, '%Y-%m-%d %H:%M')\n",
    "    return datetime.strftime(dt, '%Y-%m-%d-%H')"
   ]
  },
  {
   "cell_type": "code",
   "execution_count": 118,
   "metadata": {},
   "outputs": [
    {
     "data": {
      "text/html": [
       "<div>\n",
       "<style scoped>\n",
       "    .dataframe tbody tr th:only-of-type {\n",
       "        vertical-align: middle;\n",
       "    }\n",
       "\n",
       "    .dataframe tbody tr th {\n",
       "        vertical-align: top;\n",
       "    }\n",
       "\n",
       "    .dataframe thead th {\n",
       "        text-align: right;\n",
       "    }\n",
       "</style>\n",
       "<table border=\"1\" class=\"dataframe\">\n",
       "  <thead>\n",
       "    <tr style=\"text-align: right;\">\n",
       "      <th></th>\n",
       "      <th>date</th>\n",
       "      <th>fahrenheit</th>\n",
       "      <th>precip_in</th>\n",
       "    </tr>\n",
       "  </thead>\n",
       "  <tbody>\n",
       "    <tr>\n",
       "      <th>0</th>\n",
       "      <td>2014-05-01 00:24:00</td>\n",
       "      <td>48.20</td>\n",
       "      <td>0.00</td>\n",
       "    </tr>\n",
       "    <tr>\n",
       "      <th>1</th>\n",
       "      <td>2014-05-01 00:51:00</td>\n",
       "      <td>48.92</td>\n",
       "      <td>0.30</td>\n",
       "    </tr>\n",
       "    <tr>\n",
       "      <th>2</th>\n",
       "      <td>2014-05-01 01:31:00</td>\n",
       "      <td>53.60</td>\n",
       "      <td>0.03</td>\n",
       "    </tr>\n",
       "    <tr>\n",
       "      <th>3</th>\n",
       "      <td>2014-05-01 01:42:00</td>\n",
       "      <td>53.60</td>\n",
       "      <td>0.00</td>\n",
       "    </tr>\n",
       "    <tr>\n",
       "      <th>4</th>\n",
       "      <td>2014-05-01 01:51:00</td>\n",
       "      <td>53.96</td>\n",
       "      <td>0.08</td>\n",
       "    </tr>\n",
       "  </tbody>\n",
       "</table>\n",
       "</div>"
      ],
      "text/plain": [
       "                 date  fahrenheit  precip_in\n",
       "0 2014-05-01 00:24:00       48.20       0.00\n",
       "1 2014-05-01 00:51:00       48.92       0.30\n",
       "2 2014-05-01 01:31:00       53.60       0.03\n",
       "3 2014-05-01 01:42:00       53.60       0.00\n",
       "4 2014-05-01 01:51:00       53.96       0.08"
      ]
     },
     "execution_count": 118,
     "metadata": {},
     "output_type": "execute_result"
    }
   ],
   "source": [
    "# rename columns. Keep minutes \n",
    "metar = metar_raw.loc[:, ('valid', 'tmpf', 'p01i')] # precip_in in 'p01i'\n",
    "metar.columns = ['date', 'fahrenheit', 'precip_in']\n",
    "metar.loc[:,'date'] = metar['date'].apply(lambda d: datetime.strptime(d, '%Y-%m-%d %H:%M'))\n",
    "metar.head()"
   ]
  },
  {
   "cell_type": "code",
   "execution_count": 119,
   "metadata": {},
   "outputs": [
    {
     "data": {
      "text/html": [
       "<div>\n",
       "<style scoped>\n",
       "    .dataframe tbody tr th:only-of-type {\n",
       "        vertical-align: middle;\n",
       "    }\n",
       "\n",
       "    .dataframe tbody tr th {\n",
       "        vertical-align: top;\n",
       "    }\n",
       "\n",
       "    .dataframe thead th {\n",
       "        text-align: right;\n",
       "    }\n",
       "</style>\n",
       "<table border=\"1\" class=\"dataframe\">\n",
       "  <thead>\n",
       "    <tr style=\"text-align: right;\">\n",
       "      <th></th>\n",
       "      <th>date</th>\n",
       "      <th>precip_in</th>\n",
       "    </tr>\n",
       "  </thead>\n",
       "  <tbody>\n",
       "    <tr>\n",
       "      <th>1</th>\n",
       "      <td>2014-05-01-00</td>\n",
       "      <td>0.30</td>\n",
       "    </tr>\n",
       "    <tr>\n",
       "      <th>4</th>\n",
       "      <td>2014-05-01-01</td>\n",
       "      <td>0.08</td>\n",
       "    </tr>\n",
       "    <tr>\n",
       "      <th>6</th>\n",
       "      <td>2014-05-01-02</td>\n",
       "      <td>0.06</td>\n",
       "    </tr>\n",
       "    <tr>\n",
       "      <th>8</th>\n",
       "      <td>2014-05-01-03</td>\n",
       "      <td>0.01</td>\n",
       "    </tr>\n",
       "    <tr>\n",
       "      <th>10</th>\n",
       "      <td>2014-05-01-04</td>\n",
       "      <td>0.01</td>\n",
       "    </tr>\n",
       "  </tbody>\n",
       "</table>\n",
       "</div>"
      ],
      "text/plain": [
       "             date  precip_in\n",
       "1   2014-05-01-00       0.30\n",
       "4   2014-05-01-01       0.08\n",
       "6   2014-05-01-02       0.06\n",
       "8   2014-05-01-03       0.01\n",
       "10  2014-05-01-04       0.01"
      ]
     },
     "execution_count": 119,
     "metadata": {},
     "output_type": "execute_result"
    }
   ],
   "source": [
    "precip = metar[['date','precip_in']]\n",
    "precip = precip[precip['date'].apply(lambda d: d.minute) == 51]\n",
    "precip.loc[:,'date'] = precip['date'].apply(lambda d: datetime.strftime(d, '%Y-%m-%d-%H'))\n",
    "precip.head()"
   ]
  },
  {
   "cell_type": "code",
   "execution_count": 120,
   "metadata": {},
   "outputs": [
    {
     "data": {
      "text/html": [
       "<div>\n",
       "<style scoped>\n",
       "    .dataframe tbody tr th:only-of-type {\n",
       "        vertical-align: middle;\n",
       "    }\n",
       "\n",
       "    .dataframe tbody tr th {\n",
       "        vertical-align: top;\n",
       "    }\n",
       "\n",
       "    .dataframe thead th {\n",
       "        text-align: right;\n",
       "    }\n",
       "</style>\n",
       "<table border=\"1\" class=\"dataframe\">\n",
       "  <thead>\n",
       "    <tr style=\"text-align: right;\">\n",
       "      <th></th>\n",
       "      <th>fahrenheit</th>\n",
       "    </tr>\n",
       "    <tr>\n",
       "      <th>date</th>\n",
       "      <th></th>\n",
       "    </tr>\n",
       "  </thead>\n",
       "  <tbody>\n",
       "    <tr>\n",
       "      <th>2014-05-01-00</th>\n",
       "      <td>48.56</td>\n",
       "    </tr>\n",
       "    <tr>\n",
       "      <th>2014-05-01-01</th>\n",
       "      <td>53.72</td>\n",
       "    </tr>\n",
       "    <tr>\n",
       "      <th>2014-05-01-02</th>\n",
       "      <td>53.78</td>\n",
       "    </tr>\n",
       "    <tr>\n",
       "      <th>2014-05-01-03</th>\n",
       "      <td>55.22</td>\n",
       "    </tr>\n",
       "    <tr>\n",
       "      <th>2014-05-01-04</th>\n",
       "      <td>55.22</td>\n",
       "    </tr>\n",
       "  </tbody>\n",
       "</table>\n",
       "</div>"
      ],
      "text/plain": [
       "               fahrenheit\n",
       "date                     \n",
       "2014-05-01-00       48.56\n",
       "2014-05-01-01       53.72\n",
       "2014-05-01-02       53.78\n",
       "2014-05-01-03       55.22\n",
       "2014-05-01-04       55.22"
      ]
     },
     "execution_count": 120,
     "metadata": {},
     "output_type": "execute_result"
    }
   ],
   "source": [
    "# take the mean of temperature records in each hour.\n",
    "metar.loc[:,'date'] = metar['date'].apply(lambda d: datetime.strftime(d, '%Y-%m-%d-%H'))\n",
    "fahrenheit_averaged = metar.loc[:,['date','fahrenheit']].groupby(['date']).mean()\n",
    "fahrenheit_averaged.head()"
   ]
  },
  {
   "cell_type": "code",
   "execution_count": 121,
   "metadata": {
    "scrolled": true
   },
   "outputs": [
    {
     "data": {
      "text/html": [
       "<div>\n",
       "<style scoped>\n",
       "    .dataframe tbody tr th:only-of-type {\n",
       "        vertical-align: middle;\n",
       "    }\n",
       "\n",
       "    .dataframe tbody tr th {\n",
       "        vertical-align: top;\n",
       "    }\n",
       "\n",
       "    .dataframe thead th {\n",
       "        text-align: right;\n",
       "    }\n",
       "</style>\n",
       "<table border=\"1\" class=\"dataframe\">\n",
       "  <thead>\n",
       "    <tr style=\"text-align: right;\">\n",
       "      <th></th>\n",
       "      <th>precip_in</th>\n",
       "      <th>fahrenheit</th>\n",
       "    </tr>\n",
       "    <tr>\n",
       "      <th>date</th>\n",
       "      <th></th>\n",
       "      <th></th>\n",
       "    </tr>\n",
       "  </thead>\n",
       "  <tbody>\n",
       "    <tr>\n",
       "      <th>2014-05-01-00</th>\n",
       "      <td>0.30</td>\n",
       "      <td>48.56</td>\n",
       "    </tr>\n",
       "    <tr>\n",
       "      <th>2014-05-01-01</th>\n",
       "      <td>0.08</td>\n",
       "      <td>53.72</td>\n",
       "    </tr>\n",
       "    <tr>\n",
       "      <th>2014-05-01-02</th>\n",
       "      <td>0.06</td>\n",
       "      <td>53.78</td>\n",
       "    </tr>\n",
       "    <tr>\n",
       "      <th>2014-05-01-03</th>\n",
       "      <td>0.01</td>\n",
       "      <td>55.22</td>\n",
       "    </tr>\n",
       "    <tr>\n",
       "      <th>2014-05-01-04</th>\n",
       "      <td>0.01</td>\n",
       "      <td>55.22</td>\n",
       "    </tr>\n",
       "  </tbody>\n",
       "</table>\n",
       "</div>"
      ],
      "text/plain": [
       "               precip_in  fahrenheit\n",
       "date                                \n",
       "2014-05-01-00       0.30       48.56\n",
       "2014-05-01-01       0.08       53.72\n",
       "2014-05-01-02       0.06       53.78\n",
       "2014-05-01-03       0.01       55.22\n",
       "2014-05-01-04       0.01       55.22"
      ]
     },
     "execution_count": 121,
     "metadata": {},
     "output_type": "execute_result"
    }
   ],
   "source": [
    "weather_201405 = precip.set_index('date').join(fahrenheit_averaged, how='inner')\n",
    "weather_201405.head()"
   ]
  },
  {
   "cell_type": "code",
   "execution_count": 122,
   "metadata": {},
   "outputs": [
    {
     "data": {
      "text/plain": [
       "(744, 2)"
      ]
     },
     "execution_count": 122,
     "metadata": {},
     "output_type": "execute_result"
    }
   ],
   "source": [
    "weather_201405.isna().sum() # => 0 for how='outer'; same for 'inner'\n",
    "weather_201405.shape # (744,2) for how='outer'; same for 'inner'"
   ]
  },
  {
   "cell_type": "markdown",
   "metadata": {},
   "source": [
    "### Bucket weekday, hour, temperature, and precipitation.\n",
    "- Split points for temperature (5 buckets): 40, 55, 70, and 85\n",
    "- for precipitation (3 buckets): 0.10 and 0.30; based on https://www.weathershack.com/static/ed-rain-measurement.html\n",
    "\n",
    "Drop all missing for now."
   ]
  },
  {
   "cell_type": "code",
   "execution_count": 123,
   "metadata": {},
   "outputs": [],
   "source": [
    "def bucket_fahrenheit(degrees):\n",
    "    if (degrees < 40):\n",
    "        return 0\n",
    "    elif (degrees < 55):\n",
    "        return 1\n",
    "    elif (degrees < 70):\n",
    "        return 2\n",
    "    elif (degrees < 85):\n",
    "        return 3\n",
    "    else:\n",
    "        return 4\n",
    "    \n",
    "def bucket_precip(inches):\n",
    "    if (inches < 0):\n",
    "        raise ValueException(\"The amount of precipitation is negative. (\" + inches + \")\" )\n",
    "    if (inches < 0.10):\n",
    "        return 0\n",
    "    elif (inches < 0.30):\n",
    "        return 1\n",
    "    else:\n",
    "        return 2"
   ]
  },
  {
   "cell_type": "code",
   "execution_count": 124,
   "metadata": {},
   "outputs": [
    {
     "data": {
      "text/html": [
       "<div>\n",
       "<style scoped>\n",
       "    .dataframe tbody tr th:only-of-type {\n",
       "        vertical-align: middle;\n",
       "    }\n",
       "\n",
       "    .dataframe tbody tr th {\n",
       "        vertical-align: top;\n",
       "    }\n",
       "\n",
       "    .dataframe thead th {\n",
       "        text-align: right;\n",
       "    }\n",
       "</style>\n",
       "<table border=\"1\" class=\"dataframe\">\n",
       "  <thead>\n",
       "    <tr style=\"text-align: right;\">\n",
       "      <th></th>\n",
       "      <th>precip_in</th>\n",
       "      <th>fahrenheit</th>\n",
       "      <th>temperature</th>\n",
       "      <th>precipitation</th>\n",
       "    </tr>\n",
       "    <tr>\n",
       "      <th>date</th>\n",
       "      <th></th>\n",
       "      <th></th>\n",
       "      <th></th>\n",
       "      <th></th>\n",
       "    </tr>\n",
       "  </thead>\n",
       "  <tbody>\n",
       "    <tr>\n",
       "      <th>2014-05-01-00</th>\n",
       "      <td>0.30</td>\n",
       "      <td>48.56</td>\n",
       "      <td>1</td>\n",
       "      <td>2</td>\n",
       "    </tr>\n",
       "    <tr>\n",
       "      <th>2014-05-01-01</th>\n",
       "      <td>0.08</td>\n",
       "      <td>53.72</td>\n",
       "      <td>1</td>\n",
       "      <td>0</td>\n",
       "    </tr>\n",
       "    <tr>\n",
       "      <th>2014-05-01-02</th>\n",
       "      <td>0.06</td>\n",
       "      <td>53.78</td>\n",
       "      <td>1</td>\n",
       "      <td>0</td>\n",
       "    </tr>\n",
       "    <tr>\n",
       "      <th>2014-05-01-03</th>\n",
       "      <td>0.01</td>\n",
       "      <td>55.22</td>\n",
       "      <td>2</td>\n",
       "      <td>0</td>\n",
       "    </tr>\n",
       "    <tr>\n",
       "      <th>2014-05-01-04</th>\n",
       "      <td>0.01</td>\n",
       "      <td>55.22</td>\n",
       "      <td>2</td>\n",
       "      <td>0</td>\n",
       "    </tr>\n",
       "  </tbody>\n",
       "</table>\n",
       "</div>"
      ],
      "text/plain": [
       "               precip_in  fahrenheit  temperature  precipitation\n",
       "date                                                            \n",
       "2014-05-01-00       0.30       48.56            1              2\n",
       "2014-05-01-01       0.08       53.72            1              0\n",
       "2014-05-01-02       0.06       53.78            1              0\n",
       "2014-05-01-03       0.01       55.22            2              0\n",
       "2014-05-01-04       0.01       55.22            2              0"
      ]
     },
     "execution_count": 124,
     "metadata": {},
     "output_type": "execute_result"
    }
   ],
   "source": [
    "weather_201405['temperature'] = weather_201405.loc[:,\"fahrenheit\"].apply(bucket_fahrenheit)\n",
    "weather_201405['precipitation'] = weather_201405.loc[:,\"precip_in\"].apply(bucket_precip)\n",
    "weather_201405.head()"
   ]
  },
  {
   "cell_type": "code",
   "execution_count": 145,
   "metadata": {
    "scrolled": true
   },
   "outputs": [
    {
     "data": {
      "text/html": [
       "<div>\n",
       "<style scoped>\n",
       "    .dataframe tbody tr th:only-of-type {\n",
       "        vertical-align: middle;\n",
       "    }\n",
       "\n",
       "    .dataframe tbody tr th {\n",
       "        vertical-align: top;\n",
       "    }\n",
       "\n",
       "    .dataframe thead th {\n",
       "        text-align: right;\n",
       "    }\n",
       "</style>\n",
       "<table border=\"1\" class=\"dataframe\">\n",
       "  <thead>\n",
       "    <tr style=\"text-align: right;\">\n",
       "      <th></th>\n",
       "      <th>date</th>\n",
       "      <th>type</th>\n",
       "      <th>zip</th>\n",
       "    </tr>\n",
       "  </thead>\n",
       "  <tbody>\n",
       "    <tr>\n",
       "      <th>0</th>\n",
       "      <td>2014-05-07 09:33:52</td>\n",
       "      <td>yellow</td>\n",
       "      <td>10016</td>\n",
       "    </tr>\n",
       "    <tr>\n",
       "      <th>1</th>\n",
       "      <td>2014-05-17 22:59:00</td>\n",
       "      <td>yellow</td>\n",
       "      <td>10016</td>\n",
       "    </tr>\n",
       "    <tr>\n",
       "      <th>2</th>\n",
       "      <td>2014-05-10 01:14:00</td>\n",
       "      <td>yellow</td>\n",
       "      <td>10028</td>\n",
       "    </tr>\n",
       "    <tr>\n",
       "      <th>3</th>\n",
       "      <td>2014-05-19 19:33:02</td>\n",
       "      <td>yellow</td>\n",
       "      <td>10119</td>\n",
       "    </tr>\n",
       "    <tr>\n",
       "      <th>4</th>\n",
       "      <td>2014-05-10 16:43:45</td>\n",
       "      <td>yellow</td>\n",
       "      <td>10029</td>\n",
       "    </tr>\n",
       "  </tbody>\n",
       "</table>\n",
       "</div>"
      ],
      "text/plain": [
       "                 date    type    zip\n",
       "0 2014-05-07 09:33:52  yellow  10016\n",
       "1 2014-05-17 22:59:00  yellow  10016\n",
       "2 2014-05-10 01:14:00  yellow  10028\n",
       "3 2014-05-19 19:33:02  yellow  10119\n",
       "4 2014-05-10 16:43:45  yellow  10029"
      ]
     },
     "execution_count": 145,
     "metadata": {},
     "output_type": "execute_result"
    }
   ],
   "source": [
    "yellow_201405 = yellow_with_zip.loc[yellow_with_zip['zip'] != 'missing',:]\n",
    "yellow_201405.head()"
   ]
  },
  {
   "cell_type": "code",
   "execution_count": 147,
   "metadata": {},
   "outputs": [
    {
     "data": {
      "text/plain": [
       "0   2014-05-07 09:33:52\n",
       "1   2014-05-17 22:59:00\n",
       "2   2014-05-10 01:14:00\n",
       "3   2014-05-19 19:33:02\n",
       "4   2014-05-10 16:43:45\n",
       "Name: date, dtype: datetime64[ns]"
      ]
     },
     "execution_count": 147,
     "metadata": {},
     "output_type": "execute_result"
    }
   ],
   "source": [
    "yellow_201405['date'].head()"
   ]
  },
  {
   "cell_type": "code",
   "execution_count": 155,
   "metadata": {},
   "outputs": [
    {
     "data": {
      "text/plain": [
       "0    2014-05-07-09\n",
       "1    2014-05-17-22\n",
       "2    2014-05-10-01\n",
       "3    2014-05-19-19\n",
       "4    2014-05-10-16\n",
       "Name: date, dtype: object"
      ]
     },
     "execution_count": 155,
     "metadata": {},
     "output_type": "execute_result"
    }
   ],
   "source": [
    "yellow_201405['date'].dt.strftime(\"%Y-%m-%d-%H\").head()"
   ]
  },
  {
   "cell_type": "code",
   "execution_count": 156,
   "metadata": {
    "scrolled": true
   },
   "outputs": [
    {
     "name": "stderr",
     "output_type": "stream",
     "text": [
      "/home/atkm/code/venv/lib/python3.6/site-packages/pandas/core/indexing.py:537: SettingWithCopyWarning: \n",
      "A value is trying to be set on a copy of a slice from a DataFrame.\n",
      "Try using .loc[row_indexer,col_indexer] = value instead\n",
      "\n",
      "See the caveats in the documentation: http://pandas.pydata.org/pandas-docs/stable/indexing.html#indexing-view-versus-copy\n",
      "  self.obj[item] = s\n"
     ]
    },
    {
     "data": {
      "text/html": [
       "<div>\n",
       "<style scoped>\n",
       "    .dataframe tbody tr th:only-of-type {\n",
       "        vertical-align: middle;\n",
       "    }\n",
       "\n",
       "    .dataframe tbody tr th {\n",
       "        vertical-align: top;\n",
       "    }\n",
       "\n",
       "    .dataframe thead th {\n",
       "        text-align: right;\n",
       "    }\n",
       "</style>\n",
       "<table border=\"1\" class=\"dataframe\">\n",
       "  <thead>\n",
       "    <tr style=\"text-align: right;\">\n",
       "      <th></th>\n",
       "      <th>date</th>\n",
       "      <th>type</th>\n",
       "      <th>zip</th>\n",
       "      <th>hour</th>\n",
       "      <th>weekday</th>\n",
       "    </tr>\n",
       "  </thead>\n",
       "  <tbody>\n",
       "    <tr>\n",
       "      <th>0</th>\n",
       "      <td>2014-05-07-09</td>\n",
       "      <td>yellow</td>\n",
       "      <td>10016</td>\n",
       "      <td>9</td>\n",
       "      <td>2</td>\n",
       "    </tr>\n",
       "    <tr>\n",
       "      <th>1</th>\n",
       "      <td>2014-05-17-22</td>\n",
       "      <td>yellow</td>\n",
       "      <td>10016</td>\n",
       "      <td>22</td>\n",
       "      <td>5</td>\n",
       "    </tr>\n",
       "    <tr>\n",
       "      <th>2</th>\n",
       "      <td>2014-05-10-01</td>\n",
       "      <td>yellow</td>\n",
       "      <td>10028</td>\n",
       "      <td>1</td>\n",
       "      <td>5</td>\n",
       "    </tr>\n",
       "    <tr>\n",
       "      <th>3</th>\n",
       "      <td>2014-05-19-19</td>\n",
       "      <td>yellow</td>\n",
       "      <td>10119</td>\n",
       "      <td>19</td>\n",
       "      <td>0</td>\n",
       "    </tr>\n",
       "    <tr>\n",
       "      <th>4</th>\n",
       "      <td>2014-05-10-16</td>\n",
       "      <td>yellow</td>\n",
       "      <td>10029</td>\n",
       "      <td>16</td>\n",
       "      <td>5</td>\n",
       "    </tr>\n",
       "  </tbody>\n",
       "</table>\n",
       "</div>"
      ],
      "text/plain": [
       "            date    type    zip  hour  weekday\n",
       "0  2014-05-07-09  yellow  10016     9        2\n",
       "1  2014-05-17-22  yellow  10016    22        5\n",
       "2  2014-05-10-01  yellow  10028     1        5\n",
       "3  2014-05-19-19  yellow  10119    19        0\n",
       "4  2014-05-10-16  yellow  10029    16        5"
      ]
     },
     "execution_count": 156,
     "metadata": {},
     "output_type": "execute_result"
    }
   ],
   "source": [
    "# get hour and weekday from datetime. Then convert the datetime format to %Y-%m-%d-%H\n",
    "yellow_201405.loc[:,'hour'] = yellow_201405['date'].apply(lambda d: d.hour)\n",
    "yellow_201405.loc[:,'weekday'] = yellow_201405['date'].apply(lambda d: d.weekday())\n",
    "yellow_201405.loc[:,'date'] = yellow_201405['date'].dt.strftime(\"%Y-%m-%d-%H\")\n",
    "yellow_201405.head()"
   ]
  },
  {
   "cell_type": "markdown",
   "metadata": {},
   "source": [
    "## Merge weather data and count\n"
   ]
  },
  {
   "cell_type": "code",
   "execution_count": 157,
   "metadata": {},
   "outputs": [
    {
     "data": {
      "text/html": [
       "<div>\n",
       "<style scoped>\n",
       "    .dataframe tbody tr th:only-of-type {\n",
       "        vertical-align: middle;\n",
       "    }\n",
       "\n",
       "    .dataframe tbody tr th {\n",
       "        vertical-align: top;\n",
       "    }\n",
       "\n",
       "    .dataframe thead th {\n",
       "        text-align: right;\n",
       "    }\n",
       "</style>\n",
       "<table border=\"1\" class=\"dataframe\">\n",
       "  <thead>\n",
       "    <tr style=\"text-align: right;\">\n",
       "      <th></th>\n",
       "      <th>zip</th>\n",
       "      <th>hour</th>\n",
       "      <th>weekday</th>\n",
       "      <th>temperature</th>\n",
       "      <th>precipitation</th>\n",
       "    </tr>\n",
       "  </thead>\n",
       "  <tbody>\n",
       "    <tr>\n",
       "      <th>0</th>\n",
       "      <td>10002</td>\n",
       "      <td>0</td>\n",
       "      <td>3</td>\n",
       "      <td>1</td>\n",
       "      <td>2</td>\n",
       "    </tr>\n",
       "    <tr>\n",
       "      <th>1</th>\n",
       "      <td>10010</td>\n",
       "      <td>0</td>\n",
       "      <td>3</td>\n",
       "      <td>1</td>\n",
       "      <td>2</td>\n",
       "    </tr>\n",
       "    <tr>\n",
       "      <th>2</th>\n",
       "      <td>10014</td>\n",
       "      <td>0</td>\n",
       "      <td>3</td>\n",
       "      <td>1</td>\n",
       "      <td>2</td>\n",
       "    </tr>\n",
       "    <tr>\n",
       "      <th>3</th>\n",
       "      <td>10278</td>\n",
       "      <td>0</td>\n",
       "      <td>3</td>\n",
       "      <td>1</td>\n",
       "      <td>2</td>\n",
       "    </tr>\n",
       "    <tr>\n",
       "      <th>4</th>\n",
       "      <td>10022</td>\n",
       "      <td>0</td>\n",
       "      <td>3</td>\n",
       "      <td>1</td>\n",
       "      <td>2</td>\n",
       "    </tr>\n",
       "  </tbody>\n",
       "</table>\n",
       "</div>"
      ],
      "text/plain": [
       "     zip  hour  weekday  temperature  precipitation\n",
       "0  10002     0        3            1              2\n",
       "1  10010     0        3            1              2\n",
       "2  10014     0        3            1              2\n",
       "3  10278     0        3            1              2\n",
       "4  10022     0        3            1              2"
      ]
     },
     "execution_count": 157,
     "metadata": {},
     "output_type": "execute_result"
    }
   ],
   "source": [
    "merged = yellow_201405.set_index(\"date\").join(weather_201405.drop([\"fahrenheit\", \"precip_in\"], axis=1), how='inner') \\\n",
    ".reset_index().drop([\"type\", \"date\"], axis=1)\n",
    "merged.head()"
   ]
  },
  {
   "cell_type": "code",
   "execution_count": 158,
   "metadata": {},
   "outputs": [
    {
     "data": {
      "text/html": [
       "<div>\n",
       "<style scoped>\n",
       "    .dataframe tbody tr th:only-of-type {\n",
       "        vertical-align: middle;\n",
       "    }\n",
       "\n",
       "    .dataframe tbody tr th {\n",
       "        vertical-align: top;\n",
       "    }\n",
       "\n",
       "    .dataframe thead th {\n",
       "        text-align: right;\n",
       "    }\n",
       "</style>\n",
       "<table border=\"1\" class=\"dataframe\">\n",
       "  <thead>\n",
       "    <tr style=\"text-align: right;\">\n",
       "      <th></th>\n",
       "      <th>hour</th>\n",
       "      <th>weekday</th>\n",
       "      <th>zip</th>\n",
       "      <th>temperature</th>\n",
       "      <th>precipitation</th>\n",
       "      <th>count</th>\n",
       "    </tr>\n",
       "  </thead>\n",
       "  <tbody>\n",
       "    <tr>\n",
       "      <th>484</th>\n",
       "      <td>19</td>\n",
       "      <td>4</td>\n",
       "      <td>10003</td>\n",
       "      <td>2</td>\n",
       "      <td>0</td>\n",
       "      <td>13</td>\n",
       "    </tr>\n",
       "    <tr>\n",
       "      <th>222</th>\n",
       "      <td>20</td>\n",
       "      <td>3</td>\n",
       "      <td>10010</td>\n",
       "      <td>2</td>\n",
       "      <td>0</td>\n",
       "      <td>12</td>\n",
       "    </tr>\n",
       "    <tr>\n",
       "      <th>852</th>\n",
       "      <td>0</td>\n",
       "      <td>6</td>\n",
       "      <td>10012</td>\n",
       "      <td>2</td>\n",
       "      <td>0</td>\n",
       "      <td>11</td>\n",
       "    </tr>\n",
       "    <tr>\n",
       "      <th>573</th>\n",
       "      <td>0</td>\n",
       "      <td>5</td>\n",
       "      <td>10012</td>\n",
       "      <td>2</td>\n",
       "      <td>0</td>\n",
       "      <td>11</td>\n",
       "    </tr>\n",
       "    <tr>\n",
       "      <th>833</th>\n",
       "      <td>23</td>\n",
       "      <td>5</td>\n",
       "      <td>10012</td>\n",
       "      <td>2</td>\n",
       "      <td>0</td>\n",
       "      <td>11</td>\n",
       "    </tr>\n",
       "  </tbody>\n",
       "</table>\n",
       "</div>"
      ],
      "text/plain": [
       "     hour  weekday    zip  temperature  precipitation  count\n",
       "484    19        4  10003            2              0     13\n",
       "222    20        3  10010            2              0     12\n",
       "852     0        6  10012            2              0     11\n",
       "573     0        5  10012            2              0     11\n",
       "833    23        5  10012            2              0     11"
      ]
     },
     "execution_count": 158,
     "metadata": {},
     "output_type": "execute_result"
    }
   ],
   "source": [
    "merged['count'] = 1\n",
    "yellow_201405_counted = merged.groupby(['hour','weekday','zip','temperature','precipitation'], \\\n",
    "                                      as_index=False, sort=False).sum()\n",
    "yellow_201405_counted.sort_values(\"count\", ascending=False).head()"
   ]
  },
  {
   "cell_type": "code",
   "execution_count": 159,
   "metadata": {},
   "outputs": [
    {
     "data": {
      "text/plain": [
       "(5852, 6)"
      ]
     },
     "execution_count": 159,
     "metadata": {},
     "output_type": "execute_result"
    }
   ],
   "source": [
    "yellow_201405_counted.shape"
   ]
  },
  {
   "cell_type": "code",
   "execution_count": 160,
   "metadata": {},
   "outputs": [],
   "source": [
    "# zips obtained with radius=1.\n",
    "yellow_201405_counted.to_csv(\"yellow_counts_201405.csv\", encoding='utf-8', index=False)"
   ]
  }
 ],
 "metadata": {
  "kernelspec": {
   "display_name": "Python 3",
   "language": "python",
   "name": "python3"
  },
  "language_info": {
   "codemirror_mode": {
    "name": "ipython",
    "version": 3
   },
   "file_extension": ".py",
   "mimetype": "text/x-python",
   "name": "python",
   "nbconvert_exporter": "python",
   "pygments_lexer": "ipython3",
   "version": "3.6.5"
  }
 },
 "nbformat": 4,
 "nbformat_minor": 2
}
