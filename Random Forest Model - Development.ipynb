{
 "cells": [
  {
   "cell_type": "markdown",
   "metadata": {},
   "source": [
    "### Train/Dev/Test sets\n",
    "Dev and Test sets should contain the most recent data.\n",
    "\n",
    "TODO: \n",
    "- normalize count.\n",
    "- train on 2014, dev and test on 2015.\n",
    "\n",
    "Since the count per grid and datetime is proportional to the set size, normalize count or use equally sized train/dev/test sets without normalizing counts.\n",
    "For a more sophisticated solution (but unnecessarily so?), one could use the empirical distribution of counts to scale counts according to the set size.\n",
    "So what data should the deployed model be trained on?\n",
    "\n",
    "### Random Forest Model\n",
    "Parameters to tune:\n",
    "- max depth\n",
    "- training set size\n",
    "\n",
    "2014-2016-small: \n",
    "    - 11m16s to prepare data; 5m1s to train.\n",
    "    - Used about 4GB for training.\n",
    "    - R-squared = 0.44 without parameter tuning.\n",
    "(Lenovo X1 Carbon; i5; 8GB RAM)\n",
    "\n",
    "2015-2015 small:\n",
    "    - 6m49s to prepare data; 2m41s to train.\n",
    "\n",
    "TODO: \n",
    "- (Important) Weekday and Hour are categorical!\n",
    "- Analyze the prediction. Residual by temperature, precipitation, weekday, hour. Accuracy for high-demand area.\n",
    "- fix read_metar. Only getting <200,000 out of 500,000 after joining. Warning: this bug might skew the data.\n",
    "\n",
    "Ref:\n",
    "- http://www.vivekchoksi.com/papers/taxi_pickups.pdf\n",
    "    Tune the max depth and min records in a leaf.\n",
    "    \n"
   ]
  },
  {
   "cell_type": "code",
   "execution_count": 1,
   "metadata": {
    "scrolled": true
   },
   "outputs": [
    {
     "name": "stderr",
     "output_type": "stream",
     "text": [
      "/home/atkm/code/taxi-demand-prediction/venv/lib/python3.6/site-packages/sklearn/ensemble/weight_boosting.py:29: DeprecationWarning: numpy.core.umath_tests is an internal NumPy module and should not be imported. It will be removed in a future NumPy release.\n",
      "  from numpy.core.umath_tests import inner1d\n"
     ]
    }
   ],
   "source": [
    "import pandas as pd\n",
    "import numpy as np\n",
    "from sklearn.ensemble import RandomForestRegressor\n",
    "from sklearn.model_selection import train_test_split\n",
    "\n",
    "import matplotlib.pyplot as plt\n",
    "import seaborn as sns\n",
    "sns.set()\n",
    "\n",
    "from utils import geoutils\n",
    "from utils import datautils\n",
    "\n",
    "pd.options.mode.chained_assignment = None"
   ]
  },
  {
   "cell_type": "code",
   "execution_count": 1,
   "metadata": {},
   "outputs": [],
   "source": [
    "# Given (year, month) tuples, computes np.arrays for ML\n",
    "# No memory issue for 2014-2016.\n",
    "def prep_for_ml(ym_tuples, size):\n",
    "    X = np.empty((0,6))\n",
    "    y = np.empty(0)\n",
    "\n",
    "    for year, month in ym_tuples:\n",
    "        print(year,month)\n",
    "        with datautils.get_rides_data(year,month,size) as f:\n",
    "            rides = datautils.read_rides(f)\n",
    "        with datautils.get_metar_data(year,month) as f:\n",
    "            metar = datautils.read_metar(f)\n",
    "        joined = datautils.join_rides_metar(rides, metar)\n",
    "        col_names = joined.columns\n",
    "        X0, y0 = datautils.extract_ml_features(joined)\n",
    "        print(len(X0))\n",
    "        \n",
    "        # when a DataFrame is concatenated with an np.array, it is casted to an np.array.\n",
    "        X = np.concatenate([X, X0])\n",
    "        y = np.concatenate([y, y0])\n",
    "    print(col_names)\n",
    "    print(f'{len(X)} samples')\n",
    "    return X, y"
   ]
  },
  {
   "cell_type": "markdown",
   "metadata": {},
   "source": [
    "## Model training"
   ]
  },
  {
   "cell_type": "code",
   "execution_count": 4,
   "metadata": {
    "scrolled": true
   },
   "outputs": [
    {
     "name": "stdout",
     "output_type": "stream",
     "text": [
      "2015 1\n",
      "Warning: read_metar is not fully developed. Some records may be improperly dropped.\n",
      "169398\n",
      "2015 2\n",
      "Warning: read_metar is not fully developed. Some records may be improperly dropped.\n",
      "165211\n",
      "2015 3\n",
      "Warning: read_metar is not fully developed. Some records may be improperly dropped.\n",
      "175603\n",
      "2015 4\n",
      "Warning: read_metar is not fully developed. Some records may be improperly dropped.\n",
      "172449\n",
      "2015 5\n",
      "Warning: read_metar is not fully developed. Some records may be improperly dropped.\n",
      "178866\n",
      "2015 6\n",
      "Warning: read_metar is not fully developed. Some records may be improperly dropped.\n",
      "171779\n",
      "2015 7\n",
      "Warning: read_metar is not fully developed. Some records may be improperly dropped.\n",
      "175558\n",
      "2015 8\n",
      "Warning: read_metar is not fully developed. Some records may be improperly dropped.\n",
      "174868\n",
      "2015 9\n",
      "Warning: read_metar is not fully developed. Some records may be improperly dropped.\n",
      "172424\n",
      "2015 10\n",
      "Warning: read_metar is not fully developed. Some records may be improperly dropped.\n",
      "171699\n",
      "2015 11\n",
      "Warning: read_metar is not fully developed. Some records may be improperly dropped.\n",
      "168316\n",
      "2015 12\n",
      "Warning: read_metar is not fully developed. Some records may be improperly dropped.\n",
      "171790\n",
      "2016 1\n",
      "Warning: read_metar is not fully developed. Some records may be improperly dropped.\n",
      "167400\n",
      "2016 2\n",
      "Warning: read_metar is not fully developed. Some records may be improperly dropped.\n",
      "164401\n",
      "2016 3\n",
      "Warning: read_metar is not fully developed. Some records may be improperly dropped.\n",
      "172977\n",
      "2016 4\n",
      "Warning: read_metar is not fully developed. Some records may be improperly dropped.\n",
      "171317\n",
      "2016 5\n",
      "Warning: read_metar is not fully developed. Some records may be improperly dropped.\n",
      "176370\n",
      "2016 6\n",
      "Warning: read_metar is not fully developed. Some records may be improperly dropped.\n",
      "171797\n",
      "Index(['grid_x', 'grid_y', 'count', 'precip_in', 'fahrenheit', 'weekday',\n",
      "       'hour'],\n",
      "      dtype='object')\n",
      "3092223 samples\n",
      "CPU times: user 6min 39s, sys: 2.32 s, total: 6min 42s\n",
      "Wall time: 6min 42s\n"
     ]
    }
   ],
   "source": [
    "%%time\n",
    "\n",
    "months_2016 = [(2016, m+1) for m in range(6)]\n",
    "#other_months = [(y, m+1) for y in range(2014, 2016) for m in range(12)]\n",
    "months_2015 = [(2015, k+1) for k in range(12)]\n",
    "#ym_tuples = other_months + months_2016\n",
    "ym_tuples = months_2015 + months_2016\n",
    "\n",
    "# TODO: hour and weekday should be categorical. Implement this when porting the model to Spark.\n",
    "X, y = prep_for_ml(ym_tuples, 'small')"
   ]
  },
  {
   "cell_type": "code",
   "execution_count": 5,
   "metadata": {},
   "outputs": [
    {
     "name": "stdout",
     "output_type": "stream",
     "text": [
      "CPU times: user 2min 35s, sys: 1.12 s, total: 2min 36s\n",
      "Wall time: 2min 37s\n"
     ]
    }
   ],
   "source": [
    "%%time\n",
    "\n",
    "test_set_size=50000\n",
    "X_train, X_test, y_train, y_test = train_test_split(X, y, test_size=test_set_size, random_state=1)\n",
    "X_train, X_dev, y_train, y_dev = train_test_split(X_train, y_train,test_size=test_set_size, random_state=2)\n",
    "rf = RandomForestRegressor()\n",
    "rf.fit(X_train, y_train)"
   ]
  },
  {
   "cell_type": "code",
   "execution_count": 6,
   "metadata": {},
   "outputs": [
    {
     "data": {
      "text/plain": [
       "(0.8304674284721607, 0.46389161473654555, 0.43839968259980927)"
      ]
     },
     "execution_count": 6,
     "metadata": {},
     "output_type": "execute_result"
    }
   ],
   "source": [
    "rf.score(X_train, y_train), rf.score(X_dev, y_dev), rf.score(X_test, y_test)"
   ]
  },
  {
   "cell_type": "code",
   "execution_count": 7,
   "metadata": {},
   "outputs": [
    {
     "data": {
      "text/plain": [
       "['./model_2014-2016/y_test.pkl']"
      ]
     },
     "execution_count": 7,
     "metadata": {},
     "output_type": "execute_result"
    }
   ],
   "source": [
    "# save model and data\n",
    "from sklearn.externals import joblib\n",
    "import os\n",
    "\n",
    "dirname = './model_2014-2016'\n",
    "\n",
    "if os.path.exists(dirname):\n",
    "    raise \"The model directory already exists! Sure you want to overwrite?\"\n",
    "else:\n",
    "    os.makedirs(dirname)\n",
    "    \n",
    "joblib.dump(rf, f'{dirname}/rf.pkl')\n",
    "joblib.dump(X_train, f'{dirname}/X_train.pkl')\n",
    "joblib.dump(X_dev, f'{dirname}/X_dev.pkl')\n",
    "joblib.dump(X_test, f'{dirname}/X_test.pkl')\n",
    "joblib.dump(y_train, f'{dirname}/y_train.pkl')\n",
    "joblib.dump(y_dev, f'{dirname}/y_dev.pkl')\n",
    "joblib.dump(y_test, f'{dirname}/y_test.pkl')\n",
    "#pkld = joblib.load('rf_2015-2016.pkl')"
   ]
  },
  {
   "cell_type": "markdown",
   "metadata": {},
   "source": [
    "## Analyze model"
   ]
  },
  {
   "cell_type": "code",
   "execution_count": 2,
   "metadata": {},
   "outputs": [],
   "source": [
    "from sklearn.externals import joblib\n",
    "\n",
    "dirname = './model_2015-2016'\n",
    "\n",
    "rf = joblib.load(f'{dirname}/rf.pkl')\n",
    "X_train = joblib.load(f'{dirname}/X_train.pkl')\n",
    "X_dev = joblib.load(f'{dirname}/X_dev.pkl')\n",
    "X_test = joblib.load(f'{dirname}/X_test.pkl')\n",
    "y_train = joblib.load(f'{dirname}/y_train.pkl')\n",
    "y_dev = joblib.load(f'{dirname}/y_dev.pkl')\n",
    "y_test = joblib.load(f'{dirname}/y_test.pkl')"
   ]
  },
  {
   "cell_type": "code",
   "execution_count": 3,
   "metadata": {},
   "outputs": [
    {
     "data": {
      "text/plain": [
       "(0.8303843545891284, 0.4611038801153114, 0.43975471433811336)"
      ]
     },
     "execution_count": 3,
     "metadata": {},
     "output_type": "execute_result"
    }
   ],
   "source": [
    "rf.score(X_train, y_train), rf.score(X_dev, y_dev), rf.score(X_test, y_test)"
   ]
  },
  {
   "cell_type": "code",
   "execution_count": 33,
   "metadata": {},
   "outputs": [
    {
     "data": {
      "text/plain": [
       "(1.0392413405837126, 1.8690826500327224, 1.8790995300529996)"
      ]
     },
     "execution_count": 33,
     "metadata": {},
     "output_type": "execute_result"
    }
   ],
   "source": [
    "rmse_score(rf, X_train, y_train), rmse_score(rf, X_dev, y_dev), rmse_score(rf, X_test, y_test)"
   ]
  },
  {
   "cell_type": "markdown",
   "metadata": {},
   "source": [
    "### Residual plots\n",
    "- tends to underestimate high counts; overestimate low counts.\n",
    "- Feature vs residual plots look good."
   ]
  },
  {
   "cell_type": "code",
   "execution_count": 8,
   "metadata": {},
   "outputs": [],
   "source": [
    "y_pred = rf.predict(X_dev)\n",
    "residual = y_dev - y_pred"
   ]
  },
  {
   "cell_type": "code",
   "execution_count": 22,
   "metadata": {},
   "outputs": [
    {
     "data": {
      "text/plain": [
       "array([[ 2.  , 21.  , 32.  , 51.  , 62.06,  0.  ],\n",
       "       [ 2.  , 12.  , 39.  , 46.  , 40.1 ,  0.21],\n",
       "       [ 3.  , 22.  , 23.  , 54.  , 23.  ,  0.  ],\n",
       "       [ 6.  , 21.  , 20.  , 51.  , 32.  ,  0.  ],\n",
       "       [ 0.  , 17.  , 33.  , 40.  , 60.08,  0.  ],\n",
       "       [ 1.  , 12.  , 18.  , 52.  , 78.98,  0.  ],\n",
       "       [ 0.  , 11.  , 30.  , 49.  , 35.06,  0.  ],\n",
       "       [ 0.  , 12.  , 24.  , 51.  , 51.08,  0.  ],\n",
       "       [ 3.  , 15.  , 27.  , 65.  , 46.67,  0.  ],\n",
       "       [ 1.  , 18.  , 26.  , 52.  , 78.89,  0.  ]])"
      ]
     },
     "execution_count": 22,
     "metadata": {},
     "output_type": "execute_result"
    }
   ],
   "source": [
    "# weekday, hour, grid_x, grid_y, temperature, precipitation\n",
    "X_dev[:10]"
   ]
  },
  {
   "cell_type": "code",
   "execution_count": 11,
   "metadata": {
    "scrolled": false
   },
   "outputs": [
    {
     "data": {
      "text/plain": [
       "<matplotlib.collections.PathCollection at 0x7f3521ed75f8>"
      ]
     },
     "execution_count": 11,
     "metadata": {},
     "output_type": "execute_result"
    },
    {
     "data": {
      "image/png": "[encoded data removed]",
      "text/plain": [
       "<Figure size 864x576 with 1 Axes>"
      ]
     },
     "metadata": {
      "needs_background": "light"
     },
     "output_type": "display_data"
    }
   ],
   "source": [
    "# residual vs actual value\n",
    "plt.figure(figsize=(12, 8))\n",
    "plt.scatter(y_dev, residual)"
   ]
  },
  {
   "cell_type": "code",
   "execution_count": 29,
   "metadata": {},
   "outputs": [
    {
     "data": {
      "text/plain": [
       "array([ True,  True, False, ...,  True,  True, False])"
      ]
     },
     "execution_count": 29,
     "metadata": {},
     "output_type": "execute_result"
    }
   ],
   "source": [
    "y_dev < 5"
   ]
  },
  {
   "cell_type": "code",
   "execution_count": 28,
   "metadata": {
    "scrolled": true
   },
   "outputs": [
    {
     "ename": "TypeError",
     "evalue": "ufunc 'bitwise_and' not supported for the input types, and the inputs could not be safely coerced to any supported types according to the casting rule ''safe''",
     "output_type": "error",
     "traceback": [
      "\u001b[0;31m---------------------------------------------------------------------------\u001b[0m",
      "\u001b[0;31mTypeError\u001b[0m                                 Traceback (most recent call last)",
      "\u001b[0;32m<ipython-input-28-886454e4bee3>\u001b[0m in \u001b[0;36m<module>\u001b[0;34m()\u001b[0m\n\u001b[0;32m----> 1\u001b[0;31m \u001b[0my_pred\u001b[0m\u001b[0;34m[\u001b[0m\u001b[0my_dev\u001b[0m \u001b[0;34m<\u001b[0m \u001b[0;36m5\u001b[0m \u001b[0;34m&\u001b[0m \u001b[0mresidual\u001b[0m \u001b[0;34m<\u001b[0m \u001b[0;36m0\u001b[0m\u001b[0;34m]\u001b[0m\u001b[0;34m\u001b[0m\u001b[0m\n\u001b[0m",
      "\u001b[0;31mTypeError\u001b[0m: ufunc 'bitwise_and' not supported for the input types, and the inputs could not be safely coerced to any supported types according to the casting rule ''safe''"
     ]
    }
   ],
   "source": [
    "y_pred[y_dev < 5 & residual < 0]"
   ]
  },
  {
   "cell_type": "code",
   "execution_count": 23,
   "metadata": {
    "scrolled": false
   },
   "outputs": [
    {
     "data": {
      "text/plain": [
       "<matplotlib.collections.PathCollection at 0x7f3523fc42b0>"
      ]
     },
     "execution_count": 23,
     "metadata": {},
     "output_type": "execute_result"
    },
    {
     "data": {
      "image/png": "[encoded data removed]",
      "text/plain": [
       "<Figure size 864x576 with 1 Axes>"
      ]
     },
     "metadata": {
      "needs_background": "light"
     },
     "output_type": "display_data"
    }
   ],
   "source": [
    "# vs weekday\n",
    "plt.figure(figsize=(12,8))\n",
    "plt.scatter(X_dev[:, 0], residual)"
   ]
  },
  {
   "cell_type": "code",
   "execution_count": 24,
   "metadata": {},
   "outputs": [
    {
     "data": {
      "text/plain": [
       "<matplotlib.collections.PathCollection at 0x7f3523f20780>"
      ]
     },
     "execution_count": 24,
     "metadata": {},
     "output_type": "execute_result"
    },
    {
     "data": {
      "image/png": "[encoded data removed]",
      "text/plain": [
       "<Figure size 864x576 with 1 Axes>"
      ]
     },
     "metadata": {
      "needs_background": "light"
     },
     "output_type": "display_data"
    }
   ],
   "source": [
    "# vs hour\n",
    "plt.figure(figsize=(12,8))\n",
    "plt.scatter(X_dev[:, 1], residual)"
   ]
  },
  {
   "cell_type": "code",
   "execution_count": 25,
   "metadata": {},
   "outputs": [
    {
     "data": {
      "text/plain": [
       "<matplotlib.collections.PathCollection at 0x7f3523ef49b0>"
      ]
     },
     "execution_count": 25,
     "metadata": {},
     "output_type": "execute_result"
    },
    {
     "data": {
      "image/png": "[encoded data removed]",
      "text/plain": [
       "<Figure size 864x576 with 1 Axes>"
      ]
     },
     "metadata": {
      "needs_background": "light"
     },
     "output_type": "display_data"
    }
   ],
   "source": [
    "# vs temperature\n",
    "plt.figure(figsize=(12,8))\n",
    "plt.scatter(X_dev[:, 4], residual)"
   ]
  },
  {
   "cell_type": "code",
   "execution_count": 20,
   "metadata": {
    "scrolled": true
   },
   "outputs": [
    {
     "data": {
      "text/plain": [
       "<matplotlib.collections.PathCollection at 0x7f3524026eb8>"
      ]
     },
     "execution_count": 20,
     "metadata": {},
     "output_type": "execute_result"
    },
    {
     "data": {
      "image/png": "[encoded data removed]",
      "text/plain": [
       "<Figure size 864x576 with 1 Axes>"
      ]
     },
     "metadata": {
      "needs_background": "light"
     },
     "output_type": "display_data"
    }
   ],
   "source": [
    "# vs precipitation\n",
    "plt.figure(figsize=(12,8))\n",
    "plt.scatter(X_dev[:, 5], residual)"
   ]
  },
  {
   "cell_type": "markdown",
   "metadata": {},
   "source": [
    "## Train on 2014-2016\n"
   ]
  },
  {
   "cell_type": "code",
   "execution_count": 9,
   "metadata": {
    "scrolled": true
   },
   "outputs": [
    {
     "name": "stdout",
     "output_type": "stream",
     "text": [
      "2014 1\n",
      "Warning: read_metar is not fully developed. Some records may be improperly dropped.\n",
      "2014 2\n",
      "Warning: read_metar is not fully developed. Some records may be improperly dropped.\n",
      "2014 3\n",
      "Warning: read_metar is not fully developed. Some records may be improperly dropped.\n",
      "2014 4\n",
      "Warning: read_metar is not fully developed. Some records may be improperly dropped.\n",
      "2014 5\n",
      "Warning: read_metar is not fully developed. Some records may be improperly dropped.\n",
      "2014 6\n",
      "Warning: read_metar is not fully developed. Some records may be improperly dropped.\n",
      "2014 7\n",
      "Warning: read_metar is not fully developed. Some records may be improperly dropped.\n",
      "2014 8\n",
      "Warning: read_metar is not fully developed. Some records may be improperly dropped.\n",
      "2014 9\n",
      "Warning: read_metar is not fully developed. Some records may be improperly dropped.\n",
      "2014 10\n",
      "Warning: read_metar is not fully developed. Some records may be improperly dropped.\n",
      "2014 11\n",
      "Warning: read_metar is not fully developed. Some records may be improperly dropped.\n",
      "2014 12\n",
      "Warning: read_metar is not fully developed. Some records may be improperly dropped.\n",
      "2015 1\n",
      "Warning: read_metar is not fully developed. Some records may be improperly dropped.\n",
      "2015 2\n",
      "Warning: read_metar is not fully developed. Some records may be improperly dropped.\n",
      "2015 3\n",
      "Warning: read_metar is not fully developed. Some records may be improperly dropped.\n",
      "2015 4\n",
      "Warning: read_metar is not fully developed. Some records may be improperly dropped.\n",
      "2015 5\n",
      "Warning: read_metar is not fully developed. Some records may be improperly dropped.\n",
      "2015 6\n",
      "Warning: read_metar is not fully developed. Some records may be improperly dropped.\n",
      "2015 7\n",
      "Warning: read_metar is not fully developed. Some records may be improperly dropped.\n",
      "2015 8\n",
      "Warning: read_metar is not fully developed. Some records may be improperly dropped.\n",
      "2015 9\n",
      "Warning: read_metar is not fully developed. Some records may be improperly dropped.\n",
      "2015 10\n",
      "Warning: read_metar is not fully developed. Some records may be improperly dropped.\n",
      "2015 11\n",
      "Warning: read_metar is not fully developed. Some records may be improperly dropped.\n",
      "2015 12\n",
      "Warning: read_metar is not fully developed. Some records may be improperly dropped.\n",
      "2016 1\n",
      "Warning: read_metar is not fully developed. Some records may be improperly dropped.\n",
      "2016 2\n",
      "Warning: read_metar is not fully developed. Some records may be improperly dropped.\n",
      "2016 3\n",
      "Warning: read_metar is not fully developed. Some records may be improperly dropped.\n",
      "2016 4\n",
      "Warning: read_metar is not fully developed. Some records may be improperly dropped.\n",
      "2016 5\n",
      "Warning: read_metar is not fully developed. Some records may be improperly dropped.\n",
      "2016 6\n",
      "Warning: read_metar is not fully developed. Some records may be improperly dropped.\n",
      "Index(['weekday', 'hour', 'grid_x', 'grid_y', 'fahrenheit', 'precip_in'], dtype='object')\n"
     ]
    }
   ],
   "source": [
    "X = np.empty((0,6))\n",
    "y = np.empty(0)\n",
    "\n",
    "for year, month in ym_tuples:\n",
    "    print(year,month)\n",
    "    with datautils.get_rides_data(year,month,'tiny') as f:\n",
    "        rides = datautils.read_rides(f)\n",
    "    with datautils.get_metar_data(year,month) as f:\n",
    "        metar = datautils.read_metar(f)\n",
    "    X0, y0 = datautils.prep_for_ml(rides, metar)\n",
    "    col_names = X0.columns\n",
    "    X = np.concatenate([X, X0])\n",
    "    y = np.concatenate([y, y0])\n",
    "\n",
    "print(col_names)"
   ]
  },
  {
   "cell_type": "code",
   "execution_count": 13,
   "metadata": {},
   "outputs": [
    {
     "data": {
      "text/plain": [
       "array([[6.0, 0.0, 27.0, 47.0, 75.02, 0.0],\n",
       "       [0.0, 7.0, 21.0, 56.0, 41.0, 0.0],\n",
       "       [1.0, 7.0, 27.0, 48.0, 66.02, 0.0],\n",
       "       [5.0, 2.0, 19.0, 54.0, 68.0, 0.0],\n",
       "       [5.0, 16.0, 28.0, 55.0, 77.0, 0.0],\n",
       "       [1.0, 9.0, 29.0, 43.0, 80.06, 0.0],\n",
       "       [1.0, 21.0, 14.0, 57.0, 77.0, 0.0],\n",
       "       [1.0, 13.0, 31.0, 48.0, 57.14000000000001, 0.0],\n",
       "       [0.0, 18.0, 24.0, 49.0, 78.08, 0.0],\n",
       "       [4.0, 8.0, 40.0, 42.0, 51.08, 0.0]], dtype=object)"
      ]
     },
     "execution_count": 13,
     "metadata": {},
     "output_type": "execute_result"
    }
   ],
   "source": [
    "X[np.random.randint(X.shape[0], size=10)]"
   ]
  },
  {
   "cell_type": "code",
   "execution_count": 8,
   "metadata": {
    "scrolled": true
   },
   "outputs": [
    {
     "ename": "DataError",
     "evalue": "No numeric types to aggregate",
     "output_type": "error",
     "traceback": [
      "\u001b[0;31m---------------------------------------------------------------------------\u001b[0m",
      "\u001b[0;31mDataError\u001b[0m                                 Traceback (most recent call last)",
      "\u001b[0;32m<ipython-input-8-e8f64774d926>\u001b[0m in \u001b[0;36m<module>\u001b[0;34m()\u001b[0m\n\u001b[1;32m      4\u001b[0m     \u001b[0mrides\u001b[0m \u001b[0;34m=\u001b[0m \u001b[0mdatautils\u001b[0m\u001b[0;34m.\u001b[0m\u001b[0mread_rides\u001b[0m\u001b[0;34m(\u001b[0m\u001b[0mf\u001b[0m\u001b[0;34m)\u001b[0m\u001b[0;34m\u001b[0m\u001b[0m\n\u001b[1;32m      5\u001b[0m \u001b[0;32mwith\u001b[0m \u001b[0mdatautils\u001b[0m\u001b[0;34m.\u001b[0m\u001b[0mget_metar_data\u001b[0m\u001b[0;34m(\u001b[0m\u001b[0myear\u001b[0m\u001b[0;34m,\u001b[0m\u001b[0mmonth\u001b[0m\u001b[0;34m)\u001b[0m \u001b[0;32mas\u001b[0m \u001b[0mf\u001b[0m\u001b[0;34m:\u001b[0m\u001b[0;34m\u001b[0m\u001b[0m\n\u001b[0;32m----> 6\u001b[0;31m     \u001b[0mmetar\u001b[0m \u001b[0;34m=\u001b[0m \u001b[0mdatautils\u001b[0m\u001b[0;34m.\u001b[0m\u001b[0mread_metar\u001b[0m\u001b[0;34m(\u001b[0m\u001b[0mf\u001b[0m\u001b[0;34m)\u001b[0m\u001b[0;34m\u001b[0m\u001b[0m\n\u001b[0m\u001b[1;32m      7\u001b[0m \u001b[0mX\u001b[0m\u001b[0;34m,\u001b[0m \u001b[0my\u001b[0m \u001b[0;34m=\u001b[0m \u001b[0mdatautils\u001b[0m\u001b[0;34m.\u001b[0m\u001b[0mprep_for_ml\u001b[0m\u001b[0;34m(\u001b[0m\u001b[0mrides\u001b[0m\u001b[0;34m,\u001b[0m \u001b[0mmetar\u001b[0m\u001b[0;34m)\u001b[0m\u001b[0;34m\u001b[0m\u001b[0m\n",
      "\u001b[0;32m~/code/taxi-demand-prediction/utils/datautils.py\u001b[0m in \u001b[0;36mread_metar\u001b[0;34m(csv)\u001b[0m\n\u001b[1;32m     89\u001b[0m     \u001b[0;31m# drop the minute information so records in the same hour are put in the same group.\u001b[0m\u001b[0;34m\u001b[0m\u001b[0;34m\u001b[0m\u001b[0m\n\u001b[1;32m     90\u001b[0m     \u001b[0mfahrenheit\u001b[0m\u001b[0;34m[\u001b[0m\u001b[0;34m'datetime'\u001b[0m\u001b[0;34m]\u001b[0m \u001b[0;34m=\u001b[0m \u001b[0mpd\u001b[0m\u001b[0;34m.\u001b[0m\u001b[0mto_datetime\u001b[0m\u001b[0;34m(\u001b[0m\u001b[0mfahrenheit\u001b[0m\u001b[0;34m[\u001b[0m\u001b[0;34m'datetime'\u001b[0m\u001b[0;34m]\u001b[0m\u001b[0;34m.\u001b[0m\u001b[0mdt\u001b[0m\u001b[0;34m.\u001b[0m\u001b[0mstrftime\u001b[0m\u001b[0;34m(\u001b[0m\u001b[0;34m\"%Y-%m-%d %H\"\u001b[0m\u001b[0;34m)\u001b[0m\u001b[0;34m)\u001b[0m\u001b[0;34m\u001b[0m\u001b[0m\n\u001b[0;32m---> 91\u001b[0;31m     \u001b[0mfahrenheit_avg\u001b[0m \u001b[0;34m=\u001b[0m \u001b[0mfahrenheit\u001b[0m\u001b[0;34m.\u001b[0m\u001b[0mgroupby\u001b[0m\u001b[0;34m(\u001b[0m\u001b[0;34m[\u001b[0m\u001b[0;34m'datetime'\u001b[0m\u001b[0;34m]\u001b[0m\u001b[0;34m)\u001b[0m\u001b[0;34m.\u001b[0m\u001b[0mmean\u001b[0m\u001b[0;34m(\u001b[0m\u001b[0;34m)\u001b[0m\u001b[0;34m\u001b[0m\u001b[0m\n\u001b[0m\u001b[1;32m     92\u001b[0m \u001b[0;34m\u001b[0m\u001b[0m\n\u001b[1;32m     93\u001b[0m     \u001b[0;31m# Warning: with the TODO above not fixed, the inner join will drop some records.\u001b[0m\u001b[0;34m\u001b[0m\u001b[0;34m\u001b[0m\u001b[0m\n",
      "\u001b[0;32m~/code/taxi-demand-prediction/venv/lib/python3.6/site-packages/pandas/core/groupby/groupby.py\u001b[0m in \u001b[0;36mmean\u001b[0;34m(self, *args, **kwargs)\u001b[0m\n\u001b[1;32m   1304\u001b[0m         \u001b[0mnv\u001b[0m\u001b[0;34m.\u001b[0m\u001b[0mvalidate_groupby_func\u001b[0m\u001b[0;34m(\u001b[0m\u001b[0;34m'mean'\u001b[0m\u001b[0;34m,\u001b[0m \u001b[0margs\u001b[0m\u001b[0;34m,\u001b[0m \u001b[0mkwargs\u001b[0m\u001b[0;34m,\u001b[0m \u001b[0;34m[\u001b[0m\u001b[0;34m'numeric_only'\u001b[0m\u001b[0;34m]\u001b[0m\u001b[0;34m)\u001b[0m\u001b[0;34m\u001b[0m\u001b[0m\n\u001b[1;32m   1305\u001b[0m         \u001b[0;32mtry\u001b[0m\u001b[0;34m:\u001b[0m\u001b[0;34m\u001b[0m\u001b[0m\n\u001b[0;32m-> 1306\u001b[0;31m             \u001b[0;32mreturn\u001b[0m \u001b[0mself\u001b[0m\u001b[0;34m.\u001b[0m\u001b[0m_cython_agg_general\u001b[0m\u001b[0;34m(\u001b[0m\u001b[0;34m'mean'\u001b[0m\u001b[0;34m,\u001b[0m \u001b[0;34m**\u001b[0m\u001b[0mkwargs\u001b[0m\u001b[0;34m)\u001b[0m\u001b[0;34m\u001b[0m\u001b[0m\n\u001b[0m\u001b[1;32m   1307\u001b[0m         \u001b[0;32mexcept\u001b[0m \u001b[0mGroupByError\u001b[0m\u001b[0;34m:\u001b[0m\u001b[0;34m\u001b[0m\u001b[0m\n\u001b[1;32m   1308\u001b[0m             \u001b[0;32mraise\u001b[0m\u001b[0;34m\u001b[0m\u001b[0m\n",
      "\u001b[0;32m~/code/taxi-demand-prediction/venv/lib/python3.6/site-packages/pandas/core/groupby/groupby.py\u001b[0m in \u001b[0;36m_cython_agg_general\u001b[0;34m(self, how, alt, numeric_only, min_count)\u001b[0m\n\u001b[1;32m   3970\u001b[0m                             min_count=-1):\n\u001b[1;32m   3971\u001b[0m         new_items, new_blocks = self._cython_agg_blocks(\n\u001b[0;32m-> 3972\u001b[0;31m             how, alt=alt, numeric_only=numeric_only, min_count=min_count)\n\u001b[0m\u001b[1;32m   3973\u001b[0m         \u001b[0;32mreturn\u001b[0m \u001b[0mself\u001b[0m\u001b[0;34m.\u001b[0m\u001b[0m_wrap_agged_blocks\u001b[0m\u001b[0;34m(\u001b[0m\u001b[0mnew_items\u001b[0m\u001b[0;34m,\u001b[0m \u001b[0mnew_blocks\u001b[0m\u001b[0;34m)\u001b[0m\u001b[0;34m\u001b[0m\u001b[0m\n\u001b[1;32m   3974\u001b[0m \u001b[0;34m\u001b[0m\u001b[0m\n",
      "\u001b[0;32m~/code/taxi-demand-prediction/venv/lib/python3.6/site-packages/pandas/core/groupby/groupby.py\u001b[0m in \u001b[0;36m_cython_agg_blocks\u001b[0;34m(self, how, alt, numeric_only, min_count)\u001b[0m\n\u001b[1;32m   4042\u001b[0m \u001b[0;34m\u001b[0m\u001b[0m\n\u001b[1;32m   4043\u001b[0m         \u001b[0;32mif\u001b[0m \u001b[0mlen\u001b[0m\u001b[0;34m(\u001b[0m\u001b[0mnew_blocks\u001b[0m\u001b[0;34m)\u001b[0m \u001b[0;34m==\u001b[0m \u001b[0;36m0\u001b[0m\u001b[0;34m:\u001b[0m\u001b[0;34m\u001b[0m\u001b[0m\n\u001b[0;32m-> 4044\u001b[0;31m             \u001b[0;32mraise\u001b[0m \u001b[0mDataError\u001b[0m\u001b[0;34m(\u001b[0m\u001b[0;34m'No numeric types to aggregate'\u001b[0m\u001b[0;34m)\u001b[0m\u001b[0;34m\u001b[0m\u001b[0m\n\u001b[0m\u001b[1;32m   4045\u001b[0m \u001b[0;34m\u001b[0m\u001b[0m\n\u001b[1;32m   4046\u001b[0m         \u001b[0;31m# reset the locs in the blocks to correspond to our\u001b[0m\u001b[0;34m\u001b[0m\u001b[0;34m\u001b[0m\u001b[0m\n",
      "\u001b[0;31mDataError\u001b[0m: No numeric types to aggregate"
     ]
    }
   ],
   "source": [
    "year=2014\n",
    "month=10\n",
    "with datautils.get_rides_data(year,month,'tiny') as f:\n",
    "    rides = datautils.read_rides(f)\n",
    "with datautils.get_metar_data(year,month) as f:\n",
    "    metar = datautils.read_metar(f)\n",
    "X, y = datautils.prep_for_ml(rides, metar)"
   ]
  },
  {
   "cell_type": "code",
   "execution_count": 3,
   "metadata": {},
   "outputs": [
    {
     "data": {
      "text/plain": [
       "((10000, 3), (671, 3))"
      ]
     },
     "execution_count": 3,
     "metadata": {},
     "output_type": "execute_result"
    }
   ],
   "source": [
    "rides.shape, metar.shape"
   ]
  },
  {
   "cell_type": "code",
   "execution_count": 4,
   "metadata": {},
   "outputs": [
    {
     "data": {
      "text/plain": [
       "(9399, 6)"
      ]
     },
     "execution_count": 4,
     "metadata": {},
     "output_type": "execute_result"
    }
   ],
   "source": [
    "X.shape"
   ]
  },
  {
   "cell_type": "code",
   "execution_count": 3,
   "metadata": {},
   "outputs": [],
   "source": [
    "# Note X.values, y.values\n",
    "X_train, X_test, y_train, y_test = train_test_split(X.values, y.values, test_size=0.1, random_state=1)\n",
    "X_train, X_dev, y_train, y_dev = train_test_split(X_train, y_train,test_size=0.1, random_state=2)\n",
    "rf = RandomForestRegressor()\n",
    "rf.fit(X_train, y_train)\n",
    "rf.score(X_dev, y_dev)"
   ]
  },
  {
   "cell_type": "markdown",
   "metadata": {},
   "source": [
    "## Develop prep_for_ml\n",
    "Using 2014-01."
   ]
  },
  {
   "cell_type": "code",
   "execution_count": 112,
   "metadata": {
    "scrolled": true
   },
   "outputs": [
    {
     "data": {
      "text/html": [
       "<div>\n",
       "<style scoped>\n",
       "    .dataframe tbody tr th:only-of-type {\n",
       "        vertical-align: middle;\n",
       "    }\n",
       "\n",
       "    .dataframe tbody tr th {\n",
       "        vertical-align: top;\n",
       "    }\n",
       "\n",
       "    .dataframe thead th {\n",
       "        text-align: right;\n",
       "    }\n",
       "</style>\n",
       "<table border=\"1\" class=\"dataframe\">\n",
       "  <thead>\n",
       "    <tr style=\"text-align: right;\">\n",
       "      <th></th>\n",
       "      <th>pickup_datetime</th>\n",
       "      <th>pickup_longitude</th>\n",
       "      <th>pickup_latitude</th>\n",
       "      <th>join_datetime</th>\n",
       "    </tr>\n",
       "  </thead>\n",
       "  <tbody>\n",
       "    <tr>\n",
       "      <th>0</th>\n",
       "      <td>2014-01-25 01:53:00</td>\n",
       "      <td>-73.979040</td>\n",
       "      <td>40.761767</td>\n",
       "      <td>2014-01-25 01:00:00</td>\n",
       "    </tr>\n",
       "    <tr>\n",
       "      <th>1</th>\n",
       "      <td>2014-01-10 22:11:20</td>\n",
       "      <td>-73.776607</td>\n",
       "      <td>40.645137</td>\n",
       "      <td>2014-01-10 22:00:00</td>\n",
       "    </tr>\n",
       "    <tr>\n",
       "      <th>2</th>\n",
       "      <td>2014-01-14 19:27:05</td>\n",
       "      <td>-73.981940</td>\n",
       "      <td>40.761639</td>\n",
       "      <td>2014-01-14 19:00:00</td>\n",
       "    </tr>\n",
       "    <tr>\n",
       "      <th>3</th>\n",
       "      <td>2014-01-28 13:35:00</td>\n",
       "      <td>-73.970580</td>\n",
       "      <td>40.755682</td>\n",
       "      <td>2014-01-28 13:00:00</td>\n",
       "    </tr>\n",
       "    <tr>\n",
       "      <th>4</th>\n",
       "      <td>2014-01-04 21:10:00</td>\n",
       "      <td>-73.983027</td>\n",
       "      <td>40.766362</td>\n",
       "      <td>2014-01-04 21:00:00</td>\n",
       "    </tr>\n",
       "  </tbody>\n",
       "</table>\n",
       "</div>"
      ],
      "text/plain": [
       "      pickup_datetime  pickup_longitude  pickup_latitude       join_datetime\n",
       "0 2014-01-25 01:53:00        -73.979040        40.761767 2014-01-25 01:00:00\n",
       "1 2014-01-10 22:11:20        -73.776607        40.645137 2014-01-10 22:00:00\n",
       "2 2014-01-14 19:27:05        -73.981940        40.761639 2014-01-14 19:00:00\n",
       "3 2014-01-28 13:35:00        -73.970580        40.755682 2014-01-28 13:00:00\n",
       "4 2014-01-04 21:10:00        -73.983027        40.766362 2014-01-04 21:00:00"
      ]
     },
     "execution_count": 112,
     "metadata": {},
     "output_type": "execute_result"
    }
   ],
   "source": [
    "size='small'\n",
    "rides = datautils.read_rides(f'data/yellow_tripdata_2014-01_{size}.csv')\n",
    "rides = datautils.clean_rides(rides)\n",
    "rides['join_datetime'] = pd.to_datetime(rides.pickup_datetime.dt.strftime(\"%Y-%m-%d %H\"))\n",
    "rides.head()"
   ]
  },
  {
   "cell_type": "code",
   "execution_count": 113,
   "metadata": {
    "scrolled": true
   },
   "outputs": [
    {
     "data": {
      "text/html": [
       "<div>\n",
       "<style scoped>\n",
       "    .dataframe tbody tr th:only-of-type {\n",
       "        vertical-align: middle;\n",
       "    }\n",
       "\n",
       "    .dataframe tbody tr th {\n",
       "        vertical-align: top;\n",
       "    }\n",
       "\n",
       "    .dataframe thead th {\n",
       "        text-align: right;\n",
       "    }\n",
       "</style>\n",
       "<table border=\"1\" class=\"dataframe\">\n",
       "  <thead>\n",
       "    <tr style=\"text-align: right;\">\n",
       "      <th></th>\n",
       "      <th>join_datetime</th>\n",
       "      <th>grid_x</th>\n",
       "      <th>grid_y</th>\n",
       "    </tr>\n",
       "  </thead>\n",
       "  <tbody>\n",
       "    <tr>\n",
       "      <th>0</th>\n",
       "      <td>2014-01-25 01:00:00</td>\n",
       "      <td>30</td>\n",
       "      <td>47</td>\n",
       "    </tr>\n",
       "    <tr>\n",
       "      <th>1</th>\n",
       "      <td>2014-01-10 22:00:00</td>\n",
       "      <td>117</td>\n",
       "      <td>70</td>\n",
       "    </tr>\n",
       "    <tr>\n",
       "      <th>2</th>\n",
       "      <td>2014-01-14 19:00:00</td>\n",
       "      <td>29</td>\n",
       "      <td>47</td>\n",
       "    </tr>\n",
       "    <tr>\n",
       "      <th>3</th>\n",
       "      <td>2014-01-28 13:00:00</td>\n",
       "      <td>34</td>\n",
       "      <td>48</td>\n",
       "    </tr>\n",
       "    <tr>\n",
       "      <th>4</th>\n",
       "      <td>2014-01-04 21:00:00</td>\n",
       "      <td>28</td>\n",
       "      <td>46</td>\n",
       "    </tr>\n",
       "  </tbody>\n",
       "</table>\n",
       "</div>"
      ],
      "text/plain": [
       "        join_datetime  grid_x  grid_y\n",
       "0 2014-01-25 01:00:00      30      47\n",
       "1 2014-01-10 22:00:00     117      70\n",
       "2 2014-01-14 19:00:00      29      47\n",
       "3 2014-01-28 13:00:00      34      48\n",
       "4 2014-01-04 21:00:00      28      46"
      ]
     },
     "execution_count": 113,
     "metadata": {},
     "output_type": "execute_result"
    }
   ],
   "source": [
    "# minutes and seconds information are unnecessary.\n",
    "rides = datautils.add_grid_cols(rides).drop(['pickup_latitude', 'pickup_longitude', 'pickup_datetime'], axis=1)\n",
    "rides.head()"
   ]
  },
  {
   "cell_type": "code",
   "execution_count": 114,
   "metadata": {},
   "outputs": [
    {
     "data": {
      "text/html": [
       "<div>\n",
       "<style scoped>\n",
       "    .dataframe tbody tr th:only-of-type {\n",
       "        vertical-align: middle;\n",
       "    }\n",
       "\n",
       "    .dataframe tbody tr th {\n",
       "        vertical-align: top;\n",
       "    }\n",
       "\n",
       "    .dataframe thead th {\n",
       "        text-align: right;\n",
       "    }\n",
       "</style>\n",
       "<table border=\"1\" class=\"dataframe\">\n",
       "  <thead>\n",
       "    <tr style=\"text-align: right;\">\n",
       "      <th></th>\n",
       "      <th>join_datetime</th>\n",
       "      <th>grid_x</th>\n",
       "      <th>grid_y</th>\n",
       "      <th>count</th>\n",
       "    </tr>\n",
       "  </thead>\n",
       "  <tbody>\n",
       "    <tr>\n",
       "      <th>0</th>\n",
       "      <td>2014-01-01</td>\n",
       "      <td>2</td>\n",
       "      <td>53</td>\n",
       "      <td>1</td>\n",
       "    </tr>\n",
       "    <tr>\n",
       "      <th>1</th>\n",
       "      <td>2014-01-01</td>\n",
       "      <td>4</td>\n",
       "      <td>51</td>\n",
       "      <td>1</td>\n",
       "    </tr>\n",
       "    <tr>\n",
       "      <th>2</th>\n",
       "      <td>2014-01-01</td>\n",
       "      <td>14</td>\n",
       "      <td>58</td>\n",
       "      <td>4</td>\n",
       "    </tr>\n",
       "    <tr>\n",
       "      <th>3</th>\n",
       "      <td>2014-01-01</td>\n",
       "      <td>14</td>\n",
       "      <td>59</td>\n",
       "      <td>1</td>\n",
       "    </tr>\n",
       "    <tr>\n",
       "      <th>4</th>\n",
       "      <td>2014-01-01</td>\n",
       "      <td>15</td>\n",
       "      <td>56</td>\n",
       "      <td>1</td>\n",
       "    </tr>\n",
       "  </tbody>\n",
       "</table>\n",
       "</div>"
      ],
      "text/plain": [
       "  join_datetime  grid_x  grid_y  count\n",
       "0    2014-01-01       2      53      1\n",
       "1    2014-01-01       4      51      1\n",
       "2    2014-01-01      14      58      4\n",
       "3    2014-01-01      14      59      1\n",
       "4    2014-01-01      15      56      1"
      ]
     },
     "execution_count": 114,
     "metadata": {},
     "output_type": "execute_result"
    }
   ],
   "source": [
    "#counts = rides.set_index('join_datetime').groupby([pd.Grouper(freq='1H', level='join_datetime'), 'grid_x', 'grid_y']).size()\n",
    "counts = rides.groupby(['join_datetime', 'grid_x', 'grid_y']).size()\n",
    "counts = counts.reset_index(name='count')\n",
    "counts.head() # For an unknown reason, the hour info is implicit in the printed table"
   ]
  },
  {
   "cell_type": "code",
   "execution_count": 115,
   "metadata": {
    "scrolled": true
   },
   "outputs": [
    {
     "name": "stdout",
     "output_type": "stream",
     "text": [
      "Warning: read_metar is not fully developed. Some records may be improperly dropped.\n"
     ]
    },
    {
     "data": {
      "text/html": [
       "<div>\n",
       "<style scoped>\n",
       "    .dataframe tbody tr th:only-of-type {\n",
       "        vertical-align: middle;\n",
       "    }\n",
       "\n",
       "    .dataframe tbody tr th {\n",
       "        vertical-align: top;\n",
       "    }\n",
       "\n",
       "    .dataframe thead th {\n",
       "        text-align: right;\n",
       "    }\n",
       "</style>\n",
       "<table border=\"1\" class=\"dataframe\">\n",
       "  <thead>\n",
       "    <tr style=\"text-align: right;\">\n",
       "      <th></th>\n",
       "      <th>datetime</th>\n",
       "      <th>precip_in</th>\n",
       "      <th>fahrenheit</th>\n",
       "    </tr>\n",
       "  </thead>\n",
       "  <tbody>\n",
       "    <tr>\n",
       "      <th>0</th>\n",
       "      <td>2013-12-31 23:00:00</td>\n",
       "      <td>0.0</td>\n",
       "      <td>26.96</td>\n",
       "    </tr>\n",
       "    <tr>\n",
       "      <th>1</th>\n",
       "      <td>2014-01-01 00:00:00</td>\n",
       "      <td>0.0</td>\n",
       "      <td>26.06</td>\n",
       "    </tr>\n",
       "    <tr>\n",
       "      <th>2</th>\n",
       "      <td>2014-01-01 01:00:00</td>\n",
       "      <td>0.0</td>\n",
       "      <td>24.98</td>\n",
       "    </tr>\n",
       "    <tr>\n",
       "      <th>3</th>\n",
       "      <td>2014-01-01 02:00:00</td>\n",
       "      <td>0.0</td>\n",
       "      <td>24.98</td>\n",
       "    </tr>\n",
       "    <tr>\n",
       "      <th>4</th>\n",
       "      <td>2014-01-01 03:00:00</td>\n",
       "      <td>0.0</td>\n",
       "      <td>24.98</td>\n",
       "    </tr>\n",
       "  </tbody>\n",
       "</table>\n",
       "</div>"
      ],
      "text/plain": [
       "             datetime  precip_in  fahrenheit\n",
       "0 2013-12-31 23:00:00        0.0       26.96\n",
       "1 2014-01-01 00:00:00        0.0       26.06\n",
       "2 2014-01-01 01:00:00        0.0       24.98\n",
       "3 2014-01-01 02:00:00        0.0       24.98\n",
       "4 2014-01-01 03:00:00        0.0       24.98"
      ]
     },
     "execution_count": 115,
     "metadata": {},
     "output_type": "execute_result"
    }
   ],
   "source": [
    "metar = datautils.read_metar('data/metar_data/lga_2014-01.csv')\n",
    "metar.head()"
   ]
  },
  {
   "cell_type": "code",
   "execution_count": 116,
   "metadata": {},
   "outputs": [
    {
     "data": {
      "text/html": [
       "<div>\n",
       "<style scoped>\n",
       "    .dataframe tbody tr th:only-of-type {\n",
       "        vertical-align: middle;\n",
       "    }\n",
       "\n",
       "    .dataframe tbody tr th {\n",
       "        vertical-align: top;\n",
       "    }\n",
       "\n",
       "    .dataframe thead th {\n",
       "        text-align: right;\n",
       "    }\n",
       "</style>\n",
       "<table border=\"1\" class=\"dataframe\">\n",
       "  <thead>\n",
       "    <tr style=\"text-align: right;\">\n",
       "      <th></th>\n",
       "      <th>grid_x</th>\n",
       "      <th>grid_y</th>\n",
       "      <th>count</th>\n",
       "      <th>precip_in</th>\n",
       "      <th>fahrenheit</th>\n",
       "      <th>weekday</th>\n",
       "      <th>hour</th>\n",
       "    </tr>\n",
       "  </thead>\n",
       "  <tbody>\n",
       "    <tr>\n",
       "      <th>0</th>\n",
       "      <td>2</td>\n",
       "      <td>53</td>\n",
       "      <td>1</td>\n",
       "      <td>0.0</td>\n",
       "      <td>26.06</td>\n",
       "      <td>2</td>\n",
       "      <td>0</td>\n",
       "    </tr>\n",
       "    <tr>\n",
       "      <th>1</th>\n",
       "      <td>4</td>\n",
       "      <td>51</td>\n",
       "      <td>1</td>\n",
       "      <td>0.0</td>\n",
       "      <td>26.06</td>\n",
       "      <td>2</td>\n",
       "      <td>0</td>\n",
       "    </tr>\n",
       "    <tr>\n",
       "      <th>2</th>\n",
       "      <td>14</td>\n",
       "      <td>58</td>\n",
       "      <td>4</td>\n",
       "      <td>0.0</td>\n",
       "      <td>26.06</td>\n",
       "      <td>2</td>\n",
       "      <td>0</td>\n",
       "    </tr>\n",
       "    <tr>\n",
       "      <th>3</th>\n",
       "      <td>14</td>\n",
       "      <td>59</td>\n",
       "      <td>1</td>\n",
       "      <td>0.0</td>\n",
       "      <td>26.06</td>\n",
       "      <td>2</td>\n",
       "      <td>0</td>\n",
       "    </tr>\n",
       "    <tr>\n",
       "      <th>4</th>\n",
       "      <td>15</td>\n",
       "      <td>56</td>\n",
       "      <td>1</td>\n",
       "      <td>0.0</td>\n",
       "      <td>26.06</td>\n",
       "      <td>2</td>\n",
       "      <td>0</td>\n",
       "    </tr>\n",
       "  </tbody>\n",
       "</table>\n",
       "</div>"
      ],
      "text/plain": [
       "   grid_x  grid_y  count  precip_in  fahrenheit  weekday  hour\n",
       "0       2      53      1        0.0       26.06        2     0\n",
       "1       4      51      1        0.0       26.06        2     0\n",
       "2      14      58      4        0.0       26.06        2     0\n",
       "3      14      59      1        0.0       26.06        2     0\n",
       "4      15      56      1        0.0       26.06        2     0"
      ]
     },
     "execution_count": 116,
     "metadata": {},
     "output_type": "execute_result"
    }
   ],
   "source": [
    "# since there are hours without weather info, some rides are dropped.\n",
    "df = pd.merge(counts, metar, left_on='join_datetime', right_on='datetime', how='inner')\n",
    "df['weekday'] = df.datetime.dt.weekday\n",
    "df['hour'] = df.datetime.dt.hour\n",
    "df = df.drop(['join_datetime', 'datetime'], axis=1)\n",
    "# data ready for model training.\n",
    "df.head()"
   ]
  },
  {
   "cell_type": "code",
   "execution_count": 117,
   "metadata": {},
   "outputs": [
    {
     "data": {
      "text/plain": [
       "((493141, 6), (174027, 7))"
      ]
     },
     "execution_count": 117,
     "metadata": {},
     "output_type": "execute_result"
    }
   ],
   "source": [
    "# 9866 - 9452 = 414 rides were dropped. For each missing hour, there are several corresponding grid cells.\n",
    "df_left_join = pd.merge(rides, metar, left_on='join_datetime', right_on='datetime', how='left')\n",
    "df_left_join.shape, df.shape"
   ]
  },
  {
   "cell_type": "code",
   "execution_count": 118,
   "metadata": {
    "scrolled": true
   },
   "outputs": [],
   "source": [
    "features = ['weekday', 'hour', 'grid_x', 'grid_y', 'fahrenheit', 'precip_in']\n",
    "X = df[features].values\n",
    "y = df['count'].values"
   ]
  },
  {
   "cell_type": "code",
   "execution_count": 119,
   "metadata": {},
   "outputs": [],
   "source": [
    "X_train, X_test, y_train, y_test = train_test_split(X, y, test_size=0.1, random_state=1)\n",
    "X_train, X_dev, y_train, y_dev = train_test_split(X_train, y_train,test_size=0.1, random_state=2)"
   ]
  },
  {
   "cell_type": "code",
   "execution_count": 120,
   "metadata": {},
   "outputs": [
    {
     "data": {
      "text/plain": [
       "(140961, 15663, 17403)"
      ]
     },
     "execution_count": 120,
     "metadata": {},
     "output_type": "execute_result"
    }
   ],
   "source": [
    "len(X_train), len(X_dev), len(X_test)"
   ]
  },
  {
   "cell_type": "code",
   "execution_count": 121,
   "metadata": {},
   "outputs": [
    {
     "data": {
      "text/plain": [
       "0.4664394125855953"
      ]
     },
     "execution_count": 121,
     "metadata": {},
     "output_type": "execute_result"
    }
   ],
   "source": [
    "rf = RandomForestRegressor()\n",
    "rf.fit(X_train, y_train)\n",
    "rf.score(X_dev, y_dev)"
   ]
  },
  {
   "cell_type": "code",
   "execution_count": 122,
   "metadata": {},
   "outputs": [
    {
     "data": {
      "text/plain": [
       "52977.675681816894"
      ]
     },
     "execution_count": 122,
     "metadata": {},
     "output_type": "execute_result"
    }
   ],
   "source": [
    "y_pred = rf.predict(X_dev)\n",
    "np.sum(np.square(y_dev - y_pred))"
   ]
  },
  {
   "cell_type": "code",
   "execution_count": 124,
   "metadata": {},
   "outputs": [
    {
     "data": {
      "text/html": [
       "<div>\n",
       "<style scoped>\n",
       "    .dataframe tbody tr th:only-of-type {\n",
       "        vertical-align: middle;\n",
       "    }\n",
       "\n",
       "    .dataframe tbody tr th {\n",
       "        vertical-align: top;\n",
       "    }\n",
       "\n",
       "    .dataframe thead th {\n",
       "        text-align: right;\n",
       "    }\n",
       "</style>\n",
       "<table border=\"1\" class=\"dataframe\">\n",
       "  <thead>\n",
       "    <tr style=\"text-align: right;\">\n",
       "      <th></th>\n",
       "      <th>true</th>\n",
       "      <th>pred</th>\n",
       "    </tr>\n",
       "  </thead>\n",
       "  <tbody>\n",
       "    <tr>\n",
       "      <th>738</th>\n",
       "      <td>26</td>\n",
       "      <td>10.40</td>\n",
       "    </tr>\n",
       "    <tr>\n",
       "      <th>2508</th>\n",
       "      <td>21</td>\n",
       "      <td>12.60</td>\n",
       "    </tr>\n",
       "    <tr>\n",
       "      <th>4832</th>\n",
       "      <td>24</td>\n",
       "      <td>15.20</td>\n",
       "    </tr>\n",
       "    <tr>\n",
       "      <th>5250</th>\n",
       "      <td>28</td>\n",
       "      <td>15.71</td>\n",
       "    </tr>\n",
       "    <tr>\n",
       "      <th>9326</th>\n",
       "      <td>21</td>\n",
       "      <td>16.41</td>\n",
       "    </tr>\n",
       "    <tr>\n",
       "      <th>12945</th>\n",
       "      <td>27</td>\n",
       "      <td>21.60</td>\n",
       "    </tr>\n",
       "    <tr>\n",
       "      <th>13026</th>\n",
       "      <td>22</td>\n",
       "      <td>10.90</td>\n",
       "    </tr>\n",
       "    <tr>\n",
       "      <th>13580</th>\n",
       "      <td>21</td>\n",
       "      <td>15.20</td>\n",
       "    </tr>\n",
       "  </tbody>\n",
       "</table>\n",
       "</div>"
      ],
      "text/plain": [
       "       true   pred\n",
       "738      26  10.40\n",
       "2508     21  12.60\n",
       "4832     24  15.20\n",
       "5250     28  15.71\n",
       "9326     21  16.41\n",
       "12945    27  21.60\n",
       "13026    22  10.90\n",
       "13580    21  15.20"
      ]
     },
     "execution_count": 124,
     "metadata": {},
     "output_type": "execute_result"
    }
   ],
   "source": [
    "dfdf = pd.DataFrame({'true': y_dev, 'pred': y_pred})\n",
    "dfdf[dfdf['true'] > 20]"
   ]
  },
  {
   "cell_type": "markdown",
   "metadata": {},
   "source": [
    "## Develop read_metar"
   ]
  },
  {
   "cell_type": "code",
   "execution_count": 9,
   "metadata": {},
   "outputs": [
    {
     "data": {
      "text/html": [
       "<div>\n",
       "<style scoped>\n",
       "    .dataframe tbody tr th:only-of-type {\n",
       "        vertical-align: middle;\n",
       "    }\n",
       "\n",
       "    .dataframe tbody tr th {\n",
       "        vertical-align: top;\n",
       "    }\n",
       "\n",
       "    .dataframe thead th {\n",
       "        text-align: right;\n",
       "    }\n",
       "</style>\n",
       "<table border=\"1\" class=\"dataframe\">\n",
       "  <thead>\n",
       "    <tr style=\"text-align: right;\">\n",
       "      <th></th>\n",
       "      <th>datetime</th>\n",
       "      <th>fahrenheit</th>\n",
       "      <th>precip_in</th>\n",
       "    </tr>\n",
       "  </thead>\n",
       "  <tbody>\n",
       "    <tr>\n",
       "      <th>0</th>\n",
       "      <td>2014-10-01 00:20:00</td>\n",
       "      <td>62.60</td>\n",
       "      <td>0.03</td>\n",
       "    </tr>\n",
       "    <tr>\n",
       "      <th>1</th>\n",
       "      <td>2014-10-01 00:36:00</td>\n",
       "      <td>62.60</td>\n",
       "      <td>0.03</td>\n",
       "    </tr>\n",
       "    <tr>\n",
       "      <th>2</th>\n",
       "      <td>2014-10-01 00:51:00</td>\n",
       "      <td>62.06</td>\n",
       "      <td>0.03</td>\n",
       "    </tr>\n",
       "    <tr>\n",
       "      <th>3</th>\n",
       "      <td>2014-10-01 01:51:00</td>\n",
       "      <td>62.06</td>\n",
       "      <td>0.00</td>\n",
       "    </tr>\n",
       "    <tr>\n",
       "      <th>4</th>\n",
       "      <td>2014-10-01 01:58:00</td>\n",
       "      <td>62.60</td>\n",
       "      <td>0.00</td>\n",
       "    </tr>\n",
       "  </tbody>\n",
       "</table>\n",
       "</div>"
      ],
      "text/plain": [
       "             datetime fahrenheit  precip_in\n",
       "0 2014-10-01 00:20:00      62.60       0.03\n",
       "1 2014-10-01 00:36:00      62.60       0.03\n",
       "2 2014-10-01 00:51:00      62.06       0.03\n",
       "3 2014-10-01 01:51:00      62.06       0.00\n",
       "4 2014-10-01 01:58:00      62.60       0.00"
      ]
     },
     "execution_count": 9,
     "metadata": {},
     "output_type": "execute_result"
    }
   ],
   "source": [
    "year=2014\n",
    "month=10\n",
    "usecols = ['valid', 'tmpf', ' p01i'] \n",
    "metar = pd.read_csv(datautils.get_metar_data(year,month), usecols=usecols)\n",
    "metar.columns = ['datetime', 'fahrenheit', 'precip_in']\n",
    "metar['datetime'] = pd.to_datetime(metar['datetime'])\n",
    "metar.head() # the last record "
   ]
  },
  {
   "cell_type": "code",
   "execution_count": 10,
   "metadata": {
    "scrolled": true
   },
   "outputs": [
    {
     "data": {
      "text/plain": [
       "month_day\n",
       "10/01    24\n",
       "10/02    24\n",
       "10/03    24\n",
       "10/04    24\n",
       "10/05    24\n",
       "10/06    23\n",
       "10/07    24\n",
       "10/08    24\n",
       "10/09    24\n",
       "10/10    24\n",
       "10/11    24\n",
       "10/12    24\n",
       "10/13    24\n",
       "10/14    24\n",
       "10/15    24\n",
       "10/16    24\n",
       "10/17    24\n",
       "10/18    24\n",
       "10/19    23\n",
       "10/20    24\n",
       "10/21    24\n",
       "10/22    24\n",
       "10/23    24\n",
       "10/24    24\n",
       "10/25    24\n",
       "10/26    24\n",
       "10/27    24\n",
       "10/28    24\n",
       "10/29    24\n",
       "10/30    24\n",
       "10/31    24\n",
       "dtype: int64"
      ]
     },
     "execution_count": 10,
     "metadata": {},
     "output_type": "execute_result"
    }
   ],
   "source": [
    "precip = metar[['datetime','precip_in']]\n",
    "precip['month_day'] = precip.datetime.dt.strftime(\"%m/%d\")\n",
    "precip.groupby('month_day').size()\n",
    "precip.groupby('month_day').apply(lambda grp: sum(grp.datetime.dt.minute == 51))\n",
    "# 2nd, 5th, and 31st lost one record."
   ]
  },
  {
   "cell_type": "code",
   "execution_count": 32,
   "metadata": {
    "scrolled": true
   },
   "outputs": [
    {
     "data": {
      "text/html": [
       "<div>\n",
       "<style scoped>\n",
       "    .dataframe tbody tr th:only-of-type {\n",
       "        vertical-align: middle;\n",
       "    }\n",
       "\n",
       "    .dataframe tbody tr th {\n",
       "        vertical-align: top;\n",
       "    }\n",
       "\n",
       "    .dataframe thead th {\n",
       "        text-align: right;\n",
       "    }\n",
       "</style>\n",
       "<table border=\"1\" class=\"dataframe\">\n",
       "  <thead>\n",
       "    <tr style=\"text-align: right;\">\n",
       "      <th></th>\n",
       "      <th>datetime</th>\n",
       "      <th>fahrenheit</th>\n",
       "    </tr>\n",
       "  </thead>\n",
       "  <tbody>\n",
       "    <tr>\n",
       "      <th>0</th>\n",
       "      <td>2014-10-01 00:20:00</td>\n",
       "      <td>62.60</td>\n",
       "    </tr>\n",
       "    <tr>\n",
       "      <th>1</th>\n",
       "      <td>2014-10-01 00:36:00</td>\n",
       "      <td>62.60</td>\n",
       "    </tr>\n",
       "    <tr>\n",
       "      <th>2</th>\n",
       "      <td>2014-10-01 00:51:00</td>\n",
       "      <td>62.06</td>\n",
       "    </tr>\n",
       "    <tr>\n",
       "      <th>3</th>\n",
       "      <td>2014-10-01 01:51:00</td>\n",
       "      <td>62.06</td>\n",
       "    </tr>\n",
       "    <tr>\n",
       "      <th>4</th>\n",
       "      <td>2014-10-01 01:58:00</td>\n",
       "      <td>62.60</td>\n",
       "    </tr>\n",
       "  </tbody>\n",
       "</table>\n",
       "</div>"
      ],
      "text/plain": [
       "             datetime fahrenheit\n",
       "0 2014-10-01 00:20:00      62.60\n",
       "1 2014-10-01 00:36:00      62.60\n",
       "2 2014-10-01 00:51:00      62.06\n",
       "3 2014-10-01 01:51:00      62.06\n",
       "4 2014-10-01 01:58:00      62.60"
      ]
     },
     "execution_count": 32,
     "metadata": {},
     "output_type": "execute_result"
    }
   ],
   "source": [
    "fahrenheit = metar[['datetime', 'fahrenheit']]\n",
    "fahrenheit.head()"
   ]
  },
  {
   "cell_type": "code",
   "execution_count": 33,
   "metadata": {},
   "outputs": [],
   "source": [
    "fahrenheit = fahrenheit[fahrenheit.fahrenheit.str.match(r'\\d+(\\.\\d+)?')]\n",
    "fahrenheit['fahrenheit'] = fahrenheit.fahrenheit.astype('float')"
   ]
  },
  {
   "cell_type": "code",
   "execution_count": 25,
   "metadata": {},
   "outputs": [
    {
     "ename": "TypeError",
     "evalue": "exceptions must derive from BaseException",
     "output_type": "error",
     "traceback": [
      "\u001b[0;31m---------------------------------------------------------------------------\u001b[0m",
      "\u001b[0;31mValueError\u001b[0m                                Traceback (most recent call last)",
      "\u001b[0;32m<ipython-input-25-0ee9b088f670>\u001b[0m in \u001b[0;36mto_float\u001b[0;34m(s)\u001b[0m\n\u001b[1;32m      2\u001b[0m     \u001b[0;32mtry\u001b[0m\u001b[0;34m:\u001b[0m\u001b[0;34m\u001b[0m\u001b[0m\n\u001b[0;32m----> 3\u001b[0;31m         \u001b[0;32mreturn\u001b[0m \u001b[0mfloat\u001b[0m\u001b[0;34m(\u001b[0m\u001b[0ms\u001b[0m\u001b[0;34m)\u001b[0m\u001b[0;34m\u001b[0m\u001b[0m\n\u001b[0m\u001b[1;32m      4\u001b[0m     \u001b[0;32mexcept\u001b[0m\u001b[0;34m:\u001b[0m\u001b[0;34m\u001b[0m\u001b[0m\n",
      "\u001b[0;31mValueError\u001b[0m: could not convert string to float: 'M'",
      "\nDuring handling of the above exception, another exception occurred:\n",
      "\u001b[0;31mTypeError\u001b[0m                                 Traceback (most recent call last)",
      "\u001b[0;32m<ipython-input-25-0ee9b088f670>\u001b[0m in \u001b[0;36m<module>\u001b[0;34m()\u001b[0m\n\u001b[1;32m      4\u001b[0m     \u001b[0;32mexcept\u001b[0m\u001b[0;34m:\u001b[0m\u001b[0;34m\u001b[0m\u001b[0m\n\u001b[1;32m      5\u001b[0m         \u001b[0;32mraise\u001b[0m\u001b[0;34m(\u001b[0m\u001b[0ms\u001b[0m\u001b[0;34m)\u001b[0m\u001b[0;34m\u001b[0m\u001b[0m\n\u001b[0;32m----> 6\u001b[0;31m \u001b[0mfahrenheit\u001b[0m\u001b[0;34m.\u001b[0m\u001b[0mfahrenheit\u001b[0m\u001b[0;34m.\u001b[0m\u001b[0mapply\u001b[0m\u001b[0;34m(\u001b[0m\u001b[0mto_float\u001b[0m\u001b[0;34m)\u001b[0m\u001b[0;34m\u001b[0m\u001b[0m\n\u001b[0m",
      "\u001b[0;32m~/code/taxi-demand-prediction/venv/lib/python3.6/site-packages/pandas/core/series.py\u001b[0m in \u001b[0;36mapply\u001b[0;34m(self, func, convert_dtype, args, **kwds)\u001b[0m\n\u001b[1;32m   3192\u001b[0m             \u001b[0;32melse\u001b[0m\u001b[0;34m:\u001b[0m\u001b[0;34m\u001b[0m\u001b[0m\n\u001b[1;32m   3193\u001b[0m                 \u001b[0mvalues\u001b[0m \u001b[0;34m=\u001b[0m \u001b[0mself\u001b[0m\u001b[0;34m.\u001b[0m\u001b[0mastype\u001b[0m\u001b[0;34m(\u001b[0m\u001b[0mobject\u001b[0m\u001b[0;34m)\u001b[0m\u001b[0;34m.\u001b[0m\u001b[0mvalues\u001b[0m\u001b[0;34m\u001b[0m\u001b[0m\n\u001b[0;32m-> 3194\u001b[0;31m                 \u001b[0mmapped\u001b[0m \u001b[0;34m=\u001b[0m \u001b[0mlib\u001b[0m\u001b[0;34m.\u001b[0m\u001b[0mmap_infer\u001b[0m\u001b[0;34m(\u001b[0m\u001b[0mvalues\u001b[0m\u001b[0;34m,\u001b[0m \u001b[0mf\u001b[0m\u001b[0;34m,\u001b[0m \u001b[0mconvert\u001b[0m\u001b[0;34m=\u001b[0m\u001b[0mconvert_dtype\u001b[0m\u001b[0;34m)\u001b[0m\u001b[0;34m\u001b[0m\u001b[0m\n\u001b[0m\u001b[1;32m   3195\u001b[0m \u001b[0;34m\u001b[0m\u001b[0m\n\u001b[1;32m   3196\u001b[0m         \u001b[0;32mif\u001b[0m \u001b[0mlen\u001b[0m\u001b[0;34m(\u001b[0m\u001b[0mmapped\u001b[0m\u001b[0;34m)\u001b[0m \u001b[0;32mand\u001b[0m \u001b[0misinstance\u001b[0m\u001b[0;34m(\u001b[0m\u001b[0mmapped\u001b[0m\u001b[0;34m[\u001b[0m\u001b[0;36m0\u001b[0m\u001b[0;34m]\u001b[0m\u001b[0;34m,\u001b[0m \u001b[0mSeries\u001b[0m\u001b[0;34m)\u001b[0m\u001b[0;34m:\u001b[0m\u001b[0;34m\u001b[0m\u001b[0m\n",
      "\u001b[0;32mpandas/_libs/src/inference.pyx\u001b[0m in \u001b[0;36mpandas._libs.lib.map_infer\u001b[0;34m()\u001b[0m\n",
      "\u001b[0;32m<ipython-input-25-0ee9b088f670>\u001b[0m in \u001b[0;36mto_float\u001b[0;34m(s)\u001b[0m\n\u001b[1;32m      3\u001b[0m         \u001b[0;32mreturn\u001b[0m \u001b[0mfloat\u001b[0m\u001b[0;34m(\u001b[0m\u001b[0ms\u001b[0m\u001b[0;34m)\u001b[0m\u001b[0;34m\u001b[0m\u001b[0m\n\u001b[1;32m      4\u001b[0m     \u001b[0;32mexcept\u001b[0m\u001b[0;34m:\u001b[0m\u001b[0;34m\u001b[0m\u001b[0m\n\u001b[0;32m----> 5\u001b[0;31m         \u001b[0;32mraise\u001b[0m\u001b[0;34m(\u001b[0m\u001b[0ms\u001b[0m\u001b[0;34m)\u001b[0m\u001b[0;34m\u001b[0m\u001b[0m\n\u001b[0m\u001b[1;32m      6\u001b[0m \u001b[0mfahrenheit\u001b[0m\u001b[0;34m.\u001b[0m\u001b[0mfahrenheit\u001b[0m\u001b[0;34m.\u001b[0m\u001b[0mapply\u001b[0m\u001b[0;34m(\u001b[0m\u001b[0mto_float\u001b[0m\u001b[0;34m)\u001b[0m\u001b[0;34m\u001b[0m\u001b[0m\n",
      "\u001b[0;31mTypeError\u001b[0m: exceptions must derive from BaseException"
     ]
    }
   ],
   "source": [
    "def to_float(s):\n",
    "    try:\n",
    "        return float(s)\n",
    "    except:\n",
    "        raise(s)\n",
    "fahrenheit.fahrenheit.apply(to_float)"
   ]
  },
  {
   "cell_type": "code",
   "execution_count": 13,
   "metadata": {},
   "outputs": [
    {
     "ename": "DataError",
     "evalue": "No numeric types to aggregate",
     "output_type": "error",
     "traceback": [
      "\u001b[0;31m---------------------------------------------------------------------------\u001b[0m",
      "\u001b[0;31mDataError\u001b[0m                                 Traceback (most recent call last)",
      "\u001b[0;32m<ipython-input-13-02e2b3d00b38>\u001b[0m in \u001b[0;36m<module>\u001b[0;34m()\u001b[0m\n\u001b[0;32m----> 1\u001b[0;31m \u001b[0mfahrenheit\u001b[0m\u001b[0;34m.\u001b[0m\u001b[0mgroupby\u001b[0m\u001b[0;34m(\u001b[0m\u001b[0;34m[\u001b[0m\u001b[0;34m'datetime'\u001b[0m\u001b[0;34m]\u001b[0m\u001b[0;34m)\u001b[0m\u001b[0;34m.\u001b[0m\u001b[0mmean\u001b[0m\u001b[0;34m(\u001b[0m\u001b[0;34m)\u001b[0m\u001b[0;34m\u001b[0m\u001b[0m\n\u001b[0m",
      "\u001b[0;32m~/code/taxi-demand-prediction/venv/lib/python3.6/site-packages/pandas/core/groupby/groupby.py\u001b[0m in \u001b[0;36mmean\u001b[0;34m(self, *args, **kwargs)\u001b[0m\n\u001b[1;32m   1304\u001b[0m         \u001b[0mnv\u001b[0m\u001b[0;34m.\u001b[0m\u001b[0mvalidate_groupby_func\u001b[0m\u001b[0;34m(\u001b[0m\u001b[0;34m'mean'\u001b[0m\u001b[0;34m,\u001b[0m \u001b[0margs\u001b[0m\u001b[0;34m,\u001b[0m \u001b[0mkwargs\u001b[0m\u001b[0;34m,\u001b[0m \u001b[0;34m[\u001b[0m\u001b[0;34m'numeric_only'\u001b[0m\u001b[0;34m]\u001b[0m\u001b[0;34m)\u001b[0m\u001b[0;34m\u001b[0m\u001b[0m\n\u001b[1;32m   1305\u001b[0m         \u001b[0;32mtry\u001b[0m\u001b[0;34m:\u001b[0m\u001b[0;34m\u001b[0m\u001b[0m\n\u001b[0;32m-> 1306\u001b[0;31m             \u001b[0;32mreturn\u001b[0m \u001b[0mself\u001b[0m\u001b[0;34m.\u001b[0m\u001b[0m_cython_agg_general\u001b[0m\u001b[0;34m(\u001b[0m\u001b[0;34m'mean'\u001b[0m\u001b[0;34m,\u001b[0m \u001b[0;34m**\u001b[0m\u001b[0mkwargs\u001b[0m\u001b[0;34m)\u001b[0m\u001b[0;34m\u001b[0m\u001b[0m\n\u001b[0m\u001b[1;32m   1307\u001b[0m         \u001b[0;32mexcept\u001b[0m \u001b[0mGroupByError\u001b[0m\u001b[0;34m:\u001b[0m\u001b[0;34m\u001b[0m\u001b[0m\n\u001b[1;32m   1308\u001b[0m             \u001b[0;32mraise\u001b[0m\u001b[0;34m\u001b[0m\u001b[0m\n",
      "\u001b[0;32m~/code/taxi-demand-prediction/venv/lib/python3.6/site-packages/pandas/core/groupby/groupby.py\u001b[0m in \u001b[0;36m_cython_agg_general\u001b[0;34m(self, how, alt, numeric_only, min_count)\u001b[0m\n\u001b[1;32m   3970\u001b[0m                             min_count=-1):\n\u001b[1;32m   3971\u001b[0m         new_items, new_blocks = self._cython_agg_blocks(\n\u001b[0;32m-> 3972\u001b[0;31m             how, alt=alt, numeric_only=numeric_only, min_count=min_count)\n\u001b[0m\u001b[1;32m   3973\u001b[0m         \u001b[0;32mreturn\u001b[0m \u001b[0mself\u001b[0m\u001b[0;34m.\u001b[0m\u001b[0m_wrap_agged_blocks\u001b[0m\u001b[0;34m(\u001b[0m\u001b[0mnew_items\u001b[0m\u001b[0;34m,\u001b[0m \u001b[0mnew_blocks\u001b[0m\u001b[0;34m)\u001b[0m\u001b[0;34m\u001b[0m\u001b[0m\n\u001b[1;32m   3974\u001b[0m \u001b[0;34m\u001b[0m\u001b[0m\n",
      "\u001b[0;32m~/code/taxi-demand-prediction/venv/lib/python3.6/site-packages/pandas/core/groupby/groupby.py\u001b[0m in \u001b[0;36m_cython_agg_blocks\u001b[0;34m(self, how, alt, numeric_only, min_count)\u001b[0m\n\u001b[1;32m   4042\u001b[0m \u001b[0;34m\u001b[0m\u001b[0m\n\u001b[1;32m   4043\u001b[0m         \u001b[0;32mif\u001b[0m \u001b[0mlen\u001b[0m\u001b[0;34m(\u001b[0m\u001b[0mnew_blocks\u001b[0m\u001b[0;34m)\u001b[0m \u001b[0;34m==\u001b[0m \u001b[0;36m0\u001b[0m\u001b[0;34m:\u001b[0m\u001b[0;34m\u001b[0m\u001b[0m\n\u001b[0;32m-> 4044\u001b[0;31m             \u001b[0;32mraise\u001b[0m \u001b[0mDataError\u001b[0m\u001b[0;34m(\u001b[0m\u001b[0;34m'No numeric types to aggregate'\u001b[0m\u001b[0;34m)\u001b[0m\u001b[0;34m\u001b[0m\u001b[0m\n\u001b[0m\u001b[1;32m   4045\u001b[0m \u001b[0;34m\u001b[0m\u001b[0m\n\u001b[1;32m   4046\u001b[0m         \u001b[0;31m# reset the locs in the blocks to correspond to our\u001b[0m\u001b[0;34m\u001b[0m\u001b[0;34m\u001b[0m\u001b[0m\n",
      "\u001b[0;31mDataError\u001b[0m: No numeric types to aggregate"
     ]
    }
   ],
   "source": [
    "fahrenheit.groupby(['datetime']).mean()"
   ]
  },
  {
   "cell_type": "code",
   "execution_count": 26,
   "metadata": {
    "scrolled": true
   },
   "outputs": [
    {
     "data": {
      "text/html": [
       "<div>\n",
       "<style scoped>\n",
       "    .dataframe tbody tr th:only-of-type {\n",
       "        vertical-align: middle;\n",
       "    }\n",
       "\n",
       "    .dataframe tbody tr th {\n",
       "        vertical-align: top;\n",
       "    }\n",
       "\n",
       "    .dataframe thead th {\n",
       "        text-align: right;\n",
       "    }\n",
       "</style>\n",
       "<table border=\"1\" class=\"dataframe\">\n",
       "  <thead>\n",
       "    <tr style=\"text-align: right;\">\n",
       "      <th></th>\n",
       "      <th>datetime</th>\n",
       "      <th>fahrenheit</th>\n",
       "      <th>precip_in</th>\n",
       "    </tr>\n",
       "  </thead>\n",
       "  <tbody>\n",
       "    <tr>\n",
       "      <th>118</th>\n",
       "      <td>2014-01-05 00:51:00</td>\n",
       "      <td>26.96</td>\n",
       "      <td>0.00</td>\n",
       "    </tr>\n",
       "    <tr>\n",
       "      <th>119</th>\n",
       "      <td>2014-01-05 01:51:00</td>\n",
       "      <td>26.96</td>\n",
       "      <td>0.00</td>\n",
       "    </tr>\n",
       "    <tr>\n",
       "      <th>120</th>\n",
       "      <td>2014-01-05 02:51:00</td>\n",
       "      <td>26.06</td>\n",
       "      <td>0.00</td>\n",
       "    </tr>\n",
       "    <tr>\n",
       "      <th>121</th>\n",
       "      <td>2014-01-05 03:51:00</td>\n",
       "      <td>26.96</td>\n",
       "      <td>0.00</td>\n",
       "    </tr>\n",
       "    <tr>\n",
       "      <th>122</th>\n",
       "      <td>2014-01-05 04:51:00</td>\n",
       "      <td>26.06</td>\n",
       "      <td>0.00</td>\n",
       "    </tr>\n",
       "    <tr>\n",
       "      <th>123</th>\n",
       "      <td>2014-01-05 05:51:00</td>\n",
       "      <td>26.96</td>\n",
       "      <td>0.00</td>\n",
       "    </tr>\n",
       "    <tr>\n",
       "      <th>124</th>\n",
       "      <td>2014-01-05 06:51:00</td>\n",
       "      <td>28.94</td>\n",
       "      <td>0.00</td>\n",
       "    </tr>\n",
       "    <tr>\n",
       "      <th>125</th>\n",
       "      <td>2014-01-05 07:51:00</td>\n",
       "      <td>30.02</td>\n",
       "      <td>0.00</td>\n",
       "    </tr>\n",
       "    <tr>\n",
       "      <th>126</th>\n",
       "      <td>2014-01-05 08:05:00</td>\n",
       "      <td>30.20</td>\n",
       "      <td>0.00</td>\n",
       "    </tr>\n",
       "    <tr>\n",
       "      <th>127</th>\n",
       "      <td>2014-01-05 08:51:00</td>\n",
       "      <td>30.92</td>\n",
       "      <td>0.00</td>\n",
       "    </tr>\n",
       "    <tr>\n",
       "      <th>128</th>\n",
       "      <td>2014-01-05 09:12:00</td>\n",
       "      <td>30.20</td>\n",
       "      <td>0.00</td>\n",
       "    </tr>\n",
       "    <tr>\n",
       "      <th>129</th>\n",
       "      <td>2014-01-05 09:41:00</td>\n",
       "      <td>30.20</td>\n",
       "      <td>0.02</td>\n",
       "    </tr>\n",
       "    <tr>\n",
       "      <th>130</th>\n",
       "      <td>2014-01-05 09:51:00</td>\n",
       "      <td>30.92</td>\n",
       "      <td>0.03</td>\n",
       "    </tr>\n",
       "    <tr>\n",
       "      <th>131</th>\n",
       "      <td>2014-01-05 09:54:00</td>\n",
       "      <td>30.20</td>\n",
       "      <td>0.00</td>\n",
       "    </tr>\n",
       "    <tr>\n",
       "      <th>132</th>\n",
       "      <td>2014-01-05 10:21:00</td>\n",
       "      <td>30.20</td>\n",
       "      <td>0.02</td>\n",
       "    </tr>\n",
       "    <tr>\n",
       "      <th>133</th>\n",
       "      <td>2014-01-05 10:51:00</td>\n",
       "      <td>32.00</td>\n",
       "      <td>0.03</td>\n",
       "    </tr>\n",
       "    <tr>\n",
       "      <th>134</th>\n",
       "      <td>2014-01-05 11:51:00</td>\n",
       "      <td>30.92</td>\n",
       "      <td>0.01</td>\n",
       "    </tr>\n",
       "    <tr>\n",
       "      <th>135</th>\n",
       "      <td>2014-01-05 12:02:00</td>\n",
       "      <td>30.20</td>\n",
       "      <td>0.00</td>\n",
       "    </tr>\n",
       "    <tr>\n",
       "      <th>136</th>\n",
       "      <td>2014-01-05 12:45:00</td>\n",
       "      <td>30.20</td>\n",
       "      <td>0.02</td>\n",
       "    </tr>\n",
       "    <tr>\n",
       "      <th>137</th>\n",
       "      <td>2014-01-05 12:51:00</td>\n",
       "      <td>30.92</td>\n",
       "      <td>0.02</td>\n",
       "    </tr>\n",
       "    <tr>\n",
       "      <th>138</th>\n",
       "      <td>2014-01-05 13:31:00</td>\n",
       "      <td>30.20</td>\n",
       "      <td>0.00</td>\n",
       "    </tr>\n",
       "    <tr>\n",
       "      <th>139</th>\n",
       "      <td>2014-01-05 13:51:00</td>\n",
       "      <td>32.00</td>\n",
       "      <td>0.00</td>\n",
       "    </tr>\n",
       "    <tr>\n",
       "      <th>140</th>\n",
       "      <td>2014-01-05 14:19:00</td>\n",
       "      <td>32.00</td>\n",
       "      <td>0.00</td>\n",
       "    </tr>\n",
       "    <tr>\n",
       "      <th>141</th>\n",
       "      <td>2014-01-05 14:39:00</td>\n",
       "      <td>32.00</td>\n",
       "      <td>0.00</td>\n",
       "    </tr>\n",
       "    <tr>\n",
       "      <th>142</th>\n",
       "      <td>2014-01-05 14:51:00</td>\n",
       "      <td>32.00</td>\n",
       "      <td>0.00</td>\n",
       "    </tr>\n",
       "    <tr>\n",
       "      <th>143</th>\n",
       "      <td>2014-01-05 15:23:00</td>\n",
       "      <td>33.80</td>\n",
       "      <td>0.00</td>\n",
       "    </tr>\n",
       "    <tr>\n",
       "      <th>144</th>\n",
       "      <td>2014-01-05 15:51:00</td>\n",
       "      <td>33.98</td>\n",
       "      <td>0.00</td>\n",
       "    </tr>\n",
       "    <tr>\n",
       "      <th>145</th>\n",
       "      <td>2014-01-05 16:39:00</td>\n",
       "      <td>33.80</td>\n",
       "      <td>0.00</td>\n",
       "    </tr>\n",
       "    <tr>\n",
       "      <th>146</th>\n",
       "      <td>2014-01-05 16:51:00</td>\n",
       "      <td>33.98</td>\n",
       "      <td>0.00</td>\n",
       "    </tr>\n",
       "    <tr>\n",
       "      <th>147</th>\n",
       "      <td>2014-01-05 17:06:00</td>\n",
       "      <td>33.80</td>\n",
       "      <td>0.00</td>\n",
       "    </tr>\n",
       "    <tr>\n",
       "      <th>148</th>\n",
       "      <td>2014-01-05 17:51:00</td>\n",
       "      <td>33.98</td>\n",
       "      <td>0.00</td>\n",
       "    </tr>\n",
       "    <tr>\n",
       "      <th>149</th>\n",
       "      <td>2014-01-05 17:55:00</td>\n",
       "      <td>33.80</td>\n",
       "      <td>0.00</td>\n",
       "    </tr>\n",
       "    <tr>\n",
       "      <th>150</th>\n",
       "      <td>2014-01-05 18:47:00</td>\n",
       "      <td>35.60</td>\n",
       "      <td>0.00</td>\n",
       "    </tr>\n",
       "    <tr>\n",
       "      <th>151</th>\n",
       "      <td>2014-01-05 18:51:00</td>\n",
       "      <td>35.06</td>\n",
       "      <td>0.00</td>\n",
       "    </tr>\n",
       "    <tr>\n",
       "      <th>152</th>\n",
       "      <td>2014-01-05 19:15:00</td>\n",
       "      <td>35.60</td>\n",
       "      <td>0.00</td>\n",
       "    </tr>\n",
       "    <tr>\n",
       "      <th>153</th>\n",
       "      <td>2014-01-05 19:23:00</td>\n",
       "      <td>35.60</td>\n",
       "      <td>0.00</td>\n",
       "    </tr>\n",
       "    <tr>\n",
       "      <th>154</th>\n",
       "      <td>2014-01-05 19:30:00</td>\n",
       "      <td>35.60</td>\n",
       "      <td>0.00</td>\n",
       "    </tr>\n",
       "    <tr>\n",
       "      <th>155</th>\n",
       "      <td>2014-01-05 19:46:00</td>\n",
       "      <td>35.60</td>\n",
       "      <td>0.00</td>\n",
       "    </tr>\n",
       "    <tr>\n",
       "      <th>156</th>\n",
       "      <td>2014-01-05 19:51:00</td>\n",
       "      <td>35.06</td>\n",
       "      <td>0.00</td>\n",
       "    </tr>\n",
       "    <tr>\n",
       "      <th>157</th>\n",
       "      <td>2014-01-05 20:51:00</td>\n",
       "      <td>35.96</td>\n",
       "      <td>0.00</td>\n",
       "    </tr>\n",
       "    <tr>\n",
       "      <th>158</th>\n",
       "      <td>2014-01-05 21:51:00</td>\n",
       "      <td>35.96</td>\n",
       "      <td>0.01</td>\n",
       "    </tr>\n",
       "    <tr>\n",
       "      <th>159</th>\n",
       "      <td>2014-01-05 22:47:00</td>\n",
       "      <td>37.40</td>\n",
       "      <td>0.00</td>\n",
       "    </tr>\n",
       "    <tr>\n",
       "      <th>160</th>\n",
       "      <td>2014-01-05 22:51:00</td>\n",
       "      <td>37.04</td>\n",
       "      <td>0.00</td>\n",
       "    </tr>\n",
       "    <tr>\n",
       "      <th>161</th>\n",
       "      <td>2014-01-05 23:37:00</td>\n",
       "      <td>48.20</td>\n",
       "      <td>0.00</td>\n",
       "    </tr>\n",
       "    <tr>\n",
       "      <th>162</th>\n",
       "      <td>2014-01-05 23:44:00</td>\n",
       "      <td>48.20</td>\n",
       "      <td>0.00</td>\n",
       "    </tr>\n",
       "    <tr>\n",
       "      <th>163</th>\n",
       "      <td>2014-01-05 23:47:00</td>\n",
       "      <td>50.00</td>\n",
       "      <td>0.00</td>\n",
       "    </tr>\n",
       "    <tr>\n",
       "      <th>164</th>\n",
       "      <td>2014-01-05 23:48:00</td>\n",
       "      <td>50.00</td>\n",
       "      <td>0.00</td>\n",
       "    </tr>\n",
       "  </tbody>\n",
       "</table>\n",
       "</div>"
      ],
      "text/plain": [
       "               datetime  fahrenheit  precip_in\n",
       "118 2014-01-05 00:51:00       26.96       0.00\n",
       "119 2014-01-05 01:51:00       26.96       0.00\n",
       "120 2014-01-05 02:51:00       26.06       0.00\n",
       "121 2014-01-05 03:51:00       26.96       0.00\n",
       "122 2014-01-05 04:51:00       26.06       0.00\n",
       "123 2014-01-05 05:51:00       26.96       0.00\n",
       "124 2014-01-05 06:51:00       28.94       0.00\n",
       "125 2014-01-05 07:51:00       30.02       0.00\n",
       "126 2014-01-05 08:05:00       30.20       0.00\n",
       "127 2014-01-05 08:51:00       30.92       0.00\n",
       "128 2014-01-05 09:12:00       30.20       0.00\n",
       "129 2014-01-05 09:41:00       30.20       0.02\n",
       "130 2014-01-05 09:51:00       30.92       0.03\n",
       "131 2014-01-05 09:54:00       30.20       0.00\n",
       "132 2014-01-05 10:21:00       30.20       0.02\n",
       "133 2014-01-05 10:51:00       32.00       0.03\n",
       "134 2014-01-05 11:51:00       30.92       0.01\n",
       "135 2014-01-05 12:02:00       30.20       0.00\n",
       "136 2014-01-05 12:45:00       30.20       0.02\n",
       "137 2014-01-05 12:51:00       30.92       0.02\n",
       "138 2014-01-05 13:31:00       30.20       0.00\n",
       "139 2014-01-05 13:51:00       32.00       0.00\n",
       "140 2014-01-05 14:19:00       32.00       0.00\n",
       "141 2014-01-05 14:39:00       32.00       0.00\n",
       "142 2014-01-05 14:51:00       32.00       0.00\n",
       "143 2014-01-05 15:23:00       33.80       0.00\n",
       "144 2014-01-05 15:51:00       33.98       0.00\n",
       "145 2014-01-05 16:39:00       33.80       0.00\n",
       "146 2014-01-05 16:51:00       33.98       0.00\n",
       "147 2014-01-05 17:06:00       33.80       0.00\n",
       "148 2014-01-05 17:51:00       33.98       0.00\n",
       "149 2014-01-05 17:55:00       33.80       0.00\n",
       "150 2014-01-05 18:47:00       35.60       0.00\n",
       "151 2014-01-05 18:51:00       35.06       0.00\n",
       "152 2014-01-05 19:15:00       35.60       0.00\n",
       "153 2014-01-05 19:23:00       35.60       0.00\n",
       "154 2014-01-05 19:30:00       35.60       0.00\n",
       "155 2014-01-05 19:46:00       35.60       0.00\n",
       "156 2014-01-05 19:51:00       35.06       0.00\n",
       "157 2014-01-05 20:51:00       35.96       0.00\n",
       "158 2014-01-05 21:51:00       35.96       0.01\n",
       "159 2014-01-05 22:47:00       37.40       0.00\n",
       "160 2014-01-05 22:51:00       37.04       0.00\n",
       "161 2014-01-05 23:37:00       48.20       0.00\n",
       "162 2014-01-05 23:44:00       48.20       0.00\n",
       "163 2014-01-05 23:47:00       50.00       0.00\n",
       "164 2014-01-05 23:48:00       50.00       0.00"
      ]
     },
     "execution_count": 26,
     "metadata": {},
     "output_type": "execute_result"
    }
   ],
   "source": [
    "fifth = metar[metar.datetime.dt.day==5]\n",
    "fifth"
   ]
  },
  {
   "cell_type": "code",
   "execution_count": 27,
   "metadata": {},
   "outputs": [
    {
     "data": {
      "text/html": [
       "<div>\n",
       "<style scoped>\n",
       "    .dataframe tbody tr th:only-of-type {\n",
       "        vertical-align: middle;\n",
       "    }\n",
       "\n",
       "    .dataframe tbody tr th {\n",
       "        vertical-align: top;\n",
       "    }\n",
       "\n",
       "    .dataframe thead th {\n",
       "        text-align: right;\n",
       "    }\n",
       "</style>\n",
       "<table border=\"1\" class=\"dataframe\">\n",
       "  <thead>\n",
       "    <tr style=\"text-align: right;\">\n",
       "      <th></th>\n",
       "      <th>datetime</th>\n",
       "      <th>fahrenheit</th>\n",
       "      <th>precip_in</th>\n",
       "    </tr>\n",
       "  </thead>\n",
       "  <tbody>\n",
       "    <tr>\n",
       "      <th>165</th>\n",
       "      <td>2014-01-06 00:15:00</td>\n",
       "      <td>50.0</td>\n",
       "      <td>0.00</td>\n",
       "    </tr>\n",
       "    <tr>\n",
       "      <th>166</th>\n",
       "      <td>2014-01-06 00:34:00</td>\n",
       "      <td>50.0</td>\n",
       "      <td>0.00</td>\n",
       "    </tr>\n",
       "    <tr>\n",
       "      <th>167</th>\n",
       "      <td>2014-01-06 00:47:00</td>\n",
       "      <td>50.0</td>\n",
       "      <td>0.00</td>\n",
       "    </tr>\n",
       "    <tr>\n",
       "      <th>168</th>\n",
       "      <td>2014-01-06 00:51:00</td>\n",
       "      <td>50.0</td>\n",
       "      <td>0.03</td>\n",
       "    </tr>\n",
       "    <tr>\n",
       "      <th>169</th>\n",
       "      <td>2014-01-06 01:00:00</td>\n",
       "      <td>50.0</td>\n",
       "      <td>0.01</td>\n",
       "    </tr>\n",
       "  </tbody>\n",
       "</table>\n",
       "</div>"
      ],
      "text/plain": [
       "               datetime  fahrenheit  precip_in\n",
       "165 2014-01-06 00:15:00        50.0       0.00\n",
       "166 2014-01-06 00:34:00        50.0       0.00\n",
       "167 2014-01-06 00:47:00        50.0       0.00\n",
       "168 2014-01-06 00:51:00        50.0       0.03\n",
       "169 2014-01-06 01:00:00        50.0       0.01"
      ]
     },
     "execution_count": 27,
     "metadata": {},
     "output_type": "execute_result"
    }
   ],
   "source": [
    "sixth = metar[metar.datetime.dt.day == 6]\n",
    "sixth.head()"
   ]
  },
  {
   "cell_type": "code",
   "execution_count": 24,
   "metadata": {
    "scrolled": true
   },
   "outputs": [
    {
     "data": {
      "text/html": [
       "<div>\n",
       "<style scoped>\n",
       "    .dataframe tbody tr th:only-of-type {\n",
       "        vertical-align: middle;\n",
       "    }\n",
       "\n",
       "    .dataframe tbody tr th {\n",
       "        vertical-align: top;\n",
       "    }\n",
       "\n",
       "    .dataframe thead th {\n",
       "        text-align: right;\n",
       "    }\n",
       "</style>\n",
       "<table border=\"1\" class=\"dataframe\">\n",
       "  <thead>\n",
       "    <tr style=\"text-align: right;\">\n",
       "      <th></th>\n",
       "      <th>datetime</th>\n",
       "      <th>fahrenheit</th>\n",
       "      <th>precip_in</th>\n",
       "    </tr>\n",
       "  </thead>\n",
       "  <tbody>\n",
       "    <tr>\n",
       "      <th>0</th>\n",
       "      <td>2013-12-31 23:51:00</td>\n",
       "      <td>26.96</td>\n",
       "      <td>0.0</td>\n",
       "    </tr>\n",
       "    <tr>\n",
       "      <th>905</th>\n",
       "      <td>2014-01-31 00:21:00</td>\n",
       "      <td>26.60</td>\n",
       "      <td>0.0</td>\n",
       "    </tr>\n",
       "    <tr>\n",
       "      <th>906</th>\n",
       "      <td>2014-01-31 00:51:00</td>\n",
       "      <td>26.06</td>\n",
       "      <td>0.0</td>\n",
       "    </tr>\n",
       "    <tr>\n",
       "      <th>907</th>\n",
       "      <td>2014-01-31 01:11:00</td>\n",
       "      <td>26.60</td>\n",
       "      <td>0.0</td>\n",
       "    </tr>\n",
       "    <tr>\n",
       "      <th>908</th>\n",
       "      <td>2014-01-31 01:51:00</td>\n",
       "      <td>26.06</td>\n",
       "      <td>0.0</td>\n",
       "    </tr>\n",
       "    <tr>\n",
       "      <th>909</th>\n",
       "      <td>2014-01-31 02:51:00</td>\n",
       "      <td>26.06</td>\n",
       "      <td>0.0</td>\n",
       "    </tr>\n",
       "    <tr>\n",
       "      <th>910</th>\n",
       "      <td>2014-01-31 03:51:00</td>\n",
       "      <td>28.04</td>\n",
       "      <td>0.0</td>\n",
       "    </tr>\n",
       "    <tr>\n",
       "      <th>911</th>\n",
       "      <td>2014-01-31 04:51:00</td>\n",
       "      <td>28.94</td>\n",
       "      <td>0.0</td>\n",
       "    </tr>\n",
       "    <tr>\n",
       "      <th>912</th>\n",
       "      <td>2014-01-31 05:51:00</td>\n",
       "      <td>28.94</td>\n",
       "      <td>0.0</td>\n",
       "    </tr>\n",
       "    <tr>\n",
       "      <th>913</th>\n",
       "      <td>2014-01-31 06:51:00</td>\n",
       "      <td>28.94</td>\n",
       "      <td>0.0</td>\n",
       "    </tr>\n",
       "    <tr>\n",
       "      <th>914</th>\n",
       "      <td>2014-01-31 07:51:00</td>\n",
       "      <td>30.02</td>\n",
       "      <td>0.0</td>\n",
       "    </tr>\n",
       "    <tr>\n",
       "      <th>915</th>\n",
       "      <td>2014-01-31 08:51:00</td>\n",
       "      <td>30.02</td>\n",
       "      <td>0.0</td>\n",
       "    </tr>\n",
       "    <tr>\n",
       "      <th>916</th>\n",
       "      <td>2014-01-31 09:51:00</td>\n",
       "      <td>32.00</td>\n",
       "      <td>0.0</td>\n",
       "    </tr>\n",
       "    <tr>\n",
       "      <th>917</th>\n",
       "      <td>2014-01-31 10:51:00</td>\n",
       "      <td>33.08</td>\n",
       "      <td>0.0</td>\n",
       "    </tr>\n",
       "    <tr>\n",
       "      <th>918</th>\n",
       "      <td>2014-01-31 11:51:00</td>\n",
       "      <td>33.98</td>\n",
       "      <td>0.0</td>\n",
       "    </tr>\n",
       "    <tr>\n",
       "      <th>919</th>\n",
       "      <td>2014-01-31 12:51:00</td>\n",
       "      <td>35.06</td>\n",
       "      <td>0.0</td>\n",
       "    </tr>\n",
       "    <tr>\n",
       "      <th>920</th>\n",
       "      <td>2014-01-31 13:51:00</td>\n",
       "      <td>37.04</td>\n",
       "      <td>0.0</td>\n",
       "    </tr>\n",
       "    <tr>\n",
       "      <th>921</th>\n",
       "      <td>2014-01-31 14:51:00</td>\n",
       "      <td>37.94</td>\n",
       "      <td>0.0</td>\n",
       "    </tr>\n",
       "    <tr>\n",
       "      <th>922</th>\n",
       "      <td>2014-01-31 15:51:00</td>\n",
       "      <td>39.02</td>\n",
       "      <td>0.0</td>\n",
       "    </tr>\n",
       "    <tr>\n",
       "      <th>923</th>\n",
       "      <td>2014-01-31 16:51:00</td>\n",
       "      <td>37.94</td>\n",
       "      <td>0.0</td>\n",
       "    </tr>\n",
       "    <tr>\n",
       "      <th>924</th>\n",
       "      <td>2014-01-31 17:51:00</td>\n",
       "      <td>37.04</td>\n",
       "      <td>0.0</td>\n",
       "    </tr>\n",
       "    <tr>\n",
       "      <th>925</th>\n",
       "      <td>2014-01-31 18:51:00</td>\n",
       "      <td>37.94</td>\n",
       "      <td>0.0</td>\n",
       "    </tr>\n",
       "    <tr>\n",
       "      <th>926</th>\n",
       "      <td>2014-01-31 19:51:00</td>\n",
       "      <td>39.02</td>\n",
       "      <td>0.0</td>\n",
       "    </tr>\n",
       "    <tr>\n",
       "      <th>927</th>\n",
       "      <td>2014-01-31 20:51:00</td>\n",
       "      <td>37.94</td>\n",
       "      <td>0.0</td>\n",
       "    </tr>\n",
       "    <tr>\n",
       "      <th>928</th>\n",
       "      <td>2014-01-31 21:51:00</td>\n",
       "      <td>37.94</td>\n",
       "      <td>0.0</td>\n",
       "    </tr>\n",
       "    <tr>\n",
       "      <th>929</th>\n",
       "      <td>2014-01-31 22:51:00</td>\n",
       "      <td>37.04</td>\n",
       "      <td>0.0</td>\n",
       "    </tr>\n",
       "  </tbody>\n",
       "</table>\n",
       "</div>"
      ],
      "text/plain": [
       "               datetime  fahrenheit  precip_in\n",
       "0   2013-12-31 23:51:00       26.96        0.0\n",
       "905 2014-01-31 00:21:00       26.60        0.0\n",
       "906 2014-01-31 00:51:00       26.06        0.0\n",
       "907 2014-01-31 01:11:00       26.60        0.0\n",
       "908 2014-01-31 01:51:00       26.06        0.0\n",
       "909 2014-01-31 02:51:00       26.06        0.0\n",
       "910 2014-01-31 03:51:00       28.04        0.0\n",
       "911 2014-01-31 04:51:00       28.94        0.0\n",
       "912 2014-01-31 05:51:00       28.94        0.0\n",
       "913 2014-01-31 06:51:00       28.94        0.0\n",
       "914 2014-01-31 07:51:00       30.02        0.0\n",
       "915 2014-01-31 08:51:00       30.02        0.0\n",
       "916 2014-01-31 09:51:00       32.00        0.0\n",
       "917 2014-01-31 10:51:00       33.08        0.0\n",
       "918 2014-01-31 11:51:00       33.98        0.0\n",
       "919 2014-01-31 12:51:00       35.06        0.0\n",
       "920 2014-01-31 13:51:00       37.04        0.0\n",
       "921 2014-01-31 14:51:00       37.94        0.0\n",
       "922 2014-01-31 15:51:00       39.02        0.0\n",
       "923 2014-01-31 16:51:00       37.94        0.0\n",
       "924 2014-01-31 17:51:00       37.04        0.0\n",
       "925 2014-01-31 18:51:00       37.94        0.0\n",
       "926 2014-01-31 19:51:00       39.02        0.0\n",
       "927 2014-01-31 20:51:00       37.94        0.0\n",
       "928 2014-01-31 21:51:00       37.94        0.0\n",
       "929 2014-01-31 22:51:00       37.04        0.0"
      ]
     },
     "execution_count": 24,
     "metadata": {},
     "output_type": "execute_result"
    }
   ],
   "source": [
    "last_day_of_month = metar[metar.datetime.dt.day==31]\n",
    "last_day_of_month"
   ]
  },
  {
   "cell_type": "code",
   "execution_count": 7,
   "metadata": {
    "scrolled": true
   },
   "outputs": [
    {
     "data": {
      "text/html": [
       "<div>\n",
       "<style scoped>\n",
       "    .dataframe tbody tr th:only-of-type {\n",
       "        vertical-align: middle;\n",
       "    }\n",
       "\n",
       "    .dataframe tbody tr th {\n",
       "        vertical-align: top;\n",
       "    }\n",
       "\n",
       "    .dataframe thead th {\n",
       "        text-align: right;\n",
       "    }\n",
       "</style>\n",
       "<table border=\"1\" class=\"dataframe\">\n",
       "  <thead>\n",
       "    <tr style=\"text-align: right;\">\n",
       "      <th></th>\n",
       "      <th>datetime</th>\n",
       "      <th>precip_in</th>\n",
       "      <th>fahrenheit</th>\n",
       "      <th>month_day</th>\n",
       "    </tr>\n",
       "  </thead>\n",
       "  <tbody>\n",
       "    <tr>\n",
       "      <th>25</th>\n",
       "      <td>2014-01-02 00:00:00</td>\n",
       "      <td>0.00</td>\n",
       "      <td>32.00</td>\n",
       "      <td>01/02</td>\n",
       "    </tr>\n",
       "    <tr>\n",
       "      <th>26</th>\n",
       "      <td>2014-01-02 01:00:00</td>\n",
       "      <td>0.00</td>\n",
       "      <td>32.00</td>\n",
       "      <td>01/02</td>\n",
       "    </tr>\n",
       "    <tr>\n",
       "      <th>27</th>\n",
       "      <td>2014-01-02 02:00:00</td>\n",
       "      <td>0.00</td>\n",
       "      <td>32.00</td>\n",
       "      <td>01/02</td>\n",
       "    </tr>\n",
       "    <tr>\n",
       "      <th>28</th>\n",
       "      <td>2014-01-02 03:00:00</td>\n",
       "      <td>0.00</td>\n",
       "      <td>30.02</td>\n",
       "      <td>01/02</td>\n",
       "    </tr>\n",
       "    <tr>\n",
       "      <th>29</th>\n",
       "      <td>2014-01-02 04:00:00</td>\n",
       "      <td>0.00</td>\n",
       "      <td>28.22</td>\n",
       "      <td>01/02</td>\n",
       "    </tr>\n",
       "    <tr>\n",
       "      <th>30</th>\n",
       "      <td>2014-01-02 05:00:00</td>\n",
       "      <td>0.01</td>\n",
       "      <td>26.96</td>\n",
       "      <td>01/02</td>\n",
       "    </tr>\n",
       "    <tr>\n",
       "      <th>31</th>\n",
       "      <td>2014-01-02 06:00:00</td>\n",
       "      <td>0.00</td>\n",
       "      <td>26.96</td>\n",
       "      <td>01/02</td>\n",
       "    </tr>\n",
       "    <tr>\n",
       "      <th>32</th>\n",
       "      <td>2014-01-02 07:00:00</td>\n",
       "      <td>0.00</td>\n",
       "      <td>26.96</td>\n",
       "      <td>01/02</td>\n",
       "    </tr>\n",
       "    <tr>\n",
       "      <th>33</th>\n",
       "      <td>2014-01-02 08:00:00</td>\n",
       "      <td>0.00</td>\n",
       "      <td>26.96</td>\n",
       "      <td>01/02</td>\n",
       "    </tr>\n",
       "    <tr>\n",
       "      <th>34</th>\n",
       "      <td>2014-01-02 09:00:00</td>\n",
       "      <td>0.00</td>\n",
       "      <td>26.96</td>\n",
       "      <td>01/02</td>\n",
       "    </tr>\n",
       "    <tr>\n",
       "      <th>35</th>\n",
       "      <td>2014-01-02 10:00:00</td>\n",
       "      <td>0.00</td>\n",
       "      <td>26.96</td>\n",
       "      <td>01/02</td>\n",
       "    </tr>\n",
       "    <tr>\n",
       "      <th>36</th>\n",
       "      <td>2014-01-02 11:00:00</td>\n",
       "      <td>0.00</td>\n",
       "      <td>26.78</td>\n",
       "      <td>01/02</td>\n",
       "    </tr>\n",
       "    <tr>\n",
       "      <th>37</th>\n",
       "      <td>2014-01-02 12:00:00</td>\n",
       "      <td>0.00</td>\n",
       "      <td>26.96</td>\n",
       "      <td>01/02</td>\n",
       "    </tr>\n",
       "    <tr>\n",
       "      <th>38</th>\n",
       "      <td>2014-01-02 13:00:00</td>\n",
       "      <td>0.00</td>\n",
       "      <td>24.98</td>\n",
       "      <td>01/02</td>\n",
       "    </tr>\n",
       "    <tr>\n",
       "      <th>39</th>\n",
       "      <td>2014-01-02 14:00:00</td>\n",
       "      <td>0.00</td>\n",
       "      <td>26.06</td>\n",
       "      <td>01/02</td>\n",
       "    </tr>\n",
       "    <tr>\n",
       "      <th>40</th>\n",
       "      <td>2014-01-02 15:00:00</td>\n",
       "      <td>0.00</td>\n",
       "      <td>27.32</td>\n",
       "      <td>01/02</td>\n",
       "    </tr>\n",
       "    <tr>\n",
       "      <th>41</th>\n",
       "      <td>2014-01-02 16:00:00</td>\n",
       "      <td>0.00</td>\n",
       "      <td>26.96</td>\n",
       "      <td>01/02</td>\n",
       "    </tr>\n",
       "    <tr>\n",
       "      <th>42</th>\n",
       "      <td>2014-01-02 17:00:00</td>\n",
       "      <td>0.00</td>\n",
       "      <td>26.06</td>\n",
       "      <td>01/02</td>\n",
       "    </tr>\n",
       "    <tr>\n",
       "      <th>43</th>\n",
       "      <td>2014-01-02 18:00:00</td>\n",
       "      <td>0.00</td>\n",
       "      <td>26.06</td>\n",
       "      <td>01/02</td>\n",
       "    </tr>\n",
       "    <tr>\n",
       "      <th>44</th>\n",
       "      <td>2014-01-02 20:00:00</td>\n",
       "      <td>0.03</td>\n",
       "      <td>23.90</td>\n",
       "      <td>01/02</td>\n",
       "    </tr>\n",
       "    <tr>\n",
       "      <th>45</th>\n",
       "      <td>2014-01-02 21:00:00</td>\n",
       "      <td>0.05</td>\n",
       "      <td>21.14</td>\n",
       "      <td>01/02</td>\n",
       "    </tr>\n",
       "    <tr>\n",
       "      <th>46</th>\n",
       "      <td>2014-01-02 22:00:00</td>\n",
       "      <td>0.04</td>\n",
       "      <td>19.04</td>\n",
       "      <td>01/02</td>\n",
       "    </tr>\n",
       "    <tr>\n",
       "      <th>47</th>\n",
       "      <td>2014-01-02 23:00:00</td>\n",
       "      <td>0.04</td>\n",
       "      <td>17.78</td>\n",
       "      <td>01/02</td>\n",
       "    </tr>\n",
       "  </tbody>\n",
       "</table>\n",
       "</div>"
      ],
      "text/plain": [
       "              datetime  precip_in  fahrenheit month_day\n",
       "25 2014-01-02 00:00:00       0.00       32.00     01/02\n",
       "26 2014-01-02 01:00:00       0.00       32.00     01/02\n",
       "27 2014-01-02 02:00:00       0.00       32.00     01/02\n",
       "28 2014-01-02 03:00:00       0.00       30.02     01/02\n",
       "29 2014-01-02 04:00:00       0.00       28.22     01/02\n",
       "30 2014-01-02 05:00:00       0.01       26.96     01/02\n",
       "31 2014-01-02 06:00:00       0.00       26.96     01/02\n",
       "32 2014-01-02 07:00:00       0.00       26.96     01/02\n",
       "33 2014-01-02 08:00:00       0.00       26.96     01/02\n",
       "34 2014-01-02 09:00:00       0.00       26.96     01/02\n",
       "35 2014-01-02 10:00:00       0.00       26.96     01/02\n",
       "36 2014-01-02 11:00:00       0.00       26.78     01/02\n",
       "37 2014-01-02 12:00:00       0.00       26.96     01/02\n",
       "38 2014-01-02 13:00:00       0.00       24.98     01/02\n",
       "39 2014-01-02 14:00:00       0.00       26.06     01/02\n",
       "40 2014-01-02 15:00:00       0.00       27.32     01/02\n",
       "41 2014-01-02 16:00:00       0.00       26.96     01/02\n",
       "42 2014-01-02 17:00:00       0.00       26.06     01/02\n",
       "43 2014-01-02 18:00:00       0.00       26.06     01/02\n",
       "44 2014-01-02 20:00:00       0.03       23.90     01/02\n",
       "45 2014-01-02 21:00:00       0.05       21.14     01/02\n",
       "46 2014-01-02 22:00:00       0.04       19.04     01/02\n",
       "47 2014-01-02 23:00:00       0.04       17.78     01/02"
      ]
     },
     "execution_count": 7,
     "metadata": {},
     "output_type": "execute_result"
    }
   ],
   "source": [
    "metar[metar.datetime.dt.day==2]"
   ]
  },
  {
   "cell_type": "code",
   "execution_count": 6,
   "metadata": {
    "scrolled": true
   },
   "outputs": [
    {
     "data": {
      "text/plain": [
       "month_day\n",
       "01/01    24\n",
       "01/02    23\n",
       "01/03    24\n",
       "01/04    24\n",
       "01/05    23\n",
       "01/06    24\n",
       "01/07    24\n",
       "01/08    24\n",
       "01/09    24\n",
       "01/10    24\n",
       "01/11    24\n",
       "01/12    24\n",
       "01/13    24\n",
       "01/14    24\n",
       "01/15    24\n",
       "01/16    24\n",
       "01/17    24\n",
       "01/18    24\n",
       "01/19    24\n",
       "01/20    24\n",
       "01/21    24\n",
       "01/22    24\n",
       "01/23    24\n",
       "01/24    24\n",
       "01/25    24\n",
       "01/26    24\n",
       "01/27    24\n",
       "01/28    24\n",
       "01/29    24\n",
       "01/30    24\n",
       "01/31    23\n",
       "12/31     1\n",
       "dtype: int64"
      ]
     },
     "execution_count": 6,
     "metadata": {},
     "output_type": "execute_result"
    }
   ],
   "source": [
    "metar['month_day'] = metar.datetime.dt.strftime(\"%m/%d\")\n",
    "metar.groupby('month_day').size()"
   ]
  }
 ],
 "metadata": {
  "kernelspec": {
   "display_name": "Python 3",
   "language": "python",
   "name": "python3"
  },
  "language_info": {
   "codemirror_mode": {
    "name": "ipython",
    "version": 3
   },
   "file_extension": ".py",
   "mimetype": "text/x-python",
   "name": "python",
   "nbconvert_exporter": "python",
   "pygments_lexer": "ipython3",
   "version": "3.6.6"
  }
 },
 "nbformat": 4,
 "nbformat_minor": 2
}
