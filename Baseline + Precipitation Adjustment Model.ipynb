{
 "cells": [
  {
   "cell_type": "markdown",
   "metadata": {},
   "source": [
    "## Precipitation-adjusted baseline model\n",
    "Group by precipitation level in addition to the original features.\n",
    "\n",
    "### Train on 2014 small; predict on 2015 small\n",
    "01m04s to train; 05m28s to predict.\n",
    "Stats don't differ much from the original BaselineModel."
   ]
  },
  {
   "cell_type": "code",
   "execution_count": 1,
   "metadata": {},
   "outputs": [],
   "source": [
    "import pandas as pd\n",
    "import numpy as np\n",
    "from utils import datautils, modelutils\n",
    "\n",
    "import matplotlib\n",
    "import matplotlib.pyplot as plt\n",
    "import seaborn as sns\n",
    "sns.set()\n",
    "\n",
    "# warnings are due to slicing done in datautils functions.\n",
    "# Since original DataFrames don't need to be modified, warnings can be ignored.\n",
    "pd.options.mode.chained_assignment = None "
   ]
  },
  {
   "cell_type": "code",
   "execution_count": 3,
   "metadata": {},
   "outputs": [],
   "source": [
    "class AdjustedBaselineModel:\n",
    "    def __init__(self):\n",
    "        self.mean_counts = None\n",
    "        self.mean_scaled_counts = None\n",
    "        \n",
    "    def _extract_datetime(self, df):\n",
    "        df['weekday'] = df['pickup_datetime'].dt.weekday\n",
    "        df['hour'] = df['pickup_datetime'].dt.hour\n",
    "        return df\n",
    "    \n",
    "    # takes a DataFrame transformed with BaselineModel.get_scaled_counts \n",
    "    def fit(self, counts, metar_df):\n",
    "        counts = datautils.extract_hour_weekday(counts)\n",
    "        counts = pd.merge(counts, metar_df, left_on='pickup_datetime', right_on='datetime', how='inner')\n",
    "        counts['heavy_rain'] = counts.precip_in >= 0.30\n",
    "        grouped = counts.groupby(['grid_x','grid_y','weekday','hour','heavy_rain'])\n",
    "        self.mean_counts = grouped['count'].mean()\n",
    "        self.mean_scaled_counts = grouped['count_scaled'].mean()\n",
    "        \n",
    "    def _predict(self, grid_x, grid_y, weekday, hour, heavy_rain, scaled=False):\n",
    "        # TODO: how does df.at(idx,col) work for multi-indexes?\n",
    "        try:\n",
    "            if scaled:\n",
    "                return self.mean_scaled_counts.loc[(grid_x, grid_y, weekday, hour, heavy_rain)]\n",
    "            else:\n",
    "                return self.mean_counts.loc[(grid_x, grid_y, weekday, hour, heavy_rain)]\n",
    "        except Exception as e:\n",
    "            #print(grid_x, grid_y, weekday, hour, scaled)\n",
    "            return 0\n",
    "    \n",
    "    # returns a DataFrame with the actual count and the corresponding predicted value\n",
    "    def predict(self, counts, metar_df):\n",
    "        # TODO: join the dfs\n",
    "        counts = datautils.extract_hour_weekday(counts)\n",
    "        counts = pd.merge(counts, metar_df, left_on='pickup_datetime', right_on='datetime', how='inner')\n",
    "        counts['heavy_rain'] = counts.precip_in >= 0.30\n",
    "        counts['pred'] = counts.apply(\n",
    "            lambda row: self._predict(row['grid_x'], row['grid_y'], row['weekday'],\n",
    "                                      row['hour'], row['heavy_rain']), axis=1\n",
    "        )\n",
    "        counts['pred_scaled'] = counts.apply(\n",
    "            lambda row: self._predict(row['grid_x'], row['grid_y'], row['weekday'],\n",
    "                                      row['hour'], row['heavy_rain'], scaled=True), axis=1\n",
    "        )\n",
    "        return counts\n",
    "    \n",
    "    @staticmethod\n",
    "    def get_scaled_counts(df):\n",
    "        return datautils.scale_counts(datautils.get_counts(df))\n",
    "\n",
    "    # size(test set) = size(data) * ratio.\n",
    "    @staticmethod\n",
    "    def train_test_split(df, ratio=0.5):\n",
    "        assert 0 < ratio and ratio < 1\n",
    "        mask= np.random.rand(len(df)) < 1 - ratio\n",
    "        train = df[mask]\n",
    "        test = df[~mask]\n",
    "        return train, test"
   ]
  },
  {
   "cell_type": "code",
   "execution_count": 11,
   "metadata": {},
   "outputs": [],
   "source": [
    "def get_rides(year, size):\n",
    "    df_list = [datautils.get_rides_data(year, m+1, size) for m in range(12)]\n",
    "    rides = datautils.read_rides(df_list[0])\n",
    "    for i in range(1,12):\n",
    "        rides = pd.concat([rides, datautils.read_rides(df_list[i])])\n",
    "    print(f\"Read {len(rides)} rides.\")\n",
    "    return rides\n",
    "        \n",
    "def get_metar(year):\n",
    "    df_list = [datautils.get_metar_data(year, m+1) for m in range(12)]\n",
    "    metar = datautils.read_metar(df_list[0])\n",
    "    for i in range(1,12):\n",
    "        metar = pd.concat([metar, datautils.read_metar(df_list[i])])\n",
    "    print(f\"Read {len(metar)} metar rows.\")\n",
    "    return metar\n",
    "        "
   ]
  },
  {
   "cell_type": "code",
   "execution_count": 8,
   "metadata": {},
   "outputs": [],
   "source": [
    "def fit_transform(rides, metar):\n",
    "    train = AdjustedBaselineModel.get_scaled_counts(rides)\n",
    "    bm = AdjustedBaselineModel()\n",
    "    bm.fit(train, metar)\n",
    "    pred_train = bm.predict(train, metar)\n",
    "    return pred_train"
   ]
  },
  {
   "cell_type": "code",
   "execution_count": 10,
   "metadata": {},
   "outputs": [
    {
     "name": "stdout",
     "output_type": "stream",
     "text": [
      "Warning: read_metar is not fully developed. Some records may be improperly dropped.\n"
     ]
    },
    {
     "data": {
      "text/html": [
       "<div>\n",
       "<style scoped>\n",
       "    .dataframe tbody tr th:only-of-type {\n",
       "        vertical-align: middle;\n",
       "    }\n",
       "\n",
       "    .dataframe tbody tr th {\n",
       "        vertical-align: top;\n",
       "    }\n",
       "\n",
       "    .dataframe thead th {\n",
       "        text-align: right;\n",
       "    }\n",
       "</style>\n",
       "<table border=\"1\" class=\"dataframe\">\n",
       "  <thead>\n",
       "    <tr style=\"text-align: right;\">\n",
       "      <th></th>\n",
       "      <th>pickup_datetime</th>\n",
       "      <th>grid_x</th>\n",
       "      <th>grid_y</th>\n",
       "      <th>count</th>\n",
       "      <th>count_scaled</th>\n",
       "      <th>weekday</th>\n",
       "      <th>hour</th>\n",
       "      <th>datetime</th>\n",
       "      <th>precip_in</th>\n",
       "      <th>fahrenheit</th>\n",
       "      <th>heavy_rain</th>\n",
       "      <th>pred</th>\n",
       "      <th>pred_scaled</th>\n",
       "    </tr>\n",
       "  </thead>\n",
       "  <tbody>\n",
       "    <tr>\n",
       "      <th>0</th>\n",
       "      <td>2014-02-01</td>\n",
       "      <td>2</td>\n",
       "      <td>31</td>\n",
       "      <td>4</td>\n",
       "      <td>0.028777</td>\n",
       "      <td>5</td>\n",
       "      <td>0</td>\n",
       "      <td>2014-02-01</td>\n",
       "      <td>0.0</td>\n",
       "      <td>35.96</td>\n",
       "      <td>False</td>\n",
       "      <td>2.50</td>\n",
       "      <td>0.017986</td>\n",
       "    </tr>\n",
       "    <tr>\n",
       "      <th>1</th>\n",
       "      <td>2014-02-01</td>\n",
       "      <td>2</td>\n",
       "      <td>32</td>\n",
       "      <td>2</td>\n",
       "      <td>0.014388</td>\n",
       "      <td>5</td>\n",
       "      <td>0</td>\n",
       "      <td>2014-02-01</td>\n",
       "      <td>0.0</td>\n",
       "      <td>35.96</td>\n",
       "      <td>False</td>\n",
       "      <td>2.00</td>\n",
       "      <td>0.014388</td>\n",
       "    </tr>\n",
       "    <tr>\n",
       "      <th>2</th>\n",
       "      <td>2014-02-01</td>\n",
       "      <td>3</td>\n",
       "      <td>27</td>\n",
       "      <td>3</td>\n",
       "      <td>0.021583</td>\n",
       "      <td>5</td>\n",
       "      <td>0</td>\n",
       "      <td>2014-02-01</td>\n",
       "      <td>0.0</td>\n",
       "      <td>35.96</td>\n",
       "      <td>False</td>\n",
       "      <td>2.00</td>\n",
       "      <td>0.014388</td>\n",
       "    </tr>\n",
       "    <tr>\n",
       "      <th>3</th>\n",
       "      <td>2014-02-01</td>\n",
       "      <td>3</td>\n",
       "      <td>28</td>\n",
       "      <td>38</td>\n",
       "      <td>0.273381</td>\n",
       "      <td>5</td>\n",
       "      <td>0</td>\n",
       "      <td>2014-02-01</td>\n",
       "      <td>0.0</td>\n",
       "      <td>35.96</td>\n",
       "      <td>False</td>\n",
       "      <td>42.00</td>\n",
       "      <td>0.302158</td>\n",
       "    </tr>\n",
       "    <tr>\n",
       "      <th>4</th>\n",
       "      <td>2014-02-01</td>\n",
       "      <td>3</td>\n",
       "      <td>29</td>\n",
       "      <td>28</td>\n",
       "      <td>0.201439</td>\n",
       "      <td>5</td>\n",
       "      <td>0</td>\n",
       "      <td>2014-02-01</td>\n",
       "      <td>0.0</td>\n",
       "      <td>35.96</td>\n",
       "      <td>False</td>\n",
       "      <td>20.25</td>\n",
       "      <td>0.145683</td>\n",
       "    </tr>\n",
       "  </tbody>\n",
       "</table>\n",
       "</div>"
      ],
      "text/plain": [
       "  pickup_datetime  grid_x  grid_y  count  count_scaled  weekday  hour  \\\n",
       "0      2014-02-01       2      31      4      0.028777        5     0   \n",
       "1      2014-02-01       2      32      2      0.014388        5     0   \n",
       "2      2014-02-01       3      27      3      0.021583        5     0   \n",
       "3      2014-02-01       3      28     38      0.273381        5     0   \n",
       "4      2014-02-01       3      29     28      0.201439        5     0   \n",
       "\n",
       "    datetime  precip_in  fahrenheit  heavy_rain   pred  pred_scaled  \n",
       "0 2014-02-01        0.0       35.96       False   2.50     0.017986  \n",
       "1 2014-02-01        0.0       35.96       False   2.00     0.014388  \n",
       "2 2014-02-01        0.0       35.96       False   2.00     0.014388  \n",
       "3 2014-02-01        0.0       35.96       False  42.00     0.302158  \n",
       "4 2014-02-01        0.0       35.96       False  20.25     0.145683  "
      ]
     },
     "execution_count": 10,
     "metadata": {},
     "output_type": "execute_result"
    }
   ],
   "source": [
    "rides = datautils.read_rides(datautils.get_rides_data(2014,2,'small'))\n",
    "metar = datautils.read_metar(datautils.get_metar_data(2014,2))\n",
    "pred_train = fit_transform(rides, metar)\n",
    "pred_train.head()"
   ]
  },
  {
   "cell_type": "markdown",
   "metadata": {},
   "source": []
  },
  {
   "cell_type": "code",
   "execution_count": 12,
   "metadata": {},
   "outputs": [
    {
     "name": "stdout",
     "output_type": "stream",
     "text": [
      "Read 5878173 rides.\n",
      "Warning: read_metar is not fully developed. Some records may be improperly dropped.\n",
      "Warning: read_metar is not fully developed. Some records may be improperly dropped.\n",
      "Warning: read_metar is not fully developed. Some records may be improperly dropped.\n",
      "Warning: read_metar is not fully developed. Some records may be improperly dropped.\n",
      "Warning: read_metar is not fully developed. Some records may be improperly dropped.\n",
      "Warning: read_metar is not fully developed. Some records may be improperly dropped.\n",
      "Warning: read_metar is not fully developed. Some records may be improperly dropped.\n",
      "Warning: read_metar is not fully developed. Some records may be improperly dropped.\n",
      "Warning: read_metar is not fully developed. Some records may be improperly dropped.\n",
      "Warning: read_metar is not fully developed. Some records may be improperly dropped.\n",
      "Warning: read_metar is not fully developed. Some records may be improperly dropped.\n",
      "Warning: read_metar is not fully developed. Some records may be improperly dropped.\n",
      "Read 8731 metar rows.\n",
      "Read 5903167 rides.\n",
      "Warning: read_metar is not fully developed. Some records may be improperly dropped.\n",
      "Warning: read_metar is not fully developed. Some records may be improperly dropped.\n",
      "Warning: read_metar is not fully developed. Some records may be improperly dropped.\n",
      "Warning: read_metar is not fully developed. Some records may be improperly dropped.\n",
      "Warning: read_metar is not fully developed. Some records may be improperly dropped.\n",
      "Warning: read_metar is not fully developed. Some records may be improperly dropped.\n",
      "Warning: read_metar is not fully developed. Some records may be improperly dropped.\n",
      "Warning: read_metar is not fully developed. Some records may be improperly dropped.\n",
      "Warning: read_metar is not fully developed. Some records may be improperly dropped.\n",
      "Warning: read_metar is not fully developed. Some records may be improperly dropped.\n",
      "Warning: read_metar is not fully developed. Some records may be improperly dropped.\n",
      "Warning: read_metar is not fully developed. Some records may be improperly dropped.\n",
      "Read 8728 metar rows.\n"
     ]
    }
   ],
   "source": [
    "rides_2014 = get_rides(2014, 'small')\n",
    "metar_2014 = get_metar(2014)\n",
    "rides_2015 = get_rides(2015, 'small')\n",
    "metar_2015 = get_metar(2015)"
   ]
  },
  {
   "cell_type": "code",
   "execution_count": 15,
   "metadata": {},
   "outputs": [
    {
     "name": "stdout",
     "output_type": "stream",
     "text": [
      "CPU times: user 1min 2s, sys: 2.18 s, total: 1min 4s\n",
      "Wall time: 1min 4s\n"
     ]
    }
   ],
   "source": [
    "%%time\n",
    "train = AdjustedBaselineModel.get_scaled_counts(rides_2014)\n",
    "bm = AdjustedBaselineModel()\n",
    "bm.fit(train, metar_2014)"
   ]
  },
  {
   "cell_type": "code",
   "execution_count": 16,
   "metadata": {},
   "outputs": [
    {
     "name": "stdout",
     "output_type": "stream",
     "text": [
      "CPU times: user 5min 26s, sys: 2.09 s, total: 5min 28s\n",
      "Wall time: 5min 28s\n"
     ]
    }
   ],
   "source": [
    "%%time\n",
    "test = AdjustedBaselineModel.get_scaled_counts(rides_2015)\n",
    "pred = bm.predict(test, metar_2015)"
   ]
  },
  {
   "cell_type": "code",
   "execution_count": 17,
   "metadata": {},
   "outputs": [
    {
     "name": "stdout",
     "output_type": "stream",
     "text": [
      "col(count) stats:  count    604441.000000\n",
      "mean          9.733481\n",
      "std          13.206589\n",
      "min           1.000000\n",
      "25%           1.000000\n",
      "50%           3.000000\n",
      "75%          13.000000\n",
      "max         135.000000\n",
      "Name: count, dtype: float64\n",
      "\n",
      "scaled RMSE:  0.031342006305397976\n",
      "\n",
      "RMSE:  4.126930522015552\n",
      "\n",
      "R^2 : 0.9023496642738704\n",
      "\n",
      "Residual stats:  count    604441.000000\n",
      "mean         -0.108354\n",
      "std           4.125511\n",
      "min         -83.192308\n",
      "25%          -1.056604\n",
      "50%           0.105263\n",
      "75%           1.000000\n",
      "max          81.576923\n",
      "Name: residual, dtype: float64\n"
     ]
    },
    {
     "data": {
      "image/png": "[encoded data removed]",
      "text/plain": [
       "<Figure size 864x576 with 1 Axes>"
      ]
     },
     "metadata": {
      "needs_background": "light"
     },
     "output_type": "display_data"
    }
   ],
   "source": [
    "modelutils.show_prediction_stats(pred)"
   ]
  }
 ],
 "metadata": {
  "kernelspec": {
   "display_name": "Python 3",
   "language": "python",
   "name": "python3"
  },
  "language_info": {
   "codemirror_mode": {
    "name": "ipython",
    "version": 3
   },
   "file_extension": ".py",
   "mimetype": "text/x-python",
   "name": "python",
   "nbconvert_exporter": "python",
   "pygments_lexer": "ipython3",
   "version": "3.6.6"
  }
 },
 "nbformat": 4,
 "nbformat_minor": 2
}
