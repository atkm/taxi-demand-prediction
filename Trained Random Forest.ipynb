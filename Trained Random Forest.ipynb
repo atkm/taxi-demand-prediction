{
 "cells": [
  {
   "cell_type": "markdown",
   "metadata": {},
   "source": [
    "# Best Random Forest Model\n",
    "\n",
    "The bias is the same as the baseline model.\n",
    "\n",
    "results.txt:\n",
    "- Data: year=2014, month=01-01, size=mid\n",
    "- Time (in seconds): 87767 = 24h22m\n",
    "- [('maxDepth', 30), ('minInstancesPerNode', 1), ('numTrees', 300)] - 0.0331134166639611 -"
   ]
  },
  {
   "cell_type": "code",
   "execution_count": 33,
   "metadata": {},
   "outputs": [],
   "source": [
    "import pyspark\n",
    "from pyspark.ml import PipelineModel\n",
    "from utils import sparkutils, modelutils\n",
    "\n",
    "import matplotlib\n",
    "import matplotlib.pyplot as plt"
   ]
  },
  {
   "cell_type": "code",
   "execution_count": 3,
   "metadata": {},
   "outputs": [],
   "source": [
    "spark = pyspark.sql.SparkSession.builder\\\n",
    ".appName(\"Rides Preprocessor\")\\\n",
    ".master(\"local\")\\\n",
    ".config(\"spark.local.dir\", \"/home/atkm/nycTaxi/tmp\")\\\n",
    ".config(\"spark.driver.memory\", \"4g\")\\\n",
    ".getOrCreate()"
   ]
  },
  {
   "cell_type": "code",
   "execution_count": 5,
   "metadata": {},
   "outputs": [],
   "source": [
    "def get_ride_data(year, month, size='tiny'):\n",
    "    return f'data/yellow_tripdata_{year}-{month:02}_{size}.csv'\n",
    "\n",
    "def get_metar_data(year, month):\n",
    "    return f'data/metar_data/lga_{year}-{month:02}.csv'\n",
    "\n",
    "def read_csv(path):\n",
    "    return spark.read.format(\"csv\")\\\n",
    "      .option(\"header\", \"true\")\\\n",
    "      .option(\"inferSchema\", \"true\")\\\n",
    "      .load(path)\n",
    "\n",
    "def load_metar(metarPath):\n",
    "    metar = read_csv(metarPath)\n",
    "    metar = metar.select(\"valid\",\"tmpf\", \" p01i\") # note whitespace in p01i\n",
    "    return metar.withColumnRenamed('valid', 'datetime')\\\n",
    "        .withColumnRenamed('tmpf', 'fahrenheit')\\\n",
    "        .withColumnRenamed(' p01i', 'precip_in')\n",
    "\n",
    "def load_rides(ridesPath):\n",
    "    rides = read_csv(ridesPath)\n",
    "    # 2014\n",
    "    colNames = map(lambda name: name.strip(), rides.columns)\n",
    "    rides = rides.toDF(*colNames)\n",
    "    return rides.select(\"pickup_datetime\",\"pickup_latitude\", \"pickup_longitude\")\n"
   ]
  },
  {
   "cell_type": "code",
   "execution_count": 4,
   "metadata": {},
   "outputs": [],
   "source": [
    "model = PipelineModel.load('training_results/rfmodel_1536387410/rfmodel_1536387410.model/')"
   ]
  },
  {
   "cell_type": "code",
   "execution_count": 56,
   "metadata": {},
   "outputs": [
    {
     "data": {
      "text/plain": [
       "Param(parent='RandomForestRegressor_4ac0ba16b695c1095c59', name='numTrees', doc='Number of trees to train (>= 1)')"
      ]
     },
     "execution_count": 56,
     "metadata": {},
     "output_type": "execute_result"
    }
   ],
   "source": [
    "rf_pmap = model.stages[1]\n",
    "rf_pmap.getParam('numTrees')"
   ]
  },
  {
   "cell_type": "code",
   "execution_count": 36,
   "metadata": {},
   "outputs": [],
   "source": [
    "rides = sparkutils.count_rides(\n",
    "    load_rides(get_ride_data(2014,1,'small'))\n",
    ")\n",
    "metar = sparkutils.clean_metar(\n",
    "    load_metar(get_metar_data(2014,1))\n",
    ")\n",
    "joined = sparkutils.join_rides_metar(rides,metar)"
   ]
  },
  {
   "cell_type": "code",
   "execution_count": 37,
   "metadata": {},
   "outputs": [],
   "source": [
    "pred = model.transform(joined)"
   ]
  },
  {
   "cell_type": "code",
   "execution_count": 38,
   "metadata": {},
   "outputs": [
    {
     "data": {
      "text/plain": [
       "51333"
      ]
     },
     "execution_count": 38,
     "metadata": {},
     "output_type": "execute_result"
    }
   ],
   "source": [
    "pred.count()"
   ]
  },
  {
   "cell_type": "code",
   "execution_count": 12,
   "metadata": {
    "scrolled": true
   },
   "outputs": [
    {
     "name": "stdout",
     "output_type": "stream",
     "text": [
      "+------+------+-------------------+----------+---------+-------+----+--------------------+\n",
      "|grid_x|grid_y|       count_scaled|fahrenheit|precip_in|weekday|hour|          prediction|\n",
      "+------+------+-------------------+----------+---------+-------+----+--------------------+\n",
      "|     5|    30|0.16666666666666666|     30.02|      0.0|      1|   3| 0.05728571535892943|\n",
      "|     4|    26|0.16666666666666666|     30.02|      0.0|      1|   3|0.020849298000435414|\n",
      "|     5|    25| 0.3333333333333333|     30.02|      0.0|      1|   3| 0.04872408123197045|\n",
      "|     6|    26|0.16666666666666666|     33.98|      0.0|      5|  21| 0.45409276911062163|\n",
      "|     6|    28|0.16666666666666666|     33.98|      0.0|      5|  21| 0.17265371054479794|\n",
      "+------+------+-------------------+----------+---------+-------+----+--------------------+\n",
      "only showing top 5 rows\n",
      "\n"
     ]
    }
   ],
   "source": [
    "pred.select('grid_x','grid_y','count_scaled','fahrenheit','precip_in','weekday','hour','prediction').show(5)"
   ]
  },
  {
   "cell_type": "code",
   "execution_count": 39,
   "metadata": {},
   "outputs": [],
   "source": [
    "df = pred.select('grid_x','grid_y','count_scaled','fahrenheit','precip_in','weekday','hour','prediction').toPandas()"
   ]
  },
  {
   "cell_type": "code",
   "execution_count": 40,
   "metadata": {},
   "outputs": [
    {
     "data": {
      "text/html": [
       "<div>\n",
       "<style scoped>\n",
       "    .dataframe tbody tr th:only-of-type {\n",
       "        vertical-align: middle;\n",
       "    }\n",
       "\n",
       "    .dataframe tbody tr th {\n",
       "        vertical-align: top;\n",
       "    }\n",
       "\n",
       "    .dataframe thead th {\n",
       "        text-align: right;\n",
       "    }\n",
       "</style>\n",
       "<table border=\"1\" class=\"dataframe\">\n",
       "  <thead>\n",
       "    <tr style=\"text-align: right;\">\n",
       "      <th></th>\n",
       "      <th>grid_x</th>\n",
       "      <th>grid_y</th>\n",
       "      <th>count_scaled</th>\n",
       "      <th>fahrenheit</th>\n",
       "      <th>precip_in</th>\n",
       "      <th>weekday</th>\n",
       "      <th>hour</th>\n",
       "      <th>prediction</th>\n",
       "    </tr>\n",
       "  </thead>\n",
       "  <tbody>\n",
       "    <tr>\n",
       "      <th>0</th>\n",
       "      <td>5</td>\n",
       "      <td>25</td>\n",
       "      <td>0.030769</td>\n",
       "      <td>30.02</td>\n",
       "      <td>0.0</td>\n",
       "      <td>1</td>\n",
       "      <td>3</td>\n",
       "      <td>0.048724</td>\n",
       "    </tr>\n",
       "    <tr>\n",
       "      <th>1</th>\n",
       "      <td>4</td>\n",
       "      <td>26</td>\n",
       "      <td>0.015385</td>\n",
       "      <td>30.02</td>\n",
       "      <td>0.0</td>\n",
       "      <td>1</td>\n",
       "      <td>3</td>\n",
       "      <td>0.020849</td>\n",
       "    </tr>\n",
       "    <tr>\n",
       "      <th>2</th>\n",
       "      <td>6</td>\n",
       "      <td>30</td>\n",
       "      <td>0.015385</td>\n",
       "      <td>30.02</td>\n",
       "      <td>0.0</td>\n",
       "      <td>1</td>\n",
       "      <td>3</td>\n",
       "      <td>0.010528</td>\n",
       "    </tr>\n",
       "    <tr>\n",
       "      <th>3</th>\n",
       "      <td>11</td>\n",
       "      <td>26</td>\n",
       "      <td>0.007692</td>\n",
       "      <td>30.02</td>\n",
       "      <td>0.0</td>\n",
       "      <td>1</td>\n",
       "      <td>3</td>\n",
       "      <td>0.003395</td>\n",
       "    </tr>\n",
       "    <tr>\n",
       "      <th>4</th>\n",
       "      <td>7</td>\n",
       "      <td>25</td>\n",
       "      <td>0.007692</td>\n",
       "      <td>30.02</td>\n",
       "      <td>0.0</td>\n",
       "      <td>1</td>\n",
       "      <td>3</td>\n",
       "      <td>0.013142</td>\n",
       "    </tr>\n",
       "  </tbody>\n",
       "</table>\n",
       "</div>"
      ],
      "text/plain": [
       "   grid_x  grid_y  count_scaled  fahrenheit  precip_in  weekday  hour  \\\n",
       "0       5      25      0.030769       30.02        0.0        1     3   \n",
       "1       4      26      0.015385       30.02        0.0        1     3   \n",
       "2       6      30      0.015385       30.02        0.0        1     3   \n",
       "3      11      26      0.007692       30.02        0.0        1     3   \n",
       "4       7      25      0.007692       30.02        0.0        1     3   \n",
       "\n",
       "   prediction  \n",
       "0    0.048724  \n",
       "1    0.020849  \n",
       "2    0.010528  \n",
       "3    0.003395  \n",
       "4    0.013142  "
      ]
     },
     "execution_count": 40,
     "metadata": {},
     "output_type": "execute_result"
    }
   ],
   "source": [
    "df.head()"
   ]
  },
  {
   "cell_type": "code",
   "execution_count": 41,
   "metadata": {},
   "outputs": [],
   "source": [
    "df['residual'] = df['prediction'] - df['count_scaled']"
   ]
  },
  {
   "cell_type": "code",
   "execution_count": 42,
   "metadata": {},
   "outputs": [
    {
     "data": {
      "text/plain": [
       "<matplotlib.axes._subplots.AxesSubplot at 0x7f9358876748>"
      ]
     },
     "execution_count": 42,
     "metadata": {},
     "output_type": "execute_result"
    },
    {
     "data": {
      "image/png": "[encoded data removed]",
      "text/plain": [
       "<Figure size 864x576 with 1 Axes>"
      ]
     },
     "metadata": {
      "needs_background": "light"
     },
     "output_type": "display_data"
    }
   ],
   "source": [
    "fig, ax = plt.subplots(figsize=(12,8))\n",
    "df.plot.scatter('count_scaled', 'residual', ax=ax)"
   ]
  },
  {
   "cell_type": "code",
   "execution_count": null,
   "metadata": {},
   "outputs": [],
   "source": []
  }
 ],
 "metadata": {
  "kernelspec": {
   "display_name": "Python 3",
   "language": "python",
   "name": "python3"
  },
  "language_info": {
   "codemirror_mode": {
    "name": "ipython",
    "version": 3
   },
   "file_extension": ".py",
   "mimetype": "text/x-python",
   "name": "python",
   "nbconvert_exporter": "python",
   "pygments_lexer": "ipython3",
   "version": "3.6.6"
  }
 },
 "nbformat": 4,
 "nbformat_minor": 2
}
