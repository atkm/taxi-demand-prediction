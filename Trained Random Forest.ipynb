{
 "cells": [
  {
   "cell_type": "markdown",
   "metadata": {},
   "source": [
    "# Best Random Forest Model\n",
    "\n",
    "The bias is the same as the baseline model.\n",
    "\n",
    "results.txt:\n",
    "- Data: year=2014, month=01-01, size=mid\n",
    "- Time (in seconds): 87767 = 24h22m\n",
    "- [('maxDepth', 30), ('minInstancesPerNode', 1), ('numTrees', 300)] - 0.0331134166639611 -"
   ]
  },
  {
   "cell_type": "code",
   "execution_count": 2,
   "metadata": {},
   "outputs": [],
   "source": [
    "import pyspark\n",
    "from pyspark.ml import PipelineModel\n",
    "from utils import sparkutils, modelutils\n",
    "\n",
    "import matplotlib\n",
    "import matplotlib.pyplot as plt"
   ]
  },
  {
   "cell_type": "code",
   "execution_count": 3,
   "metadata": {},
   "outputs": [],
   "source": [
    "spark = pyspark.sql.SparkSession.builder\\\n",
    ".appName(\"Rides Preprocessor\")\\\n",
    ".master(\"local\")\\\n",
    ".config(\"spark.local.dir\", \"/home/atkm/nycTaxi/tmp\")\\\n",
    ".config(\"spark.driver.memory\", \"4g\")\\\n",
    ".getOrCreate()"
   ]
  },
  {
   "cell_type": "code",
   "execution_count": 4,
   "metadata": {},
   "outputs": [],
   "source": [
    "def get_ride_data(year, month, size='tiny'):\n",
    "    return f'data/yellow_tripdata_{year}-{month:02}_{size}.csv'\n",
    "\n",
    "def get_metar_data(year, month):\n",
    "    return f'data/metar_data/lga_{year}-{month:02}.csv'\n",
    "\n",
    "def read_csv(path):\n",
    "    return spark.read.format(\"csv\")\\\n",
    "      .option(\"header\", \"true\")\\\n",
    "      .option(\"inferSchema\", \"true\")\\\n",
    "      .load(path)\n",
    "\n",
    "def load_metar(metarPath):\n",
    "    metar = read_csv(metarPath)\n",
    "    metar = metar.select(\"valid\",\"tmpf\", \" p01i\") # note whitespace in p01i\n",
    "    return metar.withColumnRenamed('valid', 'datetime')\\\n",
    "        .withColumnRenamed('tmpf', 'fahrenheit')\\\n",
    "        .withColumnRenamed(' p01i', 'precip_in')\n",
    "\n",
    "def load_rides(ridesPath):\n",
    "    rides = read_csv(ridesPath)\n",
    "    # 2014\n",
    "    colNames = map(lambda name: name.strip(), rides.columns)\n",
    "    rides = rides.toDF(*colNames)\n",
    "    return rides.select(\"pickup_datetime\",\"pickup_latitude\", \"pickup_longitude\")\n"
   ]
  },
  {
   "cell_type": "code",
   "execution_count": 5,
   "metadata": {},
   "outputs": [],
   "source": [
    "model = PipelineModel.load('training_results/rfmodel_1536387410/rfmodel_1536387410.model/')"
   ]
  },
  {
   "cell_type": "code",
   "execution_count": 6,
   "metadata": {},
   "outputs": [
    {
     "data": {
      "text/plain": [
       "Param(parent='RandomForestRegressor_4ac0ba16b695c1095c59', name='numTrees', doc='Number of trees to train (>= 1)')"
      ]
     },
     "execution_count": 6,
     "metadata": {},
     "output_type": "execute_result"
    }
   ],
   "source": [
    "rf_pmap = model.stages[1]\n",
    "rf_pmap.getParam('numTrees')"
   ]
  },
  {
   "cell_type": "code",
   "execution_count": 7,
   "metadata": {},
   "outputs": [],
   "source": [
    "rides = sparkutils.count_rides(\n",
    "    load_rides(get_ride_data(2014,2,'small'))\n",
    ")\n",
    "metar = sparkutils.clean_metar(\n",
    "    load_metar(get_metar_data(2014,2))\n",
    ")\n",
    "joined = sparkutils.join_rides_metar(rides,metar)"
   ]
  },
  {
   "cell_type": "code",
   "execution_count": 8,
   "metadata": {},
   "outputs": [],
   "source": [
    "pred = model.transform(joined)"
   ]
  },
  {
   "cell_type": "code",
   "execution_count": 9,
   "metadata": {},
   "outputs": [
    {
     "data": {
      "text/plain": [
       "48801"
      ]
     },
     "execution_count": 9,
     "metadata": {},
     "output_type": "execute_result"
    }
   ],
   "source": [
    "pred.count()"
   ]
  },
  {
   "cell_type": "code",
   "execution_count": 10,
   "metadata": {
    "scrolled": true
   },
   "outputs": [
    {
     "name": "stdout",
     "output_type": "stream",
     "text": [
      "+------+------+--------------------+----------+---------+-------+----+--------------------+\n",
      "|grid_x|grid_y|        count_scaled|fahrenheit|precip_in|weekday|hour|          prediction|\n",
      "+------+------+--------------------+----------+---------+-------+----+--------------------+\n",
      "|     5|    33| 0.02158273381294964|      32.0|      0.0|      2|  19|0.011351272672355394|\n",
      "|     4|    32|0.007194244604316547|      32.0|      0.0|      2|  19|0.007173798548970301|\n",
      "|     6|    29| 0.03597122302158273|      32.0|      0.0|      2|  19|0.042052977138908564|\n",
      "|     5|    32| 0.02158273381294964|      32.0|      0.0|      2|  19|0.007699720491528302|\n",
      "|     7|    31|0.007194244604316547|      32.0|      0.0|      2|  19|0.014312780024728643|\n",
      "+------+------+--------------------+----------+---------+-------+----+--------------------+\n",
      "only showing top 5 rows\n",
      "\n"
     ]
    }
   ],
   "source": [
    "pred.select('grid_x','grid_y','count_scaled','fahrenheit','precip_in','weekday','hour','prediction').show(5)"
   ]
  },
  {
   "cell_type": "code",
   "execution_count": 11,
   "metadata": {},
   "outputs": [],
   "source": [
    "df = pred.select('grid_x','grid_y','count_scaled','fahrenheit','precip_in','weekday','hour','prediction').toPandas()"
   ]
  },
  {
   "cell_type": "code",
   "execution_count": 12,
   "metadata": {},
   "outputs": [
    {
     "data": {
      "text/html": [
       "<div>\n",
       "<style scoped>\n",
       "    .dataframe tbody tr th:only-of-type {\n",
       "        vertical-align: middle;\n",
       "    }\n",
       "\n",
       "    .dataframe tbody tr th {\n",
       "        vertical-align: top;\n",
       "    }\n",
       "\n",
       "    .dataframe thead th {\n",
       "        text-align: right;\n",
       "    }\n",
       "</style>\n",
       "<table border=\"1\" class=\"dataframe\">\n",
       "  <thead>\n",
       "    <tr style=\"text-align: right;\">\n",
       "      <th></th>\n",
       "      <th>grid_x</th>\n",
       "      <th>grid_y</th>\n",
       "      <th>count_scaled</th>\n",
       "      <th>fahrenheit</th>\n",
       "      <th>precip_in</th>\n",
       "      <th>weekday</th>\n",
       "      <th>hour</th>\n",
       "      <th>prediction</th>\n",
       "    </tr>\n",
       "  </thead>\n",
       "  <tbody>\n",
       "    <tr>\n",
       "      <th>0</th>\n",
       "      <td>5</td>\n",
       "      <td>33</td>\n",
       "      <td>0.021583</td>\n",
       "      <td>32.0</td>\n",
       "      <td>0.0</td>\n",
       "      <td>2</td>\n",
       "      <td>19</td>\n",
       "      <td>0.011351</td>\n",
       "    </tr>\n",
       "    <tr>\n",
       "      <th>1</th>\n",
       "      <td>4</td>\n",
       "      <td>32</td>\n",
       "      <td>0.007194</td>\n",
       "      <td>32.0</td>\n",
       "      <td>0.0</td>\n",
       "      <td>2</td>\n",
       "      <td>19</td>\n",
       "      <td>0.007174</td>\n",
       "    </tr>\n",
       "    <tr>\n",
       "      <th>2</th>\n",
       "      <td>6</td>\n",
       "      <td>29</td>\n",
       "      <td>0.035971</td>\n",
       "      <td>32.0</td>\n",
       "      <td>0.0</td>\n",
       "      <td>2</td>\n",
       "      <td>19</td>\n",
       "      <td>0.042053</td>\n",
       "    </tr>\n",
       "    <tr>\n",
       "      <th>3</th>\n",
       "      <td>5</td>\n",
       "      <td>32</td>\n",
       "      <td>0.021583</td>\n",
       "      <td>32.0</td>\n",
       "      <td>0.0</td>\n",
       "      <td>2</td>\n",
       "      <td>19</td>\n",
       "      <td>0.007700</td>\n",
       "    </tr>\n",
       "    <tr>\n",
       "      <th>4</th>\n",
       "      <td>7</td>\n",
       "      <td>31</td>\n",
       "      <td>0.007194</td>\n",
       "      <td>32.0</td>\n",
       "      <td>0.0</td>\n",
       "      <td>2</td>\n",
       "      <td>19</td>\n",
       "      <td>0.014313</td>\n",
       "    </tr>\n",
       "  </tbody>\n",
       "</table>\n",
       "</div>"
      ],
      "text/plain": [
       "   grid_x  grid_y  count_scaled  fahrenheit  precip_in  weekday  hour  \\\n",
       "0       5      33      0.021583        32.0        0.0        2    19   \n",
       "1       4      32      0.007194        32.0        0.0        2    19   \n",
       "2       6      29      0.035971        32.0        0.0        2    19   \n",
       "3       5      32      0.021583        32.0        0.0        2    19   \n",
       "4       7      31      0.007194        32.0        0.0        2    19   \n",
       "\n",
       "   prediction  \n",
       "0    0.011351  \n",
       "1    0.007174  \n",
       "2    0.042053  \n",
       "3    0.007700  \n",
       "4    0.014313  "
      ]
     },
     "execution_count": 12,
     "metadata": {},
     "output_type": "execute_result"
    }
   ],
   "source": [
    "df.head()"
   ]
  },
  {
   "cell_type": "code",
   "execution_count": 13,
   "metadata": {},
   "outputs": [],
   "source": [
    "df['residual'] = df['prediction'] - df['count_scaled']"
   ]
  },
  {
   "cell_type": "code",
   "execution_count": 14,
   "metadata": {},
   "outputs": [
    {
     "data": {
      "text/plain": [
       "<matplotlib.axes._subplots.AxesSubplot at 0x7fb78374ef98>"
      ]
     },
     "execution_count": 14,
     "metadata": {},
     "output_type": "execute_result"
    },
    {
     "data": {
      "image/png": "[encoded data removed]",
      "text/plain": [
       "<Figure size 864x576 with 1 Axes>"
      ]
     },
     "metadata": {
      "needs_background": "light"
     },
     "output_type": "display_data"
    }
   ],
   "source": [
    "fig, ax = plt.subplots(figsize=(12,8))\n",
    "df.plot.scatter('count_scaled', 'residual', ax=ax)"
   ]
  },
  {
   "cell_type": "code",
   "execution_count": null,
   "metadata": {},
   "outputs": [],
   "source": []
  }
 ],
 "metadata": {
  "kernelspec": {
   "display_name": "Python 3",
   "language": "python",
   "name": "python3"
  },
  "language_info": {
   "codemirror_mode": {
    "name": "ipython",
    "version": 3
   },
   "file_extension": ".py",
   "mimetype": "text/x-python",
   "name": "python",
   "nbconvert_exporter": "python",
   "pygments_lexer": "ipython3",
   "version": "3.6.6"
  }
 },
 "nbformat": 4,
 "nbformat_minor": 2
}
