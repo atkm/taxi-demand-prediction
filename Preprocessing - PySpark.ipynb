{
 "cells": [
  {
   "cell_type": "code",
   "execution_count": 1,
   "metadata": {},
   "outputs": [],
   "source": [
    "import pyspark\n",
    "from pyspark.sql.functions import udf, date_format, to_timestamp, col, desc\n",
    "from pyspark.sql.types import BooleanType, IntegerType, DoubleType\n",
    "from utils import datautils\n",
    "from utils import geoutils"
   ]
  },
  {
   "cell_type": "code",
   "execution_count": 2,
   "metadata": {},
   "outputs": [],
   "source": [
    "spark = pyspark.sql.SparkSession.builder\\\n",
    ".appName(\"Rides Preprocessor\")\\\n",
    ".master(\"local\")\\\n",
    ".config(\"spark.local.dir\", \"/home/atkm/nycTaxi/tmp\")\\\n",
    ".getOrCreate()\n",
    "\n",
    "# Or...\n",
    "#sparkConf = pyspark.SparkConf()\n",
    "#sparkConf.set('spark.local.dir', '/home/atkm/nycTaxi/tmp')\n",
    "#sparkConf.setAppName(\"Rides Preprocessor\")\n",
    "#sc = pyspark.SparkContext(conf=sparkConf)\n",
    "#sc.master, sc.getConf().getAll()"
   ]
  },
  {
   "cell_type": "code",
   "execution_count": 14,
   "metadata": {},
   "outputs": [],
   "source": [
    "def read_csv(path):\n",
    "    return spark.read.format(\"csv\")\\\n",
    "      .option(\"header\", \"true\")\\\n",
    "      .option(\"inferSchema\", \"true\")\\\n",
    "      .load(path)\n",
    "\n",
    "def drop_minutes(df, colName):\n",
    "    fmt = \"yyyy-MM-dd HH:00:00\"\n",
    "    return df.withColumn(colName, \n",
    "                            to_timestamp(\n",
    "                                date_format(col(colName), fmt), \n",
    "                                \"yyyy-MM-dd HH:mm:ss\"))\n",
    "\n",
    "def filter_numerical(df, colName):\n",
    "    df = df.filter(col(colName).rlike(r'\\d+(\\.\\d+)?'))\n",
    "    return df.withColumn(colName, col(colName).cast(DoubleType()))\n",
    "\n",
    "# extract weekday and hour from a datetime column\n",
    "def extract_datetime(df, colName):\n",
    "    return df.withColumn(\"weekday\", date_format(col(colName),'u'))\\\n",
    "                .withColumn(\"hour\", date_format(col(colName), \"H\"))\\\n",
    "                .drop(colName)\n",
    "\n"
   ]
  },
  {
   "cell_type": "code",
   "execution_count": 4,
   "metadata": {},
   "outputs": [],
   "source": [
    "# Metar pipeline\n",
    "\n",
    "def load_metar(metarPath):\n",
    "    metar = read_csv(metarPath)\n",
    "    metar = metar.select(\"valid\",\"tmpf\", \" p01i\") # note whitespace in p01i\n",
    "    return metar.withColumnRenamed('valid', 'datetime')\\\n",
    "        .withColumnRenamed('tmpf', 'fahrenheit')\\\n",
    "        .withColumnRenamed(' p01i', 'precip_in')\n",
    "\n",
    "\n",
    "def clean_metar(metar):\n",
    "    precip = metar.select('datetime', 'precip_in')\n",
    "    precip = clean_precip(precip)\n",
    "    temperature = metar.select('fahrenheit', 'datetime')\n",
    "    temperature = clean_temperature(temperature)\n",
    "    return temperature.join(precip, 'datetime')\n",
    "\n",
    "def clean_precip(precip):\n",
    "    if dict(precip.dtypes)['precip_in'] == 'string':\n",
    "        precip = filter_numerical(precip, 'precip_in')\n",
    "    precip = precip.filter(date_format(col('datetime'), \"m\") == 51)\n",
    "    return drop_minutes(precip, 'datetime')    \n",
    "\n",
    "def clean_temperature(temperature):\n",
    "    if dict(temperature.dtypes)['fahrenheit'] == 'string':\n",
    "        temperature = filter_numerical(temperature, 'fahrenheit')\n",
    "    temperature = drop_minutes(temperature, 'datetime')\n",
    "    temperature = temperature.groupby('datetime').mean()\n",
    "    return temperature.withColumnRenamed('avg(fahrenheit)', 'fahrenheit')"
   ]
  },
  {
   "cell_type": "code",
   "execution_count": 5,
   "metadata": {},
   "outputs": [],
   "source": [
    "# Rides pipeline\n",
    "# load -> clean -> add grid columns -> drop minutes \n",
    "# -> get_counts -> join weather -> extract hour and weekday.\n",
    "\n",
    "# TODO: implement datautils.read_rides\n",
    "def load_rides(ridesPath):\n",
    "    rides = read_csv(ridesPath)\n",
    "    # 2014\n",
    "    colNames = map(lambda name: name.strip(), rides.columns)\n",
    "    rides = rides.toDF(*colNames)\n",
    "    return rides.select(\"pickup_datetime\",\"pickup_latitude\", \"pickup_longitude\")\n",
    "\n",
    "is_in_nyc = udf(geoutils.is_in_nyc, BooleanType())\n",
    "get_grid_x = udf(geoutils._get_grid_cell_x, IntegerType())\n",
    "get_grid_y = udf(geoutils._get_grid_cell_y, IntegerType())\n",
    "\n",
    "def clean_rides(rides):\n",
    "    return rides.filter(is_in_nyc(rides.pickup_latitude, \n",
    "                           rides.pickup_longitude) == True)\n",
    "\n",
    "def add_grid_cols(rides):\n",
    "    return rides.withColumn(\"grid_x\", \n",
    "                 get_grid_x(rides.pickup_longitude))\\\n",
    "                .withColumn(\"grid_y\", get_grid_y(rides.pickup_latitude))\\\n",
    "                .drop('pickup_latitude')\\\n",
    "                .drop('pickup_longitude')\n",
    "        \n",
    "def get_counts(rides):\n",
    "    return rides.groupby('pickup_datetime','grid_x','grid_y').count()\n",
    "\n",
    "# takes an output of load_rides, and prepares it for a join with metar data.\n",
    "def count_rides(rides):\n",
    "    rides = clean_rides(rides)\n",
    "    rides = add_grid_cols(rides)\n",
    "    rides = drop_minutes(rides, 'pickup_datetime')\n",
    "    return get_counts(rides)\n",
    "\n",
    "# takes outputs of count_rides and \n",
    "def join_rides_metar(rides, metar):\n",
    "    return rides.join(metar, rides.pickup_datetime == metar.datetime).drop('pickup_datetime')"
   ]
  },
  {
   "cell_type": "code",
   "execution_count": null,
   "metadata": {},
   "outputs": [],
   "source": []
  },
  {
   "cell_type": "code",
   "execution_count": null,
   "metadata": {},
   "outputs": [],
   "source": []
  },
  {
   "cell_type": "code",
   "execution_count": null,
   "metadata": {},
   "outputs": [],
   "source": []
  },
  {
   "cell_type": "markdown",
   "metadata": {},
   "source": [
    "## Develop join_rides_metar"
   ]
  },
  {
   "cell_type": "code",
   "execution_count": 6,
   "metadata": {
    "scrolled": true
   },
   "outputs": [
    {
     "name": "stdout",
     "output_type": "stream",
     "text": [
      "10000\n",
      "7812\n",
      "+-------------------+------+------+-----+\n",
      "|    pickup_datetime|grid_x|grid_y|count|\n",
      "+-------------------+------+------+-----+\n",
      "|2014-10-09 19:00:00|     4|    29|    1|\n",
      "|2014-10-22 07:00:00|     8|    25|    1|\n",
      "|2014-10-20 07:00:00|     8|    24|    1|\n",
      "|2014-10-10 15:00:00|     5|    26|    3|\n",
      "|2014-10-27 13:00:00|     6|    30|    1|\n",
      "+-------------------+------+------+-----+\n",
      "only showing top 5 rows\n",
      "\n"
     ]
    }
   ],
   "source": [
    "rides = load_rides('data/yellow_tripdata_2014-10_tiny.csv')\n",
    "print(rides.count())\n",
    "rides = count_rides(rides)\n",
    "print(rides.count())\n",
    "rides.show(5)"
   ]
  },
  {
   "cell_type": "code",
   "execution_count": 7,
   "metadata": {},
   "outputs": [
    {
     "name": "stdout",
     "output_type": "stream",
     "text": [
      "859\n",
      "742\n"
     ]
    }
   ],
   "source": [
    "metar = load_metar('data/metar_data/lga_2014-10.csv')\n",
    "print(metar.count())\n",
    "precip = metar.select('datetime','precip_in')\n",
    "temperature = metar.select('fahrenheit', 'datetime')\n",
    "metar = clean_metar(metar)\n",
    "print(metar.count())"
   ]
  },
  {
   "cell_type": "code",
   "execution_count": 8,
   "metadata": {},
   "outputs": [
    {
     "name": "stdout",
     "output_type": "stream",
     "text": [
      "+-------------------+------------------+---------+\n",
      "|           datetime|        fahrenheit|precip_in|\n",
      "+-------------------+------------------+---------+\n",
      "|2014-10-20 19:00:00|             57.92|      0.0|\n",
      "|2014-10-02 05:00:00|             60.98|      0.0|\n",
      "|2014-10-22 05:00:00|55.507999999999996|     0.13|\n",
      "|2014-10-24 03:00:00|             51.89|      0.0|\n",
      "|2014-10-01 03:00:00|             62.06|      0.0|\n",
      "+-------------------+------------------+---------+\n",
      "only showing top 5 rows\n",
      "\n"
     ]
    }
   ],
   "source": [
    "metar.show(5)"
   ]
  },
  {
   "cell_type": "code",
   "execution_count": 15,
   "metadata": {},
   "outputs": [
    {
     "name": "stdout",
     "output_type": "stream",
     "text": [
      "7790\n",
      "+------+------+-----+----------+---------+-------+----+\n",
      "|grid_x|grid_y|count|fahrenheit|precip_in|weekday|hour|\n",
      "+------+------+-----+----------+---------+-------+----+\n",
      "|     8|    21|    1|     57.92|      0.0|      1|  19|\n",
      "|     7|    21|    1|     57.92|      0.0|      1|  19|\n",
      "|     5|    23|    1|     57.92|      0.0|      1|  19|\n",
      "|    22|    39|    1|     57.92|      0.0|      1|  19|\n",
      "|     3|    29|    2|     57.92|      0.0|      1|  19|\n",
      "|     6|    27|    1|     57.92|      0.0|      1|  19|\n",
      "|     5|    28|    1|     57.92|      0.0|      1|  19|\n",
      "|     5|    26|    2|     57.92|      0.0|      1|  19|\n",
      "|     4|    26|    1|     57.92|      0.0|      1|  19|\n",
      "|     9|    24|    1|     57.92|      0.0|      1|  19|\n",
      "|     3|    32|    1|     57.92|      0.0|      1|  19|\n",
      "|     4|    27|    1|     57.92|      0.0|      1|  19|\n",
      "|     5|    25|    2|     57.92|      0.0|      1|  19|\n",
      "|     5|    24|    2|     57.92|      0.0|      1|  19|\n",
      "|     5|    27|    1|     57.92|      0.0|      1|  19|\n",
      "|     6|    26|    1|     57.92|      0.0|      1|  19|\n",
      "|     3|    30|    2|     57.92|      0.0|      1|  19|\n",
      "|     6|    26|    1|     60.98|      0.0|      4|   5|\n",
      "|     5|    27|    1|     60.98|      0.0|      4|   5|\n",
      "|     5|    26|    1|     60.98|      0.0|      4|   5|\n",
      "+------+------+-----+----------+---------+-------+----+\n",
      "only showing top 20 rows\n",
      "\n"
     ]
    }
   ],
   "source": [
    "joined = join_rides_metar(rides, metar)\n",
    "joined = extract_datetime(joined, 'datetime')\n",
    "print(joined.count())\n",
    "joined.show()"
   ]
  }
 ],
 "metadata": {
  "kernelspec": {
   "display_name": "Python 3",
   "language": "python",
   "name": "python3"
  },
  "language_info": {
   "codemirror_mode": {
    "name": "ipython",
    "version": 3
   },
   "file_extension": ".py",
   "mimetype": "text/x-python",
   "name": "python",
   "nbconvert_exporter": "python",
   "pygments_lexer": "ipython3",
   "version": "3.6.6"
  }
 },
 "nbformat": 4,
 "nbformat_minor": 2
}
